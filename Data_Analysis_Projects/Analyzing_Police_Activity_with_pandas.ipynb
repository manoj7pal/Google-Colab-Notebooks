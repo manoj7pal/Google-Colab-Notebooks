{
  "nbformat": 4,
  "nbformat_minor": 0,
  "metadata": {
    "colab": {
      "name": "Analyzing Police Activity with pandas.ipynb",
      "provenance": [],
      "collapsed_sections": [],
      "authorship_tag": "ABX9TyOEMTjHjbexQ/0ydz0UYloT",
      "include_colab_link": true
    },
    "kernelspec": {
      "name": "python3",
      "display_name": "Python 3"
    }
  },
  "cells": [
    {
      "cell_type": "markdown",
      "metadata": {
        "id": "view-in-github",
        "colab_type": "text"
      },
      "source": [
        "<a href=\"https://colab.research.google.com/github/manoj7pal/Google-Colab-Notebooks/blob/master/Data_Analysis_Projects/Analyzing_Police_Activity_with_pandas.ipynb\" target=\"_parent\"><img src=\"https://colab.research.google.com/assets/colab-badge.svg\" alt=\"Open In Colab\"/></a>"
      ]
    },
    {
      "cell_type": "markdown",
      "metadata": {
        "id": "s7OMH6oWkxba",
        "colab_type": "text"
      },
      "source": [
        "# Analyzing Police Activity with pandas"
      ]
    },
    {
      "cell_type": "code",
      "metadata": {
        "id": "RuaoUAhplSnw",
        "colab_type": "code",
        "colab": {}
      },
      "source": [
        "import pandas as pd"
      ],
      "execution_count": 1,
      "outputs": []
    },
    {
      "cell_type": "markdown",
      "metadata": {
        "id": "go5sxjqGoQXY",
        "colab_type": "text"
      },
      "source": [
        "## 1. Load the Data"
      ]
    },
    {
      "cell_type": "code",
      "metadata": {
        "id": "wdM3VgTGk4NE",
        "colab_type": "code",
        "colab": {
          "base_uri": "https://localhost:8080/",
          "height": 34
        },
        "outputId": "168e0a93-a0eb-48dd-ab8a-6cae960e36e5"
      },
      "source": [
        "# Datasets\n",
        "\n",
        "police_stops_ri = pd.read_csv('https://assets.datacamp.com/production/repositories/1497/datasets/62bd9feef451860db02d26553613a299721882e8/police.csv', parse_dates = True)\n",
        "weather_ri = pd.read_csv('https://assets.datacamp.com/production/repositories/1497/datasets/02f3fb2d4416d3f6626e1117688e0386784e8e55/weather.csv', parse_dates = True)\n",
        "\n",
        "police_stops_ri.shape, weather_ri.shape"
      ],
      "execution_count": 2,
      "outputs": [
        {
          "output_type": "execute_result",
          "data": {
            "text/plain": [
              "((91741, 15), (4017, 27))"
            ]
          },
          "metadata": {
            "tags": []
          },
          "execution_count": 2
        }
      ]
    },
    {
      "cell_type": "code",
      "metadata": {
        "id": "R_Bp8maXlWTy",
        "colab_type": "code",
        "colab": {
          "base_uri": "https://localhost:8080/",
          "height": 299
        },
        "outputId": "3bec0add-1aa1-4e7b-c401-9a27de1df765"
      },
      "source": [
        "police_stops_ri.head()"
      ],
      "execution_count": 3,
      "outputs": [
        {
          "output_type": "execute_result",
          "data": {
            "text/html": [
              "<div>\n",
              "<style scoped>\n",
              "    .dataframe tbody tr th:only-of-type {\n",
              "        vertical-align: middle;\n",
              "    }\n",
              "\n",
              "    .dataframe tbody tr th {\n",
              "        vertical-align: top;\n",
              "    }\n",
              "\n",
              "    .dataframe thead th {\n",
              "        text-align: right;\n",
              "    }\n",
              "</style>\n",
              "<table border=\"1\" class=\"dataframe\">\n",
              "  <thead>\n",
              "    <tr style=\"text-align: right;\">\n",
              "      <th></th>\n",
              "      <th>state</th>\n",
              "      <th>stop_date</th>\n",
              "      <th>stop_time</th>\n",
              "      <th>county_name</th>\n",
              "      <th>driver_gender</th>\n",
              "      <th>driver_race</th>\n",
              "      <th>violation_raw</th>\n",
              "      <th>violation</th>\n",
              "      <th>search_conducted</th>\n",
              "      <th>search_type</th>\n",
              "      <th>stop_outcome</th>\n",
              "      <th>is_arrested</th>\n",
              "      <th>stop_duration</th>\n",
              "      <th>drugs_related_stop</th>\n",
              "      <th>district</th>\n",
              "    </tr>\n",
              "  </thead>\n",
              "  <tbody>\n",
              "    <tr>\n",
              "      <th>0</th>\n",
              "      <td>RI</td>\n",
              "      <td>2005-01-04</td>\n",
              "      <td>12:55</td>\n",
              "      <td>NaN</td>\n",
              "      <td>M</td>\n",
              "      <td>White</td>\n",
              "      <td>Equipment/Inspection Violation</td>\n",
              "      <td>Equipment</td>\n",
              "      <td>False</td>\n",
              "      <td>NaN</td>\n",
              "      <td>Citation</td>\n",
              "      <td>False</td>\n",
              "      <td>0-15 Min</td>\n",
              "      <td>False</td>\n",
              "      <td>Zone X4</td>\n",
              "    </tr>\n",
              "    <tr>\n",
              "      <th>1</th>\n",
              "      <td>RI</td>\n",
              "      <td>2005-01-23</td>\n",
              "      <td>23:15</td>\n",
              "      <td>NaN</td>\n",
              "      <td>M</td>\n",
              "      <td>White</td>\n",
              "      <td>Speeding</td>\n",
              "      <td>Speeding</td>\n",
              "      <td>False</td>\n",
              "      <td>NaN</td>\n",
              "      <td>Citation</td>\n",
              "      <td>False</td>\n",
              "      <td>0-15 Min</td>\n",
              "      <td>False</td>\n",
              "      <td>Zone K3</td>\n",
              "    </tr>\n",
              "    <tr>\n",
              "      <th>2</th>\n",
              "      <td>RI</td>\n",
              "      <td>2005-02-17</td>\n",
              "      <td>04:15</td>\n",
              "      <td>NaN</td>\n",
              "      <td>M</td>\n",
              "      <td>White</td>\n",
              "      <td>Speeding</td>\n",
              "      <td>Speeding</td>\n",
              "      <td>False</td>\n",
              "      <td>NaN</td>\n",
              "      <td>Citation</td>\n",
              "      <td>False</td>\n",
              "      <td>0-15 Min</td>\n",
              "      <td>False</td>\n",
              "      <td>Zone X4</td>\n",
              "    </tr>\n",
              "    <tr>\n",
              "      <th>3</th>\n",
              "      <td>RI</td>\n",
              "      <td>2005-02-20</td>\n",
              "      <td>17:15</td>\n",
              "      <td>NaN</td>\n",
              "      <td>M</td>\n",
              "      <td>White</td>\n",
              "      <td>Call for Service</td>\n",
              "      <td>Other</td>\n",
              "      <td>False</td>\n",
              "      <td>NaN</td>\n",
              "      <td>Arrest Driver</td>\n",
              "      <td>True</td>\n",
              "      <td>16-30 Min</td>\n",
              "      <td>False</td>\n",
              "      <td>Zone X1</td>\n",
              "    </tr>\n",
              "    <tr>\n",
              "      <th>4</th>\n",
              "      <td>RI</td>\n",
              "      <td>2005-02-24</td>\n",
              "      <td>01:20</td>\n",
              "      <td>NaN</td>\n",
              "      <td>F</td>\n",
              "      <td>White</td>\n",
              "      <td>Speeding</td>\n",
              "      <td>Speeding</td>\n",
              "      <td>False</td>\n",
              "      <td>NaN</td>\n",
              "      <td>Citation</td>\n",
              "      <td>False</td>\n",
              "      <td>0-15 Min</td>\n",
              "      <td>False</td>\n",
              "      <td>Zone X3</td>\n",
              "    </tr>\n",
              "  </tbody>\n",
              "</table>\n",
              "</div>"
            ],
            "text/plain": [
              "  state   stop_date stop_time  ...  stop_duration drugs_related_stop district\n",
              "0    RI  2005-01-04     12:55  ...       0-15 Min              False  Zone X4\n",
              "1    RI  2005-01-23     23:15  ...       0-15 Min              False  Zone K3\n",
              "2    RI  2005-02-17     04:15  ...       0-15 Min              False  Zone X4\n",
              "3    RI  2005-02-20     17:15  ...      16-30 Min              False  Zone X1\n",
              "4    RI  2005-02-24     01:20  ...       0-15 Min              False  Zone X3\n",
              "\n",
              "[5 rows x 15 columns]"
            ]
          },
          "metadata": {
            "tags": []
          },
          "execution_count": 3
        }
      ]
    },
    {
      "cell_type": "code",
      "metadata": {
        "id": "XmAwFk9AlbIZ",
        "colab_type": "code",
        "colab": {
          "base_uri": "https://localhost:8080/",
          "height": 299
        },
        "outputId": "6ed95c57-fd76-4717-bc1b-8f7ec951b4c2"
      },
      "source": [
        "weather_ri.head()"
      ],
      "execution_count": 4,
      "outputs": [
        {
          "output_type": "execute_result",
          "data": {
            "text/html": [
              "<div>\n",
              "<style scoped>\n",
              "    .dataframe tbody tr th:only-of-type {\n",
              "        vertical-align: middle;\n",
              "    }\n",
              "\n",
              "    .dataframe tbody tr th {\n",
              "        vertical-align: top;\n",
              "    }\n",
              "\n",
              "    .dataframe thead th {\n",
              "        text-align: right;\n",
              "    }\n",
              "</style>\n",
              "<table border=\"1\" class=\"dataframe\">\n",
              "  <thead>\n",
              "    <tr style=\"text-align: right;\">\n",
              "      <th></th>\n",
              "      <th>STATION</th>\n",
              "      <th>DATE</th>\n",
              "      <th>TAVG</th>\n",
              "      <th>TMIN</th>\n",
              "      <th>TMAX</th>\n",
              "      <th>AWND</th>\n",
              "      <th>WSF2</th>\n",
              "      <th>WT01</th>\n",
              "      <th>WT02</th>\n",
              "      <th>WT03</th>\n",
              "      <th>WT04</th>\n",
              "      <th>WT05</th>\n",
              "      <th>WT06</th>\n",
              "      <th>WT07</th>\n",
              "      <th>WT08</th>\n",
              "      <th>WT09</th>\n",
              "      <th>WT10</th>\n",
              "      <th>WT11</th>\n",
              "      <th>WT13</th>\n",
              "      <th>WT14</th>\n",
              "      <th>WT15</th>\n",
              "      <th>WT16</th>\n",
              "      <th>WT17</th>\n",
              "      <th>WT18</th>\n",
              "      <th>WT19</th>\n",
              "      <th>WT21</th>\n",
              "      <th>WT22</th>\n",
              "    </tr>\n",
              "  </thead>\n",
              "  <tbody>\n",
              "    <tr>\n",
              "      <th>0</th>\n",
              "      <td>USW00014765</td>\n",
              "      <td>2005-01-01</td>\n",
              "      <td>44.0</td>\n",
              "      <td>35</td>\n",
              "      <td>53</td>\n",
              "      <td>8.95</td>\n",
              "      <td>25.1</td>\n",
              "      <td>1.0</td>\n",
              "      <td>NaN</td>\n",
              "      <td>NaN</td>\n",
              "      <td>NaN</td>\n",
              "      <td>NaN</td>\n",
              "      <td>NaN</td>\n",
              "      <td>NaN</td>\n",
              "      <td>NaN</td>\n",
              "      <td>NaN</td>\n",
              "      <td>NaN</td>\n",
              "      <td>NaN</td>\n",
              "      <td>1.0</td>\n",
              "      <td>NaN</td>\n",
              "      <td>NaN</td>\n",
              "      <td>NaN</td>\n",
              "      <td>NaN</td>\n",
              "      <td>NaN</td>\n",
              "      <td>NaN</td>\n",
              "      <td>NaN</td>\n",
              "      <td>NaN</td>\n",
              "    </tr>\n",
              "    <tr>\n",
              "      <th>1</th>\n",
              "      <td>USW00014765</td>\n",
              "      <td>2005-01-02</td>\n",
              "      <td>36.0</td>\n",
              "      <td>28</td>\n",
              "      <td>44</td>\n",
              "      <td>9.40</td>\n",
              "      <td>14.1</td>\n",
              "      <td>NaN</td>\n",
              "      <td>NaN</td>\n",
              "      <td>NaN</td>\n",
              "      <td>NaN</td>\n",
              "      <td>NaN</td>\n",
              "      <td>NaN</td>\n",
              "      <td>NaN</td>\n",
              "      <td>NaN</td>\n",
              "      <td>NaN</td>\n",
              "      <td>NaN</td>\n",
              "      <td>NaN</td>\n",
              "      <td>NaN</td>\n",
              "      <td>NaN</td>\n",
              "      <td>NaN</td>\n",
              "      <td>1.0</td>\n",
              "      <td>NaN</td>\n",
              "      <td>1.0</td>\n",
              "      <td>NaN</td>\n",
              "      <td>NaN</td>\n",
              "      <td>NaN</td>\n",
              "    </tr>\n",
              "    <tr>\n",
              "      <th>2</th>\n",
              "      <td>USW00014765</td>\n",
              "      <td>2005-01-03</td>\n",
              "      <td>49.0</td>\n",
              "      <td>44</td>\n",
              "      <td>53</td>\n",
              "      <td>6.93</td>\n",
              "      <td>17.0</td>\n",
              "      <td>1.0</td>\n",
              "      <td>NaN</td>\n",
              "      <td>NaN</td>\n",
              "      <td>NaN</td>\n",
              "      <td>NaN</td>\n",
              "      <td>NaN</td>\n",
              "      <td>NaN</td>\n",
              "      <td>NaN</td>\n",
              "      <td>NaN</td>\n",
              "      <td>NaN</td>\n",
              "      <td>NaN</td>\n",
              "      <td>1.0</td>\n",
              "      <td>NaN</td>\n",
              "      <td>NaN</td>\n",
              "      <td>1.0</td>\n",
              "      <td>NaN</td>\n",
              "      <td>NaN</td>\n",
              "      <td>NaN</td>\n",
              "      <td>NaN</td>\n",
              "      <td>NaN</td>\n",
              "    </tr>\n",
              "    <tr>\n",
              "      <th>3</th>\n",
              "      <td>USW00014765</td>\n",
              "      <td>2005-01-04</td>\n",
              "      <td>42.0</td>\n",
              "      <td>39</td>\n",
              "      <td>45</td>\n",
              "      <td>6.93</td>\n",
              "      <td>16.1</td>\n",
              "      <td>1.0</td>\n",
              "      <td>NaN</td>\n",
              "      <td>NaN</td>\n",
              "      <td>NaN</td>\n",
              "      <td>NaN</td>\n",
              "      <td>NaN</td>\n",
              "      <td>NaN</td>\n",
              "      <td>NaN</td>\n",
              "      <td>NaN</td>\n",
              "      <td>NaN</td>\n",
              "      <td>NaN</td>\n",
              "      <td>1.0</td>\n",
              "      <td>1.0</td>\n",
              "      <td>NaN</td>\n",
              "      <td>1.0</td>\n",
              "      <td>NaN</td>\n",
              "      <td>NaN</td>\n",
              "      <td>NaN</td>\n",
              "      <td>NaN</td>\n",
              "      <td>NaN</td>\n",
              "    </tr>\n",
              "    <tr>\n",
              "      <th>4</th>\n",
              "      <td>USW00014765</td>\n",
              "      <td>2005-01-05</td>\n",
              "      <td>36.0</td>\n",
              "      <td>28</td>\n",
              "      <td>43</td>\n",
              "      <td>7.83</td>\n",
              "      <td>17.0</td>\n",
              "      <td>1.0</td>\n",
              "      <td>NaN</td>\n",
              "      <td>NaN</td>\n",
              "      <td>NaN</td>\n",
              "      <td>NaN</td>\n",
              "      <td>NaN</td>\n",
              "      <td>NaN</td>\n",
              "      <td>NaN</td>\n",
              "      <td>NaN</td>\n",
              "      <td>NaN</td>\n",
              "      <td>NaN</td>\n",
              "      <td>1.0</td>\n",
              "      <td>NaN</td>\n",
              "      <td>NaN</td>\n",
              "      <td>1.0</td>\n",
              "      <td>NaN</td>\n",
              "      <td>1.0</td>\n",
              "      <td>NaN</td>\n",
              "      <td>NaN</td>\n",
              "      <td>NaN</td>\n",
              "    </tr>\n",
              "  </tbody>\n",
              "</table>\n",
              "</div>"
            ],
            "text/plain": [
              "       STATION        DATE  TAVG  TMIN  TMAX  ...  WT17  WT18  WT19  WT21  WT22\n",
              "0  USW00014765  2005-01-01  44.0    35    53  ...   NaN   NaN   NaN   NaN   NaN\n",
              "1  USW00014765  2005-01-02  36.0    28    44  ...   NaN   1.0   NaN   NaN   NaN\n",
              "2  USW00014765  2005-01-03  49.0    44    53  ...   NaN   NaN   NaN   NaN   NaN\n",
              "3  USW00014765  2005-01-04  42.0    39    45  ...   NaN   NaN   NaN   NaN   NaN\n",
              "4  USW00014765  2005-01-05  36.0    28    43  ...   NaN   1.0   NaN   NaN   NaN\n",
              "\n",
              "[5 rows x 27 columns]"
            ]
          },
          "metadata": {
            "tags": []
          },
          "execution_count": 4
        }
      ]
    },
    {
      "cell_type": "markdown",
      "metadata": {
        "id": "OZtrU8aEn-7D",
        "colab_type": "text"
      },
      "source": [
        "## 2. Preparing the Data\n",
        "  a. Examine the Data.<br/> \n",
        "  b. Clean the Data. "
      ]
    },
    {
      "cell_type": "code",
      "metadata": {
        "id": "Hallt_JWooE8",
        "colab_type": "code",
        "colab": {
          "base_uri": "https://localhost:8080/",
          "height": 298
        },
        "outputId": "d534a375-6d48-437c-86e4-dd556702cb43"
      },
      "source": [
        "# Locate missing Values\n",
        "print(police_stops_ri.isna().sum())\n",
        "# print(weather_ri.isna().sum())"
      ],
      "execution_count": 5,
      "outputs": [
        {
          "output_type": "stream",
          "text": [
            "state                     0\n",
            "stop_date                 0\n",
            "stop_time                 0\n",
            "county_name           91741\n",
            "driver_gender          5205\n",
            "driver_race            5202\n",
            "violation_raw          5202\n",
            "violation              5202\n",
            "search_conducted          0\n",
            "search_type           88434\n",
            "stop_outcome           5202\n",
            "is_arrested            5202\n",
            "stop_duration          5202\n",
            "drugs_related_stop        0\n",
            "district                  0\n",
            "dtype: int64\n"
          ],
          "name": "stdout"
        }
      ]
    },
    {
      "cell_type": "code",
      "metadata": {
        "id": "UWxWnkfUqQRq",
        "colab_type": "code",
        "colab": {
          "base_uri": "https://localhost:8080/",
          "height": 87
        },
        "outputId": "c785acbf-5c1f-4621-877e-ccfa73cea687"
      },
      "source": [
        "police_stops_ri.groupby('search_conducted').search_type.count()\n",
        "\n",
        "# Conclusion:  When Search Conducted is NO, then SEarch type is NaN, otherwise it has some values. SO we will keep this value."
      ],
      "execution_count": 6,
      "outputs": [
        {
          "output_type": "execute_result",
          "data": {
            "text/plain": [
              "search_conducted\n",
              "False       0\n",
              "True     3307\n",
              "Name: search_type, dtype: int64"
            ]
          },
          "metadata": {
            "tags": []
          },
          "execution_count": 6
        }
      ]
    },
    {
      "cell_type": "code",
      "metadata": {
        "id": "kxysa8MUohqD",
        "colab_type": "code",
        "colab": {
          "base_uri": "https://localhost:8080/",
          "height": 52
        },
        "outputId": "db1247d7-1c00-4bdb-ca2d-e9e0ebc6ed1f"
      },
      "source": [
        "\"\"\" \n",
        "Drop irrelevant columns\n",
        "  - County name: Missing Values\n",
        "  - State: Dataset is of RI only\n",
        "  - search_type: Lots of missing values  - but it has dependecy on Search Conducted fields. Refer above cell.\n",
        "\"\"\"\n",
        "print(police_stops_ri.shape)\n",
        "police_stops_ri.drop(labels = ['state', 'county_name'], axis = 'columns', inplace=True)\n",
        "print(police_stops_ri.shape)"
      ],
      "execution_count": 7,
      "outputs": [
        {
          "output_type": "stream",
          "text": [
            "(91741, 15)\n",
            "(91741, 13)\n"
          ],
          "name": "stdout"
        }
      ]
    },
    {
      "cell_type": "code",
      "metadata": {
        "id": "2XY00dMBogHd",
        "colab_type": "code",
        "colab": {
          "base_uri": "https://localhost:8080/",
          "height": 281
        },
        "outputId": "a3ec8b0f-9d97-45c7-f449-71478bf1cb65"
      },
      "source": [
        "\"\"\"\n",
        "The driver_gender column will be critical to many of your analyses. Because only a small fraction of rows are missing driver_gender, we'll drop those rows from the dataset.\n",
        "\"\"\"\n",
        "\n",
        "police_stops_ri.dropna(subset = ['driver_gender'], axis= 'rows', inplace=True)\n",
        "print(police_stops_ri.shape)\n",
        "print(police_stops_ri.isna().sum())"
      ],
      "execution_count": 8,
      "outputs": [
        {
          "output_type": "stream",
          "text": [
            "(86536, 13)\n",
            "stop_date                 0\n",
            "stop_time                 0\n",
            "driver_gender             0\n",
            "driver_race               0\n",
            "violation_raw             0\n",
            "violation                 0\n",
            "search_conducted          0\n",
            "search_type           83229\n",
            "stop_outcome              0\n",
            "is_arrested               0\n",
            "stop_duration             0\n",
            "drugs_related_stop        0\n",
            "district                  0\n",
            "dtype: int64\n"
          ],
          "name": "stdout"
        }
      ]
    },
    {
      "cell_type": "code",
      "metadata": {
        "id": "PCW2-Ndmt7qY",
        "colab_type": "code",
        "colab": {
          "base_uri": "https://localhost:8080/",
          "height": 386
        },
        "outputId": "74167a41-05d7-47be-8b50-e4055a24da39"
      },
      "source": [
        "print(police_stops_ri.info())"
      ],
      "execution_count": 9,
      "outputs": [
        {
          "output_type": "stream",
          "text": [
            "<class 'pandas.core.frame.DataFrame'>\n",
            "Int64Index: 86536 entries, 0 to 91740\n",
            "Data columns (total 13 columns):\n",
            " #   Column              Non-Null Count  Dtype \n",
            "---  ------              --------------  ----- \n",
            " 0   stop_date           86536 non-null  object\n",
            " 1   stop_time           86536 non-null  object\n",
            " 2   driver_gender       86536 non-null  object\n",
            " 3   driver_race         86536 non-null  object\n",
            " 4   violation_raw       86536 non-null  object\n",
            " 5   violation           86536 non-null  object\n",
            " 6   search_conducted    86536 non-null  bool  \n",
            " 7   search_type         3307 non-null   object\n",
            " 8   stop_outcome        86536 non-null  object\n",
            " 9   is_arrested         86536 non-null  object\n",
            " 10  stop_duration       86536 non-null  object\n",
            " 11  drugs_related_stop  86536 non-null  bool  \n",
            " 12  district            86536 non-null  object\n",
            "dtypes: bool(2), object(11)\n",
            "memory usage: 8.1+ MB\n",
            "None\n"
          ],
          "name": "stdout"
        }
      ]
    },
    {
      "cell_type": "code",
      "metadata": {
        "id": "HK3XOGeGuvy1",
        "colab_type": "code",
        "colab": {
          "base_uri": "https://localhost:8080/",
          "height": 386
        },
        "outputId": "f8c22ef8-1c78-4b7d-961f-5864144c29ef"
      },
      "source": [
        "# Fixing Data Types\n",
        "  # Stop Date and time to Date time\n",
        "  # is-arrested  to bool\n",
        "\n",
        "# police_stops_ri['stop_date'] = pd.to_datetime(police_stops_ri.stop_date)\n",
        "# police_stops_ri['stop_time'] = pd.to_datetime(police_stops_ri.stop_time)\n",
        "\n",
        "police_stops_ri['is_arrested'] = police_stops_ri.is_arrested.astype('bool')\n",
        "\n",
        "print(police_stops_ri.info())"
      ],
      "execution_count": 10,
      "outputs": [
        {
          "output_type": "stream",
          "text": [
            "<class 'pandas.core.frame.DataFrame'>\n",
            "Int64Index: 86536 entries, 0 to 91740\n",
            "Data columns (total 13 columns):\n",
            " #   Column              Non-Null Count  Dtype \n",
            "---  ------              --------------  ----- \n",
            " 0   stop_date           86536 non-null  object\n",
            " 1   stop_time           86536 non-null  object\n",
            " 2   driver_gender       86536 non-null  object\n",
            " 3   driver_race         86536 non-null  object\n",
            " 4   violation_raw       86536 non-null  object\n",
            " 5   violation           86536 non-null  object\n",
            " 6   search_conducted    86536 non-null  bool  \n",
            " 7   search_type         3307 non-null   object\n",
            " 8   stop_outcome        86536 non-null  object\n",
            " 9   is_arrested         86536 non-null  bool  \n",
            " 10  stop_duration       86536 non-null  object\n",
            " 11  drugs_related_stop  86536 non-null  bool  \n",
            " 12  district            86536 non-null  object\n",
            "dtypes: bool(3), object(10)\n",
            "memory usage: 7.5+ MB\n",
            "None\n"
          ],
          "name": "stdout"
        }
      ]
    },
    {
      "cell_type": "code",
      "metadata": {
        "id": "Z1PR8WxOt5gx",
        "colab_type": "code",
        "colab": {
          "base_uri": "https://localhost:8080/",
          "height": 329
        },
        "outputId": "0042dd77-a34c-4621-e796-515bb31b728e"
      },
      "source": [
        "# Combine stop_date and time - Convert to datetime format - Creating a DateTimeIndex \n",
        "\n",
        "police_stops_ri['stop_date_time'] = police_stops_ri.stop_date.str.cat(police_stops_ri.stop_time, sep= ' ')\n",
        "police_stops_ri['stop_date_time'] = pd.to_datetime(police_stops_ri['stop_date_time'])\n",
        "police_stops_ri.set_index('stop_date_time', inplace = True)\n",
        "\n",
        "#police_stops_ri.drop(labels = ['stop_date', 'stop_time'], axis = 'columns', inplace=True)\n",
        "police_stops_ri.head()"
      ],
      "execution_count": 11,
      "outputs": [
        {
          "output_type": "execute_result",
          "data": {
            "text/html": [
              "<div>\n",
              "<style scoped>\n",
              "    .dataframe tbody tr th:only-of-type {\n",
              "        vertical-align: middle;\n",
              "    }\n",
              "\n",
              "    .dataframe tbody tr th {\n",
              "        vertical-align: top;\n",
              "    }\n",
              "\n",
              "    .dataframe thead th {\n",
              "        text-align: right;\n",
              "    }\n",
              "</style>\n",
              "<table border=\"1\" class=\"dataframe\">\n",
              "  <thead>\n",
              "    <tr style=\"text-align: right;\">\n",
              "      <th></th>\n",
              "      <th>stop_date</th>\n",
              "      <th>stop_time</th>\n",
              "      <th>driver_gender</th>\n",
              "      <th>driver_race</th>\n",
              "      <th>violation_raw</th>\n",
              "      <th>violation</th>\n",
              "      <th>search_conducted</th>\n",
              "      <th>search_type</th>\n",
              "      <th>stop_outcome</th>\n",
              "      <th>is_arrested</th>\n",
              "      <th>stop_duration</th>\n",
              "      <th>drugs_related_stop</th>\n",
              "      <th>district</th>\n",
              "    </tr>\n",
              "    <tr>\n",
              "      <th>stop_date_time</th>\n",
              "      <th></th>\n",
              "      <th></th>\n",
              "      <th></th>\n",
              "      <th></th>\n",
              "      <th></th>\n",
              "      <th></th>\n",
              "      <th></th>\n",
              "      <th></th>\n",
              "      <th></th>\n",
              "      <th></th>\n",
              "      <th></th>\n",
              "      <th></th>\n",
              "      <th></th>\n",
              "    </tr>\n",
              "  </thead>\n",
              "  <tbody>\n",
              "    <tr>\n",
              "      <th>2005-01-04 12:55:00</th>\n",
              "      <td>2005-01-04</td>\n",
              "      <td>12:55</td>\n",
              "      <td>M</td>\n",
              "      <td>White</td>\n",
              "      <td>Equipment/Inspection Violation</td>\n",
              "      <td>Equipment</td>\n",
              "      <td>False</td>\n",
              "      <td>NaN</td>\n",
              "      <td>Citation</td>\n",
              "      <td>False</td>\n",
              "      <td>0-15 Min</td>\n",
              "      <td>False</td>\n",
              "      <td>Zone X4</td>\n",
              "    </tr>\n",
              "    <tr>\n",
              "      <th>2005-01-23 23:15:00</th>\n",
              "      <td>2005-01-23</td>\n",
              "      <td>23:15</td>\n",
              "      <td>M</td>\n",
              "      <td>White</td>\n",
              "      <td>Speeding</td>\n",
              "      <td>Speeding</td>\n",
              "      <td>False</td>\n",
              "      <td>NaN</td>\n",
              "      <td>Citation</td>\n",
              "      <td>False</td>\n",
              "      <td>0-15 Min</td>\n",
              "      <td>False</td>\n",
              "      <td>Zone K3</td>\n",
              "    </tr>\n",
              "    <tr>\n",
              "      <th>2005-02-17 04:15:00</th>\n",
              "      <td>2005-02-17</td>\n",
              "      <td>04:15</td>\n",
              "      <td>M</td>\n",
              "      <td>White</td>\n",
              "      <td>Speeding</td>\n",
              "      <td>Speeding</td>\n",
              "      <td>False</td>\n",
              "      <td>NaN</td>\n",
              "      <td>Citation</td>\n",
              "      <td>False</td>\n",
              "      <td>0-15 Min</td>\n",
              "      <td>False</td>\n",
              "      <td>Zone X4</td>\n",
              "    </tr>\n",
              "    <tr>\n",
              "      <th>2005-02-20 17:15:00</th>\n",
              "      <td>2005-02-20</td>\n",
              "      <td>17:15</td>\n",
              "      <td>M</td>\n",
              "      <td>White</td>\n",
              "      <td>Call for Service</td>\n",
              "      <td>Other</td>\n",
              "      <td>False</td>\n",
              "      <td>NaN</td>\n",
              "      <td>Arrest Driver</td>\n",
              "      <td>True</td>\n",
              "      <td>16-30 Min</td>\n",
              "      <td>False</td>\n",
              "      <td>Zone X1</td>\n",
              "    </tr>\n",
              "    <tr>\n",
              "      <th>2005-02-24 01:20:00</th>\n",
              "      <td>2005-02-24</td>\n",
              "      <td>01:20</td>\n",
              "      <td>F</td>\n",
              "      <td>White</td>\n",
              "      <td>Speeding</td>\n",
              "      <td>Speeding</td>\n",
              "      <td>False</td>\n",
              "      <td>NaN</td>\n",
              "      <td>Citation</td>\n",
              "      <td>False</td>\n",
              "      <td>0-15 Min</td>\n",
              "      <td>False</td>\n",
              "      <td>Zone X3</td>\n",
              "    </tr>\n",
              "  </tbody>\n",
              "</table>\n",
              "</div>"
            ],
            "text/plain": [
              "                      stop_date stop_time  ... drugs_related_stop district\n",
              "stop_date_time                             ...                            \n",
              "2005-01-04 12:55:00  2005-01-04     12:55  ...              False  Zone X4\n",
              "2005-01-23 23:15:00  2005-01-23     23:15  ...              False  Zone K3\n",
              "2005-02-17 04:15:00  2005-02-17     04:15  ...              False  Zone X4\n",
              "2005-02-20 17:15:00  2005-02-20     17:15  ...              False  Zone X1\n",
              "2005-02-24 01:20:00  2005-02-24     01:20  ...              False  Zone X3\n",
              "\n",
              "[5 rows x 13 columns]"
            ]
          },
          "metadata": {
            "tags": []
          },
          "execution_count": 11
        }
      ]
    },
    {
      "cell_type": "markdown",
      "metadata": {
        "id": "J1KePjU81ZrM",
        "colab_type": "text"
      },
      "source": [
        "## 3. Analysis\n",
        "  \n"
      ]
    },
    {
      "cell_type": "markdown",
      "metadata": {
        "id": "an9mNsW_JHC7",
        "colab_type": "text"
      },
      "source": [
        "- #### **1. Does the genders affects the Speeding Violation - Outcomes?**"
      ]
    },
    {
      "cell_type": "code",
      "metadata": {
        "id": "WT84yqIv1YI4",
        "colab_type": "code",
        "colab": {
          "base_uri": "https://localhost:8080/",
          "height": 140
        },
        "outputId": "d447dd56-1f46-4801-9742-f7e82139879c"
      },
      "source": [
        "# Unique Values: Suited for Categorical values\n",
        "print(police_stops_ri.violation.value_counts())"
      ],
      "execution_count": 12,
      "outputs": [
        {
          "output_type": "stream",
          "text": [
            "Speeding               48423\n",
            "Moving violation       16224\n",
            "Equipment              10921\n",
            "Other                   4409\n",
            "Registration/plates     3703\n",
            "Seat belt               2856\n",
            "Name: violation, dtype: int64\n"
          ],
          "name": "stdout"
        }
      ]
    },
    {
      "cell_type": "code",
      "metadata": {
        "id": "GWlQWiljakoD",
        "colab_type": "code",
        "colab": {
          "base_uri": "https://localhost:8080/",
          "height": 140
        },
        "outputId": "669a79ac-d5e9-4dd6-aaef-b7e617c6439d"
      },
      "source": [
        "print(police_stops_ri.violation.value_counts(normalize=True) * 100)"
      ],
      "execution_count": 13,
      "outputs": [
        {
          "output_type": "stream",
          "text": [
            "Speeding               55.957058\n",
            "Moving violation       18.748267\n",
            "Equipment              12.620181\n",
            "Other                   5.094989\n",
            "Registration/plates     4.279144\n",
            "Seat belt               3.300361\n",
            "Name: violation, dtype: float64\n"
          ],
          "name": "stdout"
        }
      ]
    },
    {
      "cell_type": "code",
      "metadata": {
        "id": "9E3V7kelnog7",
        "colab_type": "code",
        "colab": {
          "base_uri": "https://localhost:8080/",
          "height": 140
        },
        "outputId": "55913a76-5127-46eb-a31f-6dcafccaf4ee"
      },
      "source": [
        "# Proportion or Percentages of Values of a column\n",
        "print(police_stops_ri.stop_outcome.value_counts(normalize=True) * 100)"
      ],
      "execution_count": 14,
      "outputs": [
        {
          "output_type": "stream",
          "text": [
            "Citation            89.085467\n",
            "Warning              5.935102\n",
            "Arrest Driver        3.160534\n",
            "No Action            0.721087\n",
            "N/D                  0.701442\n",
            "Arrest Passenger     0.396367\n",
            "Name: stop_outcome, dtype: float64\n"
          ],
          "name": "stdout"
        }
      ]
    },
    {
      "cell_type": "code",
      "metadata": {
        "id": "W9Deo8ulTdrH",
        "colab_type": "code",
        "colab": {
          "base_uri": "https://localhost:8080/",
          "height": 122
        },
        "outputId": "5fe1ee8f-4a90-47bb-a026-325bc3918a30"
      },
      "source": [
        "# Speeding and Gender Wise - Outcome Proportion\n",
        "male_speeding = police_stops_ri[ (police_stops_ri.driver_gender == 'M') & (police_stops_ri.violation == 'Speeding') ]\n",
        "female_speeding = police_stops_ri[ (police_stops_ri.driver_gender == 'F') & (police_stops_ri.violation == 'Speeding') ]\n",
        "\n",
        "all = pd.DataFrame()\n",
        "all['Male %'] = male_speeding.stop_outcome.value_counts(normalize=True) * 100\n",
        "all['Female %'] = female_speeding.stop_outcome.value_counts(normalize=True) * 100\n",
        "\n",
        "print(all.head())\n",
        "\n",
        "# Conclusion:  NO - When commited Speeding Violations, the outcome remains the same for both the genders."
      ],
      "execution_count": 15,
      "outputs": [
        {
          "output_type": "stream",
          "text": [
            "                     Male %   Female %\n",
            "Citation          94.459530  95.219225\n",
            "Warning            3.618391   4.007414\n",
            "Arrest Driver      1.589529   0.575227\n",
            "Arrest Passenger   0.128139   0.063914\n",
            "No Action          0.106782   0.038348\n"
          ],
          "name": "stdout"
        }
      ]
    },
    {
      "cell_type": "markdown",
      "metadata": {
        "id": "NEnzcyCjtdEG",
        "colab_type": "text"
      },
      "source": [
        "- #### **2. Does the genders commit different violations?**"
      ]
    },
    {
      "cell_type": "code",
      "metadata": {
        "id": "7CaPbL6YudIi",
        "colab_type": "code",
        "colab": {
          "base_uri": "https://localhost:8080/",
          "height": 140
        },
        "outputId": "94e432d5-87ba-4bd0-eba0-99dd2793d849"
      },
      "source": [
        "# Gender Wise Violations %\n",
        "male = police_stops_ri[(police_stops_ri.driver_gender == 'M')]\n",
        "female = police_stops_ri[(police_stops_ri.driver_gender == 'F')]\n",
        "\n",
        "all = pd.DataFrame()\n",
        "all['Male %'] = male.violation.value_counts(normalize=True) * 100\n",
        "all['Female %'] = female.violation.value_counts(normalize=True) * 100\n",
        "print(all)\n",
        "\n",
        "# Conclusion:  Female driveres tend to breach Speeding Violations more than Male drivers, whereas the case is otherwise for Moving Violations."
      ],
      "execution_count": 16,
      "outputs": [
        {
          "output_type": "stream",
          "text": [
            "                        Male %   Female %\n",
            "Speeding             52.224276  65.811391\n",
            "Moving violation     20.614385  13.821822\n",
            "Equipment            13.415761  10.519896\n",
            "Other                 5.898474   2.973837\n",
            "Registration/plates   4.217520   4.441827\n",
            "Seat belt             3.629585   2.431227\n"
          ],
          "name": "stdout"
        }
      ]
    },
    {
      "cell_type": "markdown",
      "metadata": {
        "id": "K24iVuJnu-jq",
        "colab_type": "text"
      },
      "source": [
        "- #### **3. Does the genders affects Arrest - for different violations?**"
      ]
    },
    {
      "cell_type": "code",
      "metadata": {
        "id": "GfLRRfOMtdhQ",
        "colab_type": "code",
        "colab": {
          "base_uri": "https://localhost:8080/",
          "height": 140
        },
        "outputId": "65837cbd-16cb-494b-8f71-4230040d51ac"
      },
      "source": [
        "# Arrest % - Gender Wise\n",
        "male_arrest = police_stops_ri[(police_stops_ri.driver_gender == 'M') & (police_stops_ri.is_arrested == True)]\n",
        "female_arrest = police_stops_ri[(police_stops_ri.driver_gender == 'F') & (police_stops_ri.is_arrested == True)]\n",
        "\n",
        "all = pd.DataFrame()\n",
        "all['Male %'] = male_arrest.violation.value_counts(normalize=True) * 100\n",
        "all['Female %'] = female_arrest.violation.value_counts(normalize=True) * 100\n",
        "print(all)\n",
        "\n",
        "# Conclusion:  NO, exception being Speeeding violations - in which there are more Male arrests than females."
      ],
      "execution_count": 17,
      "outputs": [
        {
          "output_type": "stream",
          "text": [
            "                        Male %   Female %\n",
            "Moving violation     30.136986  31.988042\n",
            "Speeding             23.370693  14.947683\n",
            "Equipment            22.415940  25.261584\n",
            "Other                11.207970  12.107623\n",
            "Registration/plates  10.294728  13.751868\n",
            "Seat belt             2.573682   1.943199\n"
          ],
          "name": "stdout"
        }
      ]
    },
    {
      "cell_type": "markdown",
      "metadata": {
        "id": "4kdI5scftGMW",
        "colab_type": "text"
      },
      "source": [
        "- #### **4. Does Gender affects whose vehicle is searched ?**</br>\n"
      ]
    },
    {
      "cell_type": "code",
      "metadata": {
        "id": "M79q-VQYtU0F",
        "colab_type": "code",
        "colab": {
          "base_uri": "https://localhost:8080/",
          "height": 70
        },
        "outputId": "037394be-2d22-4813-e7f2-1f14a1daefa4"
      },
      "source": [
        "all = pd.DataFrame()\n",
        "all['Male %'] = male.search_conducted.value_counts(normalize=True) * 100\n",
        "all['Female %'] = female.search_conducted.value_counts(normalize=True) * 100\n",
        "all['Total %'] = police_stops_ri.search_conducted.value_counts(normalize=True) * 100\n",
        "print(all)\n",
        "\n",
        "# Conclusion:  Male driver vehicles are searched more than twice as female driers. Below analaysis shows the male drivers search rate is the same for different violations."
      ],
      "execution_count": 18,
      "outputs": [
        {
          "output_type": "stream",
          "text": [
            "          Male %   Female %    Total %\n",
            "False  95.457442  98.081938  96.178469\n",
            "True    4.542558   1.918062   3.821531\n"
          ],
          "name": "stdout"
        }
      ]
    },
    {
      "cell_type": "code",
      "metadata": {
        "id": "3LXzO7OV0P9u",
        "colab_type": "code",
        "colab": {
          "base_uri": "https://localhost:8080/",
          "height": 34
        },
        "outputId": "b4da301e-fcd6-443b-e96c-c914a7707a1a"
      },
      "source": [
        "police_stops_ri.search_conducted.mean() * 100 # Total Search Rate"
      ],
      "execution_count": 19,
      "outputs": [
        {
          "output_type": "execute_result",
          "data": {
            "text/plain": [
              "3.82153092354627"
            ]
          },
          "metadata": {
            "tags": []
          },
          "execution_count": 19
        }
      ]
    },
    {
      "cell_type": "code",
      "metadata": {
        "id": "4Vr7DJy4z8jP",
        "colab_type": "code",
        "colab": {
          "base_uri": "https://localhost:8080/",
          "height": 34
        },
        "outputId": "3f60a9bd-f977-42c9-8697-15f7bf681f9f"
      },
      "source": [
        "male.search_conducted.mean() * 100 # Male Search Rate"
      ],
      "execution_count": 20,
      "outputs": [
        {
          "output_type": "execute_result",
          "data": {
            "text/plain": [
              "4.542557598546892"
            ]
          },
          "metadata": {
            "tags": []
          },
          "execution_count": 20
        }
      ]
    },
    {
      "cell_type": "code",
      "metadata": {
        "id": "A7DRz1r1z_03",
        "colab_type": "code",
        "colab": {
          "base_uri": "https://localhost:8080/",
          "height": 34
        },
        "outputId": "1884b5d7-5e2c-4f39-9f35-c6b03c8fa4d8"
      },
      "source": [
        "female.search_conducted.mean() * 100  # Female Search Rate"
      ],
      "execution_count": 21,
      "outputs": [
        {
          "output_type": "execute_result",
          "data": {
            "text/plain": [
              "1.9180617481282074"
            ]
          },
          "metadata": {
            "tags": []
          },
          "execution_count": 21
        }
      ]
    },
    {
      "cell_type": "code",
      "metadata": {
        "id": "B8kbbZrL0_pG",
        "colab_type": "code",
        "colab": {
          "base_uri": "https://localhost:8080/",
          "height": 87
        },
        "outputId": "bf0bc58f-15b0-49fe-8544-ff96e2cc0b2f"
      },
      "source": [
        "police_stops_ri.groupby('driver_gender').search_conducted.mean() * 100"
      ],
      "execution_count": 22,
      "outputs": [
        {
          "output_type": "execute_result",
          "data": {
            "text/plain": [
              "driver_gender\n",
              "F    1.918062\n",
              "M    4.542558\n",
              "Name: search_conducted, dtype: float64"
            ]
          },
          "metadata": {
            "tags": []
          },
          "execution_count": 22
        }
      ]
    },
    {
      "cell_type": "markdown",
      "metadata": {
        "id": "Gg5CQE161rkL",
        "colab_type": "text"
      },
      "source": [
        "###### Conclusion: Wow! Male drivers are searched more than twice as often as female drivers. Why might this be?"
      ]
    },
    {
      "cell_type": "code",
      "metadata": {
        "id": "2AMeJKLh1RrD",
        "colab_type": "code",
        "colab": {
          "base_uri": "https://localhost:8080/",
          "height": 263
        },
        "outputId": "f22bef69-80dc-4317-872a-7e2a4c7b796b"
      },
      "source": [
        "# Calculate the search rate for each combination of gender and violation\n",
        "print(police_stops_ri.groupby([ 'violation', 'driver_gender']).search_conducted.mean() * 100)"
      ],
      "execution_count": 23,
      "outputs": [
        {
          "output_type": "stream",
          "text": [
            "violation            driver_gender\n",
            "Equipment            F                 3.998401\n",
            "                     M                 7.149644\n",
            "Moving violation     F                 3.925746\n",
            "                     M                 6.152419\n",
            "Other                F                 4.101839\n",
            "                     M                 4.619125\n",
            "Registration/plates  F                 5.492424\n",
            "                     M                10.880242\n",
            "Seat belt            F                 1.730104\n",
            "                     M                 3.511853\n",
            "Speeding             F                 0.830883\n",
            "                     M                 2.788541\n",
            "Name: search_conducted, dtype: float64\n"
          ],
          "name": "stdout"
        }
      ]
    },
    {
      "cell_type": "markdown",
      "metadata": {
        "id": "Ct8pRO9XTFj6",
        "colab_type": "text"
      },
      "source": [
        "- #### **5. Does gender affect who is frisked during a search?**\n"
      ]
    },
    {
      "cell_type": "code",
      "metadata": {
        "id": "KcJRTjGJVmWi",
        "colab_type": "code",
        "colab": {
          "base_uri": "https://localhost:8080/",
          "height": 545
        },
        "outputId": "0e70556a-77c5-4ea3-a88d-004590075b8f"
      },
      "source": [
        "police_stops_ri.search_conducted.value_counts(), police_stops_ri.search_type.value_counts(dropna = False)"
      ],
      "execution_count": 24,
      "outputs": [
        {
          "output_type": "execute_result",
          "data": {
            "text/plain": [
              "(False    83229\n",
              " True      3307\n",
              " Name: search_conducted, dtype: int64,\n",
              " NaN                                                         83229\n",
              " Incident to Arrest                                           1290\n",
              " Probable Cause                                                924\n",
              " Inventory                                                     219\n",
              " Reasonable Suspicion                                          214\n",
              " Protective Frisk                                              164\n",
              " Incident to Arrest,Inventory                                  123\n",
              " Incident to Arrest,Probable Cause                             100\n",
              " Probable Cause,Reasonable Suspicion                            54\n",
              " Probable Cause,Protective Frisk                                35\n",
              " Incident to Arrest,Inventory,Probable Cause                    35\n",
              " Incident to Arrest,Protective Frisk                            33\n",
              " Inventory,Probable Cause                                       25\n",
              " Protective Frisk,Reasonable Suspicion                          19\n",
              " Incident to Arrest,Inventory,Protective Frisk                  18\n",
              " Incident to Arrest,Probable Cause,Protective Frisk             13\n",
              " Inventory,Protective Frisk                                     12\n",
              " Incident to Arrest,Reasonable Suspicion                         8\n",
              " Probable Cause,Protective Frisk,Reasonable Suspicion            5\n",
              " Incident to Arrest,Probable Cause,Reasonable Suspicion          5\n",
              " Incident to Arrest,Inventory,Reasonable Suspicion               4\n",
              " Incident to Arrest,Protective Frisk,Reasonable Suspicion        2\n",
              " Inventory,Reasonable Suspicion                                  2\n",
              " Inventory,Protective Frisk,Reasonable Suspicion                 1\n",
              " Inventory,Probable Cause,Reasonable Suspicion                   1\n",
              " Inventory,Probable Cause,Protective Frisk                       1\n",
              " Name: search_type, dtype: int64)"
            ]
          },
          "metadata": {
            "tags": []
          },
          "execution_count": 24
        }
      ]
    },
    {
      "cell_type": "code",
      "metadata": {
        "id": "HPwNLJWbTK4h",
        "colab_type": "code",
        "colab": {
          "base_uri": "https://localhost:8080/",
          "height": 97
        },
        "outputId": "a84006cc-6542-44d8-f3d2-e7856669a471"
      },
      "source": [
        "# When Search Conducted is False, then Search type is NaN --> Hence, No rows for below case.\n",
        "\n",
        "police_stops_ri[(police_stops_ri.search_conducted == True) & (police_stops_ri.search_type.isna())]"
      ],
      "execution_count": 25,
      "outputs": [
        {
          "output_type": "execute_result",
          "data": {
            "text/html": [
              "<div>\n",
              "<style scoped>\n",
              "    .dataframe tbody tr th:only-of-type {\n",
              "        vertical-align: middle;\n",
              "    }\n",
              "\n",
              "    .dataframe tbody tr th {\n",
              "        vertical-align: top;\n",
              "    }\n",
              "\n",
              "    .dataframe thead th {\n",
              "        text-align: right;\n",
              "    }\n",
              "</style>\n",
              "<table border=\"1\" class=\"dataframe\">\n",
              "  <thead>\n",
              "    <tr style=\"text-align: right;\">\n",
              "      <th></th>\n",
              "      <th>stop_date</th>\n",
              "      <th>stop_time</th>\n",
              "      <th>driver_gender</th>\n",
              "      <th>driver_race</th>\n",
              "      <th>violation_raw</th>\n",
              "      <th>violation</th>\n",
              "      <th>search_conducted</th>\n",
              "      <th>search_type</th>\n",
              "      <th>stop_outcome</th>\n",
              "      <th>is_arrested</th>\n",
              "      <th>stop_duration</th>\n",
              "      <th>drugs_related_stop</th>\n",
              "      <th>district</th>\n",
              "    </tr>\n",
              "    <tr>\n",
              "      <th>stop_date_time</th>\n",
              "      <th></th>\n",
              "      <th></th>\n",
              "      <th></th>\n",
              "      <th></th>\n",
              "      <th></th>\n",
              "      <th></th>\n",
              "      <th></th>\n",
              "      <th></th>\n",
              "      <th></th>\n",
              "      <th></th>\n",
              "      <th></th>\n",
              "      <th></th>\n",
              "      <th></th>\n",
              "    </tr>\n",
              "  </thead>\n",
              "  <tbody>\n",
              "  </tbody>\n",
              "</table>\n",
              "</div>"
            ],
            "text/plain": [
              "Empty DataFrame\n",
              "Columns: [stop_date, stop_time, driver_gender, driver_race, violation_raw, violation, search_conducted, search_type, stop_outcome, is_arrested, stop_duration, drugs_related_stop, district]\n",
              "Index: []"
            ]
          },
          "metadata": {
            "tags": []
          },
          "execution_count": 25
        }
      ]
    },
    {
      "cell_type": "code",
      "metadata": {
        "id": "J8htMCktU6zo",
        "colab_type": "code",
        "colab": {
          "base_uri": "https://localhost:8080/",
          "height": 52
        },
        "outputId": "a513440a-e30a-423e-c092-2f4b523286c8"
      },
      "source": [
        "# Only Inventory Searches\n",
        "\n",
        "police_stops_ri['Inventory_Searched'] = police_stops_ri.search_type.str.contains('Inventory', case=False, na=False) \n",
        "print(f\"Total inventory searches: {police_stops_ri.Inventory_Searched.sum()}\")\n",
        "\n",
        "# Percentages - out of toal types of search conducted\n",
        "print(f\"Inventory search % out of total search conducted: {police_stops_ri[police_stops_ri.search_conducted == True].Inventory_Searched.mean() * 100}%\")"
      ],
      "execution_count": 26,
      "outputs": [
        {
          "output_type": "stream",
          "text": [
            "Total inventory searches: 441\n",
            "Inventory search % out of total search conducted: 13.335349259147264%\n"
          ],
          "name": "stdout"
        }
      ]
    },
    {
      "cell_type": "code",
      "metadata": {
        "id": "gCR4kexJXCOs",
        "colab_type": "code",
        "colab": {
          "base_uri": "https://localhost:8080/",
          "height": 158
        },
        "outputId": "9e3489a1-9a24-4d1f-e512-7ab90154482d"
      },
      "source": [
        "# During a vehicle search, the police officer may pat down the driver to check if they have a weapon. This is known as a \"protective frisk.\"\n",
        "# Search for Protective Frisk\n",
        "police_stops_ri['Protective_Frisk'] = police_stops_ri.search_type.str.contains('Protective Frisk', case = False, na = False)\n",
        "print(f\"Total Protective-Frisk: {police_stops_ri.Protective_Frisk.sum()}\")\n",
        "\n",
        "# Percentages - out of total types of search conducted\n",
        "print(f\"Protective-Frisk % out of total search conducted: {police_stops_ri[police_stops_ri.search_conducted == True].Protective_Frisk.mean() * 100}%\\n\")\n",
        "\n",
        "# Frisks - genderwise\n",
        "print(f\"Frisk rate, gender-wise: \\n{police_stops_ri[police_stops_ri.search_conducted == True].groupby('driver_gender').Protective_Frisk.mean() * 100}\")\n",
        "\n",
        "# Cocnlcusion: Though we can see that Males Frisking Rate is much higher than Females, this rate cannot be totally dependent on the gender."
      ],
      "execution_count": 27,
      "outputs": [
        {
          "output_type": "stream",
          "text": [
            "Total Protective-Frisk: 303\n",
            "Protective-Frisk % out of total search conducted: 9.162382824312065%\n",
            "\n",
            "Frisk rate, gender-wise: \n",
            "driver_gender\n",
            "F    7.456140\n",
            "M    9.435286\n",
            "Name: Protective_Frisk, dtype: float64\n"
          ],
          "name": "stdout"
        }
      ]
    },
    {
      "cell_type": "markdown",
      "metadata": {
        "id": "a6OdVTZkoykp",
        "colab_type": "text"
      },
      "source": [
        "- #### **6. Does time of day affect arrest rate?**"
      ]
    },
    {
      "cell_type": "code",
      "metadata": {
        "id": "UxdDmXXcTECB",
        "colab_type": "code",
        "colab": {
          "base_uri": "https://localhost:8080/",
          "height": 34
        },
        "outputId": "2cc799a1-e277-4d25-9dfd-f7facea27359"
      },
      "source": [
        "# Overall Arrest Rate\n",
        "print(f\"Overll Arrest-Daret: {police_stops_ri.is_arrested.mean() * 100}%\")"
      ],
      "execution_count": 28,
      "outputs": [
        {
          "output_type": "stream",
          "text": [
            "Overll Arrest-Daret: 3.55690117407784%\n"
          ],
          "name": "stdout"
        }
      ]
    },
    {
      "cell_type": "code",
      "metadata": {
        "id": "rYK7ToJ749aK",
        "colab_type": "code",
        "colab": {
          "base_uri": "https://localhost:8080/",
          "height": 87
        },
        "outputId": "ac00923d-0cbc-4818-cb8e-61aea08ab29e"
      },
      "source": [
        "police_stops_ri.index.hour"
      ],
      "execution_count": 29,
      "outputs": [
        {
          "output_type": "execute_result",
          "data": {
            "text/plain": [
              "Int64Index([12, 23,  4, 17,  1, 10, 21, 21, 11, 19,\n",
              "            ...\n",
              "            13, 18, 19, 20, 20, 21, 21, 22, 22, 22],\n",
              "           dtype='int64', name='stop_date_time', length=86536)"
            ]
          },
          "metadata": {
            "tags": []
          },
          "execution_count": 29
        }
      ]
    },
    {
      "cell_type": "code",
      "metadata": {
        "id": "VxID-7yf1y8O",
        "colab_type": "code",
        "colab": {
          "base_uri": "https://localhost:8080/",
          "height": 754
        },
        "outputId": "8204d647-3f19-484c-db9d-ae4e39468898"
      },
      "source": [
        "# Arrest % - Hourly basisri.inex\n",
        "arrest_rate_hour = police_stops_ri.groupby(police_stops_ri.index.hour).is_arrested.mean() * 100\n",
        "print(arrest_rate_hour.sort_values(ascending=False))\n",
        "\n",
        "import matplotlib.pyplot as plt \n",
        "arrest_rate_hour.plot()\n",
        "\n",
        "plt.xlabel('Hour')\n",
        "plt.ylabel('Arrest Rate')\n",
        "plt.title('Arrest Rate by Hour of a Day')\n",
        "\n",
        "plt.tight_layout()\n",
        "plt.grid(alpha=0.3)\n",
        "plt.axhline(police_stops_ri.is_arrested.mean() * 100 , c='r')\n",
        "plt.text(-1, police_stops_ri.is_arrested.mean() * 110, 'Avg Arrest Rate', c= 'r')\n",
        "plt.show()\n",
        "\n",
        "#  Conclusion: The arrest rate has a significant spike overnight, and then dips in the early morning hours."
      ],
      "execution_count": 30,
      "outputs": [
        {
          "output_type": "stream",
          "text": [
            "stop_date_time\n",
            "1     6.493185\n",
            "21    6.454062\n",
            "2     6.079821\n",
            "3     6.054872\n",
            "0     5.143094\n",
            "22    4.866608\n",
            "4     4.800000\n",
            "23    4.759152\n",
            "5     4.278075\n",
            "17    4.061896\n",
            "18    3.820439\n",
            "20    3.810734\n",
            "12    3.739931\n",
            "16    3.528084\n",
            "19    3.224490\n",
            "13    3.077599\n",
            "15    3.067871\n",
            "14    3.060458\n",
            "11    2.889667\n",
            "10    2.821272\n",
            "9     2.520616\n",
            "8     2.185350\n",
            "6     1.381304\n",
            "7     1.303155\n",
            "Name: is_arrested, dtype: float64\n"
          ],
          "name": "stdout"
        },
        {
          "output_type": "display_data",
          "data": {
            "image/png": "[encoded data removed]",
            "text/plain": [
              "<Figure size 432x288 with 1 Axes>"
            ]
          },
          "metadata": {
            "tags": [],
            "needs_background": "light"
          }
        }
      ]
    },
    {
      "cell_type": "code",
      "metadata": {
        "id": "86PDJ9AN-eQ7",
        "colab_type": "code",
        "colab": {
          "base_uri": "https://localhost:8080/",
          "height": 297
        },
        "outputId": "dbe573db-7988-4ee3-cff6-a5c7bd207dc6"
      },
      "source": [
        "arrest_hour_count = police_stops_ri.groupby(police_stops_ri.index.hour).is_arrested.sum() * 100\n",
        "arrest_hour_count.plot()\n",
        "\n",
        "plt.xlabel('Hour')\n",
        "plt.ylabel('Arrests')\n",
        "plt.title('Total Arrest by Hour of a Day')\n",
        "\n",
        "plt.tight_layout()\n",
        "plt.grid(alpha=0.3)\n",
        "plt.show()\n"
      ],
      "execution_count": 31,
      "outputs": [
        {
          "output_type": "display_data",
          "data": {
            "image/png": "[encoded data removed]",
            "text/plain": [
              "<Figure size 432x288 with 1 Axes>"
            ]
          },
          "metadata": {
            "tags": [],
            "needs_background": "light"
          }
        }
      ]
    },
    {
      "cell_type": "code",
      "metadata": {
        "id": "qKbcPQc22AKc",
        "colab_type": "code",
        "colab": {
          "base_uri": "https://localhost:8080/",
          "height": 263
        },
        "outputId": "93e82a20-34a7-4143-912a-e67219250f5d"
      },
      "source": [
        "print(police_stops_ri.groupby(police_stops_ri.index.month).is_arrested.count().sort_values(ascending=False))"
      ],
      "execution_count": 32,
      "outputs": [
        {
          "output_type": "stream",
          "text": [
            "stop_date_time\n",
            "1     7903\n",
            "11    7590\n",
            "5     7471\n",
            "10    7338\n",
            "3     7332\n",
            "7     7197\n",
            "9     7176\n",
            "8     7164\n",
            "6     7065\n",
            "4     7007\n",
            "12    6689\n",
            "2     6604\n",
            "Name: is_arrested, dtype: int64\n"
          ],
          "name": "stdout"
        }
      ]
    },
    {
      "cell_type": "code",
      "metadata": {
        "id": "8b7IyELN5Bfr",
        "colab_type": "code",
        "colab": {
          "base_uri": "https://localhost:8080/",
          "height": 246
        },
        "outputId": "e055ae08-4f96-4521-88a4-07f8b30a5e87"
      },
      "source": [
        "print(police_stops_ri.groupby(police_stops_ri.index.year).is_arrested.count().sort_values(ascending=False))"
      ],
      "execution_count": 33,
      "outputs": [
        {
          "output_type": "stream",
          "text": [
            "stop_date_time\n",
            "2012    10382\n",
            "2006    10058\n",
            "2007     9034\n",
            "2014     8679\n",
            "2008     8261\n",
            "2015     8071\n",
            "2011     7707\n",
            "2013     7561\n",
            "2009     7180\n",
            "2010     7142\n",
            "2005     2461\n",
            "Name: is_arrested, dtype: int64\n"
          ],
          "name": "stdout"
        }
      ]
    },
    {
      "cell_type": "markdown",
      "metadata": {
        "id": "UPLSHikCORej",
        "colab_type": "text"
      },
      "source": [
        "- #### **7. Are drug-related stops on the rise?**\n"
      ]
    },
    {
      "cell_type": "code",
      "metadata": {
        "id": "ighnMbA45HDr",
        "colab_type": "code",
        "colab": {
          "base_uri": "https://localhost:8080/",
          "height": 280
        },
        "outputId": "4fec6976-4baa-4e9c-e357-a284d3ef95f6"
      },
      "source": [
        "yearly_drug_stops_rate = police_stops_ri.drugs_related_stop.resample('A').mean() * 100\n",
        "yearly_drug_stops_rate.plot()\n",
        "plt.show()\n",
        "\n",
        "#Conclusion: The rate of drug-related stops nearly doubled over the course of 10 years. "
      ],
      "execution_count": 34,
      "outputs": [
        {
          "output_type": "display_data",
          "data": {
            "image/png": "[encoded data removed]",
            "text/plain": [
              "<Figure size 432x288 with 1 Axes>"
            ]
          },
          "metadata": {
            "tags": [],
            "needs_background": "light"
          }
        }
      ]
    },
    {
      "cell_type": "code",
      "metadata": {
        "id": "yoZ4HMl1ZtLj",
        "colab_type": "code",
        "colab": {
          "base_uri": "https://localhost:8080/",
          "height": 443
        },
        "outputId": "ff685810-d66f-4cff-99b3-3629f81fcddf"
      },
      "source": [
        "# Comparing drug and search rates:  The rate of drug-related stops increased significantly between 2005 and 2015. \n",
        "# You might hypothesize that the rate of vehicle searches was also increasing, which would have led to an increase in drug-related stops even if more drivers were not carrying drugs.\n",
        "\n",
        "annual_search_rate = police_stops_ri.search_conducted.resample('A').mean() * 100\n",
        "\n",
        "annual = pd.concat([annual_search_rate, yearly_drug_stops_rate, ], axis = 'columns')\n",
        "annual.plot(figsize = (10,7))\n",
        "plt.show()\n",
        "\n",
        "# Conclusion: The rate of drug-related stops increased even though the search rate decreased, disproving our hypothesis. This is concerning!!!"
      ],
      "execution_count": 35,
      "outputs": [
        {
          "output_type": "display_data",
          "data": {
            "image/png": "[encoded data removed]",
            "text/plain": [
              "<Figure size 720x504 with 1 Axes>"
            ]
          },
          "metadata": {
            "tags": [],
            "needs_background": "light"
          }
        }
      ]
    },
    {
      "cell_type": "code",
      "metadata": {
        "id": "ZKn-fpLxP5Xn",
        "colab_type": "code",
        "colab": {
          "base_uri": "https://localhost:8080/",
          "height": 523
        },
        "outputId": "841f0d06-8e1b-479c-ff67-b779a8f2d751"
      },
      "source": [
        "#Practice\n",
        "\n",
        "quarterly_drug_stops_rate = police_stops_ri.drugs_related_stop.resample('Q').mean()\n",
        "quarterly_search_rate = police_stops_ri.search_conducted.resample('Q').mean()\n",
        "quarter = pd.concat([quarterly_search_rate, quarterly_drug_stops_rate],  axis = 'columns')\n",
        "\n",
        "quarter.plot(subplots = True, figsize = (12,8), title = 'Monthly- Drug Stops and Search Rate Trends')\n",
        "plt.show()"
      ],
      "execution_count": 36,
      "outputs": [
        {
          "output_type": "display_data",
          "data": {
            "image/png": "[encoded data removed]",
            "text/plain": [
              "<Figure size 864x576 with 2 Axes>"
            ]
          },
          "metadata": {
            "tags": [],
            "needs_background": "light"
          }
        }
      ]
    },
    {
      "cell_type": "code",
      "metadata": {
        "id": "X3W1pqZxTMG4",
        "colab_type": "code",
        "colab": {
          "base_uri": "https://localhost:8080/",
          "height": 498
        },
        "outputId": "076fc85f-e6fe-4df7-be16-35bfe3290b3a"
      },
      "source": [
        "monthly_drug_stops = police_stops_ri.drugs_related_stop.resample('M').mean()\n",
        "monthly_search_rate = police_stops_ri.search_conducted.resample('M').mean()\n",
        "\n",
        "monthly = pd.concat([monthly_search_rate, monthly_drug_stops], axis = 'columns')\n",
        "\n",
        "monthly.plot(figsize = (12,8))\n",
        "plt.show()"
      ],
      "execution_count": 37,
      "outputs": [
        {
          "output_type": "display_data",
          "data": {
            "image/png": "[encoded data removed]",
            "text/plain": [
              "<Figure size 864x576 with 1 Axes>"
            ]
          },
          "metadata": {
            "tags": [],
            "needs_background": "light"
          }
        }
      ]
    },
    {
      "cell_type": "markdown",
      "metadata": {
        "id": "Ui7MPVu3dLnS",
        "colab_type": "text"
      },
      "source": [
        "- #### **8. What violations are caught in each district?**"
      ]
    },
    {
      "cell_type": "code",
      "metadata": {
        "id": "wcPCoCMJXPdu",
        "colab_type": "code",
        "colab": {
          "base_uri": "https://localhost:8080/",
          "height": 105
        },
        "outputId": "c19496f7-4b4a-46c3-b907-fe66b75f7bed"
      },
      "source": [
        "police_stops_ri.columns"
      ],
      "execution_count": 38,
      "outputs": [
        {
          "output_type": "execute_result",
          "data": {
            "text/plain": [
              "Index(['stop_date', 'stop_time', 'driver_gender', 'driver_race',\n",
              "       'violation_raw', 'violation', 'search_conducted', 'search_type',\n",
              "       'stop_outcome', 'is_arrested', 'stop_duration', 'drugs_related_stop',\n",
              "       'district', 'Inventory_Searched', 'Protective_Frisk'],\n",
              "      dtype='object')"
            ]
          },
          "metadata": {
            "tags": []
          },
          "execution_count": 38
        }
      ]
    },
    {
      "cell_type": "code",
      "metadata": {
        "id": "7SFh1epSXPgt",
        "colab_type": "code",
        "colab": {
          "base_uri": "https://localhost:8080/",
          "height": 254
        },
        "outputId": "49062969-6ed9-4aab-b635-b4125bdd9072"
      },
      "source": [
        "# Crosstab(Frequency Table) : By Default, it gives the count of combination of values occur in a DF.\n",
        "district_violation_ctab = pd.crosstab(police_stops_ri.district, police_stops_ri.violation )\n",
        "district_violation_ctab"
      ],
      "execution_count": 39,
      "outputs": [
        {
          "output_type": "execute_result",
          "data": {
            "text/html": [
              "<div>\n",
              "<style scoped>\n",
              "    .dataframe tbody tr th:only-of-type {\n",
              "        vertical-align: middle;\n",
              "    }\n",
              "\n",
              "    .dataframe tbody tr th {\n",
              "        vertical-align: top;\n",
              "    }\n",
              "\n",
              "    .dataframe thead th {\n",
              "        text-align: right;\n",
              "    }\n",
              "</style>\n",
              "<table border=\"1\" class=\"dataframe\">\n",
              "  <thead>\n",
              "    <tr style=\"text-align: right;\">\n",
              "      <th>violation</th>\n",
              "      <th>Equipment</th>\n",
              "      <th>Moving violation</th>\n",
              "      <th>Other</th>\n",
              "      <th>Registration/plates</th>\n",
              "      <th>Seat belt</th>\n",
              "      <th>Speeding</th>\n",
              "    </tr>\n",
              "    <tr>\n",
              "      <th>district</th>\n",
              "      <th></th>\n",
              "      <th></th>\n",
              "      <th></th>\n",
              "      <th></th>\n",
              "      <th></th>\n",
              "      <th></th>\n",
              "    </tr>\n",
              "  </thead>\n",
              "  <tbody>\n",
              "    <tr>\n",
              "      <th>Zone K1</th>\n",
              "      <td>672</td>\n",
              "      <td>1254</td>\n",
              "      <td>290</td>\n",
              "      <td>120</td>\n",
              "      <td>0</td>\n",
              "      <td>5960</td>\n",
              "    </tr>\n",
              "    <tr>\n",
              "      <th>Zone K2</th>\n",
              "      <td>2061</td>\n",
              "      <td>2962</td>\n",
              "      <td>942</td>\n",
              "      <td>768</td>\n",
              "      <td>481</td>\n",
              "      <td>10448</td>\n",
              "    </tr>\n",
              "    <tr>\n",
              "      <th>Zone K3</th>\n",
              "      <td>2302</td>\n",
              "      <td>2898</td>\n",
              "      <td>705</td>\n",
              "      <td>695</td>\n",
              "      <td>638</td>\n",
              "      <td>12322</td>\n",
              "    </tr>\n",
              "    <tr>\n",
              "      <th>Zone X1</th>\n",
              "      <td>296</td>\n",
              "      <td>671</td>\n",
              "      <td>143</td>\n",
              "      <td>38</td>\n",
              "      <td>74</td>\n",
              "      <td>1119</td>\n",
              "    </tr>\n",
              "    <tr>\n",
              "      <th>Zone X3</th>\n",
              "      <td>2049</td>\n",
              "      <td>3086</td>\n",
              "      <td>769</td>\n",
              "      <td>671</td>\n",
              "      <td>820</td>\n",
              "      <td>8779</td>\n",
              "    </tr>\n",
              "    <tr>\n",
              "      <th>Zone X4</th>\n",
              "      <td>3541</td>\n",
              "      <td>5353</td>\n",
              "      <td>1560</td>\n",
              "      <td>1411</td>\n",
              "      <td>843</td>\n",
              "      <td>9795</td>\n",
              "    </tr>\n",
              "  </tbody>\n",
              "</table>\n",
              "</div>"
            ],
            "text/plain": [
              "violation  Equipment  Moving violation  ...  Seat belt  Speeding\n",
              "district                                ...                     \n",
              "Zone K1          672              1254  ...          0      5960\n",
              "Zone K2         2061              2962  ...        481     10448\n",
              "Zone K3         2302              2898  ...        638     12322\n",
              "Zone X1          296               671  ...         74      1119\n",
              "Zone X3         2049              3086  ...        820      8779\n",
              "Zone X4         3541              5353  ...        843      9795\n",
              "\n",
              "[6 rows x 6 columns]"
            ]
          },
          "metadata": {
            "tags": []
          },
          "execution_count": 39
        }
      ]
    },
    {
      "cell_type": "code",
      "metadata": {
        "id": "15XoNEBieX1I",
        "colab_type": "code",
        "colab": {
          "base_uri": "https://localhost:8080/",
          "height": 514
        },
        "outputId": "cb54a832-5a61-499b-cad1-3755e5c7f039"
      },
      "source": [
        "district_violation_ctab.plot(figsize = (12,8))"
      ],
      "execution_count": 40,
      "outputs": [
        {
          "output_type": "execute_result",
          "data": {
            "text/plain": [
              "<matplotlib.axes._subplots.AxesSubplot at 0x7fc1e68bc8d0>"
            ]
          },
          "metadata": {
            "tags": []
          },
          "execution_count": 40
        },
        {
          "output_type": "display_data",
          "data": {
            "image/png": "[encoded data removed]",
            "text/plain": [
              "<Figure size 864x576 with 1 Axes>"
            ]
          },
          "metadata": {
            "tags": [],
            "needs_background": "light"
          }
        }
      ]
    },
    {
      "cell_type": "code",
      "metadata": {
        "id": "Rbd-DUuFeGkQ",
        "colab_type": "code",
        "colab": {
          "base_uri": "https://localhost:8080/",
          "height": 546
        },
        "outputId": "0dc90776-eb6d-4749-cca6-9dd37513edab"
      },
      "source": [
        "district_violation_ctab.plot(kind='bar' ,figsize = (12,8))"
      ],
      "execution_count": 41,
      "outputs": [
        {
          "output_type": "execute_result",
          "data": {
            "text/plain": [
              "<matplotlib.axes._subplots.AxesSubplot at 0x7fc1e4fde4e0>"
            ]
          },
          "metadata": {
            "tags": []
          },
          "execution_count": 41
        },
        {
          "output_type": "display_data",
          "data": {
            "image/png": "[encoded data removed]",
            "text/plain": [
              "<Figure size 864x576 with 1 Axes>"
            ]
          },
          "metadata": {
            "tags": [],
            "needs_background": "light"
          }
        }
      ]
    },
    {
      "cell_type": "code",
      "metadata": {
        "id": "fWrmAceJmygi",
        "colab_type": "code",
        "colab": {}
      },
      "source": [
        "# After Speeding , Moving Violations remains comman breaches among all the districts.\n",
        "# The vast majority of traffic stops in Zone K1 are for speeding, and all other zone  violation's  are remarkably similar to one another in terms of violations."
      ],
      "execution_count": 42,
      "outputs": []
    },
    {
      "cell_type": "code",
      "metadata": {
        "id": "eorcdYkof8mE",
        "colab_type": "code",
        "colab": {
          "base_uri": "https://localhost:8080/",
          "height": 546
        },
        "outputId": "9293a577-e260-45db-e1f3-5130141b2ad0"
      },
      "source": [
        "district_violation_ctab.plot(kind='bar' ,figsize = (12,8), stacked = True)"
      ],
      "execution_count": 43,
      "outputs": [
        {
          "output_type": "execute_result",
          "data": {
            "text/plain": [
              "<matplotlib.axes._subplots.AxesSubplot at 0x7fc1e4f417b8>"
            ]
          },
          "metadata": {
            "tags": []
          },
          "execution_count": 43
        },
        {
          "output_type": "display_data",
          "data": {
            "image/png": "[encoded data removed]",
            "text/plain": [
              "<Figure size 864x576 with 1 Axes>"
            ]
          },
          "metadata": {
            "tags": [],
            "needs_background": "light"
          }
        }
      ]
    },
    {
      "cell_type": "markdown",
      "metadata": {
        "id": "q4_ENzOhpQ9s",
        "colab_type": "text"
      },
      "source": [
        "- #### **9. How long might you be stopped for a violation?**"
      ]
    },
    {
      "cell_type": "code",
      "metadata": {
        "id": "EMbYHMlTf_F0",
        "colab_type": "code",
        "colab": {
          "base_uri": "https://localhost:8080/",
          "height": 105
        },
        "outputId": "0992f22f-dc5b-46ee-ccc5-182e7829f217"
      },
      "source": [
        "police_stops_ri.columns"
      ],
      "execution_count": 44,
      "outputs": [
        {
          "output_type": "execute_result",
          "data": {
            "text/plain": [
              "Index(['stop_date', 'stop_time', 'driver_gender', 'driver_race',\n",
              "       'violation_raw', 'violation', 'search_conducted', 'search_type',\n",
              "       'stop_outcome', 'is_arrested', 'stop_duration', 'drugs_related_stop',\n",
              "       'district', 'Inventory_Searched', 'Protective_Frisk'],\n",
              "      dtype='object')"
            ]
          },
          "metadata": {
            "tags": []
          },
          "execution_count": 44
        }
      ]
    },
    {
      "cell_type": "code",
      "metadata": {
        "id": "R0qy1NrHpe0w",
        "colab_type": "code",
        "colab": {
          "base_uri": "https://localhost:8080/",
          "height": 254
        },
        "outputId": "4604f22a-ba7a-40d2-a3f0-5f2f0cae7eb0"
      },
      "source": [
        "violation_stop_duation_ctab = pd.crosstab(police_stops_ri.violation, police_stops_ri.stop_duration)\n",
        "violation_stop_duation_ctab"
      ],
      "execution_count": 45,
      "outputs": [
        {
          "output_type": "execute_result",
          "data": {
            "text/html": [
              "<div>\n",
              "<style scoped>\n",
              "    .dataframe tbody tr th:only-of-type {\n",
              "        vertical-align: middle;\n",
              "    }\n",
              "\n",
              "    .dataframe tbody tr th {\n",
              "        vertical-align: top;\n",
              "    }\n",
              "\n",
              "    .dataframe thead th {\n",
              "        text-align: right;\n",
              "    }\n",
              "</style>\n",
              "<table border=\"1\" class=\"dataframe\">\n",
              "  <thead>\n",
              "    <tr style=\"text-align: right;\">\n",
              "      <th>stop_duration</th>\n",
              "      <th>0-15 Min</th>\n",
              "      <th>16-30 Min</th>\n",
              "      <th>30+ Min</th>\n",
              "    </tr>\n",
              "    <tr>\n",
              "      <th>violation</th>\n",
              "      <th></th>\n",
              "      <th></th>\n",
              "      <th></th>\n",
              "    </tr>\n",
              "  </thead>\n",
              "  <tbody>\n",
              "    <tr>\n",
              "      <th>Equipment</th>\n",
              "      <td>9087</td>\n",
              "      <td>1374</td>\n",
              "      <td>460</td>\n",
              "    </tr>\n",
              "    <tr>\n",
              "      <th>Moving violation</th>\n",
              "      <td>11799</td>\n",
              "      <td>3132</td>\n",
              "      <td>1293</td>\n",
              "    </tr>\n",
              "    <tr>\n",
              "      <th>Other</th>\n",
              "      <td>2551</td>\n",
              "      <td>1227</td>\n",
              "      <td>631</td>\n",
              "    </tr>\n",
              "    <tr>\n",
              "      <th>Registration/plates</th>\n",
              "      <td>2627</td>\n",
              "      <td>844</td>\n",
              "      <td>232</td>\n",
              "    </tr>\n",
              "    <tr>\n",
              "      <th>Seat belt</th>\n",
              "      <td>2579</td>\n",
              "      <td>250</td>\n",
              "      <td>27</td>\n",
              "    </tr>\n",
              "    <tr>\n",
              "      <th>Speeding</th>\n",
              "      <td>40934</td>\n",
              "      <td>6913</td>\n",
              "      <td>576</td>\n",
              "    </tr>\n",
              "  </tbody>\n",
              "</table>\n",
              "</div>"
            ],
            "text/plain": [
              "stop_duration        0-15 Min  16-30 Min  30+ Min\n",
              "violation                                        \n",
              "Equipment                9087       1374      460\n",
              "Moving violation        11799       3132     1293\n",
              "Other                    2551       1227      631\n",
              "Registration/plates      2627        844      232\n",
              "Seat belt                2579        250       27\n",
              "Speeding                40934       6913      576"
            ]
          },
          "metadata": {
            "tags": []
          },
          "execution_count": 45
        }
      ]
    },
    {
      "cell_type": "code",
      "metadata": {
        "id": "k6y8REq5p9IN",
        "colab_type": "code",
        "colab": {
          "base_uri": "https://localhost:8080/",
          "height": 501
        },
        "outputId": "778ce0f5-5518-4ab9-f7c9-4c2cc50461c2"
      },
      "source": [
        "violation_stop_duation_ctab.plot(kind='barh', figsize=(12,8))\n",
        "\n",
        "# For Speeding - Avg Stop duration is around 0-15 mins"
      ],
      "execution_count": 46,
      "outputs": [
        {
          "output_type": "execute_result",
          "data": {
            "text/plain": [
              "<matplotlib.axes._subplots.AxesSubplot at 0x7fc1e4e0c588>"
            ]
          },
          "metadata": {
            "tags": []
          },
          "execution_count": 46
        },
        {
          "output_type": "display_data",
          "data": {
            "image/png": "[encoded data removed]",
            "text/plain": [
              "<Figure size 864x576 with 1 Axes>"
            ]
          },
          "metadata": {
            "tags": [],
            "needs_background": "light"
          }
        }
      ]
    },
    {
      "cell_type": "markdown",
      "metadata": {
        "id": "VVEKdGNdkG_o",
        "colab_type": "text"
      },
      "source": [
        "- #### **10. Whether climate has impact on road stops?**"
      ]
    },
    {
      "cell_type": "code",
      "metadata": {
        "id": "pU-gH4qFuxNE",
        "colab_type": "code",
        "colab": {
          "base_uri": "https://localhost:8080/",
          "height": 263
        },
        "outputId": "23af726b-45c1-4dd3-fede-e011b5635a8d"
      },
      "source": [
        "#Analyzing Weather data\n",
        "\n",
        "weather_ri.shape, weather_ri.columns, weather_ri.head()"
      ],
      "execution_count": 47,
      "outputs": [
        {
          "output_type": "execute_result",
          "data": {
            "text/plain": [
              "((4017, 27),\n",
              " Index(['STATION', 'DATE', 'TAVG', 'TMIN', 'TMAX', 'AWND', 'WSF2', 'WT01',\n",
              "        'WT02', 'WT03', 'WT04', 'WT05', 'WT06', 'WT07', 'WT08', 'WT09', 'WT10',\n",
              "        'WT11', 'WT13', 'WT14', 'WT15', 'WT16', 'WT17', 'WT18', 'WT19', 'WT21',\n",
              "        'WT22'],\n",
              "       dtype='object'),\n",
              "        STATION        DATE  TAVG  TMIN  TMAX  ...  WT17  WT18  WT19  WT21  WT22\n",
              " 0  USW00014765  2005-01-01  44.0    35    53  ...   NaN   NaN   NaN   NaN   NaN\n",
              " 1  USW00014765  2005-01-02  36.0    28    44  ...   NaN   1.0   NaN   NaN   NaN\n",
              " 2  USW00014765  2005-01-03  49.0    44    53  ...   NaN   NaN   NaN   NaN   NaN\n",
              " 3  USW00014765  2005-01-04  42.0    39    45  ...   NaN   NaN   NaN   NaN   NaN\n",
              " 4  USW00014765  2005-01-05  36.0    28    43  ...   NaN   1.0   NaN   NaN   NaN\n",
              " \n",
              " [5 rows x 27 columns])"
            ]
          },
          "metadata": {
            "tags": []
          },
          "execution_count": 47
        }
      ]
    },
    {
      "cell_type": "code",
      "metadata": {
        "id": "zwblZNAmnNR1",
        "colab_type": "code",
        "colab": {
          "base_uri": "https://localhost:8080/",
          "height": 284
        },
        "outputId": "85aebcf9-4cfc-48d9-a366-8a87358ff556"
      },
      "source": [
        "#Fethcing Temperature Columns\n",
        "temp = weather_ri[['TAVG', 'TMIN', 'TMAX']]\n",
        "temp.describe()"
      ],
      "execution_count": 48,
      "outputs": [
        {
          "output_type": "execute_result",
          "data": {
            "text/html": [
              "<div>\n",
              "<style scoped>\n",
              "    .dataframe tbody tr th:only-of-type {\n",
              "        vertical-align: middle;\n",
              "    }\n",
              "\n",
              "    .dataframe tbody tr th {\n",
              "        vertical-align: top;\n",
              "    }\n",
              "\n",
              "    .dataframe thead th {\n",
              "        text-align: right;\n",
              "    }\n",
              "</style>\n",
              "<table border=\"1\" class=\"dataframe\">\n",
              "  <thead>\n",
              "    <tr style=\"text-align: right;\">\n",
              "      <th></th>\n",
              "      <th>TAVG</th>\n",
              "      <th>TMIN</th>\n",
              "      <th>TMAX</th>\n",
              "    </tr>\n",
              "  </thead>\n",
              "  <tbody>\n",
              "    <tr>\n",
              "      <th>count</th>\n",
              "      <td>1217.000000</td>\n",
              "      <td>4017.000000</td>\n",
              "      <td>4017.000000</td>\n",
              "    </tr>\n",
              "    <tr>\n",
              "      <th>mean</th>\n",
              "      <td>52.493016</td>\n",
              "      <td>43.484441</td>\n",
              "      <td>61.268608</td>\n",
              "    </tr>\n",
              "    <tr>\n",
              "      <th>std</th>\n",
              "      <td>17.830714</td>\n",
              "      <td>17.020298</td>\n",
              "      <td>18.199517</td>\n",
              "    </tr>\n",
              "    <tr>\n",
              "      <th>min</th>\n",
              "      <td>6.000000</td>\n",
              "      <td>-5.000000</td>\n",
              "      <td>15.000000</td>\n",
              "    </tr>\n",
              "    <tr>\n",
              "      <th>25%</th>\n",
              "      <td>39.000000</td>\n",
              "      <td>30.000000</td>\n",
              "      <td>47.000000</td>\n",
              "    </tr>\n",
              "    <tr>\n",
              "      <th>50%</th>\n",
              "      <td>54.000000</td>\n",
              "      <td>44.000000</td>\n",
              "      <td>62.000000</td>\n",
              "    </tr>\n",
              "    <tr>\n",
              "      <th>75%</th>\n",
              "      <td>68.000000</td>\n",
              "      <td>58.000000</td>\n",
              "      <td>77.000000</td>\n",
              "    </tr>\n",
              "    <tr>\n",
              "      <th>max</th>\n",
              "      <td>86.000000</td>\n",
              "      <td>77.000000</td>\n",
              "      <td>102.000000</td>\n",
              "    </tr>\n",
              "  </tbody>\n",
              "</table>\n",
              "</div>"
            ],
            "text/plain": [
              "              TAVG         TMIN         TMAX\n",
              "count  1217.000000  4017.000000  4017.000000\n",
              "mean     52.493016    43.484441    61.268608\n",
              "std      17.830714    17.020298    18.199517\n",
              "min       6.000000    -5.000000    15.000000\n",
              "25%      39.000000    30.000000    47.000000\n",
              "50%      54.000000    44.000000    62.000000\n",
              "75%      68.000000    58.000000    77.000000\n",
              "max      86.000000    77.000000   102.000000"
            ]
          },
          "metadata": {
            "tags": []
          },
          "execution_count": 48
        }
      ]
    },
    {
      "cell_type": "code",
      "metadata": {
        "id": "K5xZWus8noJ1",
        "colab_type": "code",
        "colab": {
          "base_uri": "https://localhost:8080/",
          "height": 446
        },
        "outputId": "cee82ce0-efd0-4d79-fe0b-aa100aab0bfc"
      },
      "source": [
        "# Checkt the distribution, as well as presenece of any outliers\n",
        "temp.plot(kind = 'box', figsize = (10,7))\n",
        "\n",
        "# Conclusion : No Outliers. Also, The temperature data looks good so far: the TAVG values are in between TMIN and TMAX, and the measurements and ranges seem reasonable.\n",
        "# Hence, the dataset seems trustworthy."
      ],
      "execution_count": 49,
      "outputs": [
        {
          "output_type": "execute_result",
          "data": {
            "text/plain": [
              "<matplotlib.axes._subplots.AxesSubplot at 0x7fc1e4d99a58>"
            ]
          },
          "metadata": {
            "tags": []
          },
          "execution_count": 49
        },
        {
          "output_type": "display_data",
          "data": {
            "image/png": "[encoded data removed]",
            "text/plain": [
              "<Figure size 720x504 with 1 Axes>"
            ]
          },
          "metadata": {
            "tags": [],
            "needs_background": "light"
          }
        }
      ]
    },
    {
      "cell_type": "code",
      "metadata": {
        "id": "yKuNFIp_nwzu",
        "colab_type": "code",
        "colab": {
          "base_uri": "https://localhost:8080/",
          "height": 34
        },
        "outputId": "c600c524-7caf-40cc-d156-5a032f49afc6"
      },
      "source": [
        "# The weather DataFrame contains 20 columns(One Hot Encoded) that start with 'WT', each of which represents a bad weather condition. e.g: WT05 indicates \"Hail\" , WT11 indicates \"High or damaging winds\", WT17 indicates \"Freezing rain\" etc\n",
        "\n",
        "WT = weather_ri.loc[:, 'WT01':'WT22']\n",
        "WT.shape"
      ],
      "execution_count": 50,
      "outputs": [
        {
          "output_type": "execute_result",
          "data": {
            "text/plain": [
              "(4017, 20)"
            ]
          },
          "metadata": {
            "tags": []
          },
          "execution_count": 50
        }
      ]
    },
    {
      "cell_type": "code",
      "metadata": {
        "id": "Po2B-pZWqrMH",
        "colab_type": "code",
        "colab": {
          "base_uri": "https://localhost:8080/",
          "height": 428
        },
        "outputId": "d95eb2bd-abe1-496c-f100-05159ce41b5d"
      },
      "source": [
        "# Converting One Hot Encoded Field to Categorical Field - Bad Weathers. - DEpends on the dataset\n",
        "# Summing all bad weather values to have a single column, and then we rate them in the next steps.\n",
        "weather_ri['bad_conditions'] = WT.sum(axis = 'columns')\n",
        "weather_ri['bad_conditions'] = weather_ri['bad_conditions'].fillna(0).astype('int')\n",
        "\n",
        "weather_ri.bad_conditions.plot(kind='hist', figsize = (10,7))\n",
        "plt.show()\n",
        "\n",
        "# Conclusion:  It looks like many days didn't have any bad weather conditions(since there value sums up to ZERO), and only a small portion of days had more than four bad weather conditions."
      ],
      "execution_count": 51,
      "outputs": [
        {
          "output_type": "display_data",
          "data": {
            "image/png": "[encoded data removed]",
            "text/plain": [
              "<Figure size 720x504 with 1 Axes>"
            ]
          },
          "metadata": {
            "tags": [],
            "needs_background": "light"
          }
        }
      ]
    },
    {
      "cell_type": "code",
      "metadata": {
        "id": "W1NmuV79tBPK",
        "colab_type": "code",
        "colab": {
          "base_uri": "https://localhost:8080/",
          "height": 87
        },
        "outputId": "2e7b7947-7722-4ef2-ac9e-acea861dfb6c"
      },
      "source": [
        "\"\"\"\n",
        "Convert 0 to 'good'\n",
        "Convert 1 through 4 to 'bad'\n",
        "Convert 5 through 9 to 'worse'\n",
        "\"\"\"\n",
        "\n",
        "weather_ri.loc[weather_ri['bad_conditions'] == 0, 'rating'] = 'good'\n",
        "weather_ri.loc[(weather_ri['bad_conditions'] > 0) & (weather_ri['bad_conditions'] <= 4) , 'rating'] = 'bad'\n",
        "weather_ri.loc[(weather_ri['bad_conditions'] >= 5) & (weather_ri['bad_conditions'] <= 9) , 'rating'] = 'worse'\n",
        "\n",
        "weather_ri.rating.value_counts()"
      ],
      "execution_count": 52,
      "outputs": [
        {
          "output_type": "execute_result",
          "data": {
            "text/plain": [
              "bad      1836\n",
              "good     1749\n",
              "worse     432\n",
              "Name: rating, dtype: int64"
            ]
          },
          "metadata": {
            "tags": []
          },
          "execution_count": 52
        }
      ]
    },
    {
      "cell_type": "code",
      "metadata": {
        "id": "wFZfImZL1A8-",
        "colab_type": "code",
        "colab": {
          "base_uri": "https://localhost:8080/",
          "height": 34
        },
        "outputId": "46f6c641-7783-435b-a096-ea9f0bfd68b3"
      },
      "source": [
        "#weather_ri['rating'] = weather_ri.rating.astype('category', categories= ['good', 'bad', 'worse'], ordered=True)\n",
        "\n",
        "weather_ri['rating'] = pd.Categorical(weather_ri.rating, dtype = 'category', ordered=True, categories = ['good', 'bad', 'worse'])\n",
        "\n",
        "weather_ri.rating.dtype"
      ],
      "execution_count": 53,
      "outputs": [
        {
          "output_type": "execute_result",
          "data": {
            "text/plain": [
              "CategoricalDtype(categories=['good', 'bad', 'worse'], ordered=True)"
            ]
          },
          "metadata": {
            "tags": []
          },
          "execution_count": 53
        }
      ]
    },
    {
      "cell_type": "code",
      "metadata": {
        "id": "WzG5M6Cg6bgT",
        "colab_type": "code",
        "colab": {
          "base_uri": "https://localhost:8080/",
          "height": 346
        },
        "outputId": "894ba898-4807-45d9-9b09-11422896550b"
      },
      "source": [
        "# Merge and traffic stops data sets\n",
        "print(police_stops_ri.shape)\n",
        "police_stops_ri.head()"
      ],
      "execution_count": 54,
      "outputs": [
        {
          "output_type": "stream",
          "text": [
            "(86536, 15)\n"
          ],
          "name": "stdout"
        },
        {
          "output_type": "execute_result",
          "data": {
            "text/html": [
              "<div>\n",
              "<style scoped>\n",
              "    .dataframe tbody tr th:only-of-type {\n",
              "        vertical-align: middle;\n",
              "    }\n",
              "\n",
              "    .dataframe tbody tr th {\n",
              "        vertical-align: top;\n",
              "    }\n",
              "\n",
              "    .dataframe thead th {\n",
              "        text-align: right;\n",
              "    }\n",
              "</style>\n",
              "<table border=\"1\" class=\"dataframe\">\n",
              "  <thead>\n",
              "    <tr style=\"text-align: right;\">\n",
              "      <th></th>\n",
              "      <th>stop_date</th>\n",
              "      <th>stop_time</th>\n",
              "      <th>driver_gender</th>\n",
              "      <th>driver_race</th>\n",
              "      <th>violation_raw</th>\n",
              "      <th>violation</th>\n",
              "      <th>search_conducted</th>\n",
              "      <th>search_type</th>\n",
              "      <th>stop_outcome</th>\n",
              "      <th>is_arrested</th>\n",
              "      <th>stop_duration</th>\n",
              "      <th>drugs_related_stop</th>\n",
              "      <th>district</th>\n",
              "      <th>Inventory_Searched</th>\n",
              "      <th>Protective_Frisk</th>\n",
              "    </tr>\n",
              "    <tr>\n",
              "      <th>stop_date_time</th>\n",
              "      <th></th>\n",
              "      <th></th>\n",
              "      <th></th>\n",
              "      <th></th>\n",
              "      <th></th>\n",
              "      <th></th>\n",
              "      <th></th>\n",
              "      <th></th>\n",
              "      <th></th>\n",
              "      <th></th>\n",
              "      <th></th>\n",
              "      <th></th>\n",
              "      <th></th>\n",
              "      <th></th>\n",
              "      <th></th>\n",
              "    </tr>\n",
              "  </thead>\n",
              "  <tbody>\n",
              "    <tr>\n",
              "      <th>2005-01-04 12:55:00</th>\n",
              "      <td>2005-01-04</td>\n",
              "      <td>12:55</td>\n",
              "      <td>M</td>\n",
              "      <td>White</td>\n",
              "      <td>Equipment/Inspection Violation</td>\n",
              "      <td>Equipment</td>\n",
              "      <td>False</td>\n",
              "      <td>NaN</td>\n",
              "      <td>Citation</td>\n",
              "      <td>False</td>\n",
              "      <td>0-15 Min</td>\n",
              "      <td>False</td>\n",
              "      <td>Zone X4</td>\n",
              "      <td>False</td>\n",
              "      <td>False</td>\n",
              "    </tr>\n",
              "    <tr>\n",
              "      <th>2005-01-23 23:15:00</th>\n",
              "      <td>2005-01-23</td>\n",
              "      <td>23:15</td>\n",
              "      <td>M</td>\n",
              "      <td>White</td>\n",
              "      <td>Speeding</td>\n",
              "      <td>Speeding</td>\n",
              "      <td>False</td>\n",
              "      <td>NaN</td>\n",
              "      <td>Citation</td>\n",
              "      <td>False</td>\n",
              "      <td>0-15 Min</td>\n",
              "      <td>False</td>\n",
              "      <td>Zone K3</td>\n",
              "      <td>False</td>\n",
              "      <td>False</td>\n",
              "    </tr>\n",
              "    <tr>\n",
              "      <th>2005-02-17 04:15:00</th>\n",
              "      <td>2005-02-17</td>\n",
              "      <td>04:15</td>\n",
              "      <td>M</td>\n",
              "      <td>White</td>\n",
              "      <td>Speeding</td>\n",
              "      <td>Speeding</td>\n",
              "      <td>False</td>\n",
              "      <td>NaN</td>\n",
              "      <td>Citation</td>\n",
              "      <td>False</td>\n",
              "      <td>0-15 Min</td>\n",
              "      <td>False</td>\n",
              "      <td>Zone X4</td>\n",
              "      <td>False</td>\n",
              "      <td>False</td>\n",
              "    </tr>\n",
              "    <tr>\n",
              "      <th>2005-02-20 17:15:00</th>\n",
              "      <td>2005-02-20</td>\n",
              "      <td>17:15</td>\n",
              "      <td>M</td>\n",
              "      <td>White</td>\n",
              "      <td>Call for Service</td>\n",
              "      <td>Other</td>\n",
              "      <td>False</td>\n",
              "      <td>NaN</td>\n",
              "      <td>Arrest Driver</td>\n",
              "      <td>True</td>\n",
              "      <td>16-30 Min</td>\n",
              "      <td>False</td>\n",
              "      <td>Zone X1</td>\n",
              "      <td>False</td>\n",
              "      <td>False</td>\n",
              "    </tr>\n",
              "    <tr>\n",
              "      <th>2005-02-24 01:20:00</th>\n",
              "      <td>2005-02-24</td>\n",
              "      <td>01:20</td>\n",
              "      <td>F</td>\n",
              "      <td>White</td>\n",
              "      <td>Speeding</td>\n",
              "      <td>Speeding</td>\n",
              "      <td>False</td>\n",
              "      <td>NaN</td>\n",
              "      <td>Citation</td>\n",
              "      <td>False</td>\n",
              "      <td>0-15 Min</td>\n",
              "      <td>False</td>\n",
              "      <td>Zone X3</td>\n",
              "      <td>False</td>\n",
              "      <td>False</td>\n",
              "    </tr>\n",
              "  </tbody>\n",
              "</table>\n",
              "</div>"
            ],
            "text/plain": [
              "                      stop_date stop_time  ... Inventory_Searched Protective_Frisk\n",
              "stop_date_time                             ...                                    \n",
              "2005-01-04 12:55:00  2005-01-04     12:55  ...              False            False\n",
              "2005-01-23 23:15:00  2005-01-23     23:15  ...              False            False\n",
              "2005-02-17 04:15:00  2005-02-17     04:15  ...              False            False\n",
              "2005-02-20 17:15:00  2005-02-20     17:15  ...              False            False\n",
              "2005-02-24 01:20:00  2005-02-24     01:20  ...              False            False\n",
              "\n",
              "[5 rows x 15 columns]"
            ]
          },
          "metadata": {
            "tags": []
          },
          "execution_count": 54
        }
      ]
    },
    {
      "cell_type": "code",
      "metadata": {
        "id": "h5r3Erkr8q0O",
        "colab_type": "code",
        "colab": {
          "base_uri": "https://localhost:8080/",
          "height": 299
        },
        "outputId": "35ed2be5-a812-4ef5-ef2d-ba29f3a6d501"
      },
      "source": [
        "weather_ri.head()"
      ],
      "execution_count": 55,
      "outputs": [
        {
          "output_type": "execute_result",
          "data": {
            "text/html": [
              "<div>\n",
              "<style scoped>\n",
              "    .dataframe tbody tr th:only-of-type {\n",
              "        vertical-align: middle;\n",
              "    }\n",
              "\n",
              "    .dataframe tbody tr th {\n",
              "        vertical-align: top;\n",
              "    }\n",
              "\n",
              "    .dataframe thead th {\n",
              "        text-align: right;\n",
              "    }\n",
              "</style>\n",
              "<table border=\"1\" class=\"dataframe\">\n",
              "  <thead>\n",
              "    <tr style=\"text-align: right;\">\n",
              "      <th></th>\n",
              "      <th>STATION</th>\n",
              "      <th>DATE</th>\n",
              "      <th>TAVG</th>\n",
              "      <th>TMIN</th>\n",
              "      <th>TMAX</th>\n",
              "      <th>AWND</th>\n",
              "      <th>WSF2</th>\n",
              "      <th>WT01</th>\n",
              "      <th>WT02</th>\n",
              "      <th>WT03</th>\n",
              "      <th>WT04</th>\n",
              "      <th>WT05</th>\n",
              "      <th>WT06</th>\n",
              "      <th>WT07</th>\n",
              "      <th>WT08</th>\n",
              "      <th>WT09</th>\n",
              "      <th>WT10</th>\n",
              "      <th>WT11</th>\n",
              "      <th>WT13</th>\n",
              "      <th>WT14</th>\n",
              "      <th>WT15</th>\n",
              "      <th>WT16</th>\n",
              "      <th>WT17</th>\n",
              "      <th>WT18</th>\n",
              "      <th>WT19</th>\n",
              "      <th>WT21</th>\n",
              "      <th>WT22</th>\n",
              "      <th>bad_conditions</th>\n",
              "      <th>rating</th>\n",
              "    </tr>\n",
              "  </thead>\n",
              "  <tbody>\n",
              "    <tr>\n",
              "      <th>0</th>\n",
              "      <td>USW00014765</td>\n",
              "      <td>2005-01-01</td>\n",
              "      <td>44.0</td>\n",
              "      <td>35</td>\n",
              "      <td>53</td>\n",
              "      <td>8.95</td>\n",
              "      <td>25.1</td>\n",
              "      <td>1.0</td>\n",
              "      <td>NaN</td>\n",
              "      <td>NaN</td>\n",
              "      <td>NaN</td>\n",
              "      <td>NaN</td>\n",
              "      <td>NaN</td>\n",
              "      <td>NaN</td>\n",
              "      <td>NaN</td>\n",
              "      <td>NaN</td>\n",
              "      <td>NaN</td>\n",
              "      <td>NaN</td>\n",
              "      <td>1.0</td>\n",
              "      <td>NaN</td>\n",
              "      <td>NaN</td>\n",
              "      <td>NaN</td>\n",
              "      <td>NaN</td>\n",
              "      <td>NaN</td>\n",
              "      <td>NaN</td>\n",
              "      <td>NaN</td>\n",
              "      <td>NaN</td>\n",
              "      <td>2</td>\n",
              "      <td>bad</td>\n",
              "    </tr>\n",
              "    <tr>\n",
              "      <th>1</th>\n",
              "      <td>USW00014765</td>\n",
              "      <td>2005-01-02</td>\n",
              "      <td>36.0</td>\n",
              "      <td>28</td>\n",
              "      <td>44</td>\n",
              "      <td>9.40</td>\n",
              "      <td>14.1</td>\n",
              "      <td>NaN</td>\n",
              "      <td>NaN</td>\n",
              "      <td>NaN</td>\n",
              "      <td>NaN</td>\n",
              "      <td>NaN</td>\n",
              "      <td>NaN</td>\n",
              "      <td>NaN</td>\n",
              "      <td>NaN</td>\n",
              "      <td>NaN</td>\n",
              "      <td>NaN</td>\n",
              "      <td>NaN</td>\n",
              "      <td>NaN</td>\n",
              "      <td>NaN</td>\n",
              "      <td>NaN</td>\n",
              "      <td>1.0</td>\n",
              "      <td>NaN</td>\n",
              "      <td>1.0</td>\n",
              "      <td>NaN</td>\n",
              "      <td>NaN</td>\n",
              "      <td>NaN</td>\n",
              "      <td>2</td>\n",
              "      <td>bad</td>\n",
              "    </tr>\n",
              "    <tr>\n",
              "      <th>2</th>\n",
              "      <td>USW00014765</td>\n",
              "      <td>2005-01-03</td>\n",
              "      <td>49.0</td>\n",
              "      <td>44</td>\n",
              "      <td>53</td>\n",
              "      <td>6.93</td>\n",
              "      <td>17.0</td>\n",
              "      <td>1.0</td>\n",
              "      <td>NaN</td>\n",
              "      <td>NaN</td>\n",
              "      <td>NaN</td>\n",
              "      <td>NaN</td>\n",
              "      <td>NaN</td>\n",
              "      <td>NaN</td>\n",
              "      <td>NaN</td>\n",
              "      <td>NaN</td>\n",
              "      <td>NaN</td>\n",
              "      <td>NaN</td>\n",
              "      <td>1.0</td>\n",
              "      <td>NaN</td>\n",
              "      <td>NaN</td>\n",
              "      <td>1.0</td>\n",
              "      <td>NaN</td>\n",
              "      <td>NaN</td>\n",
              "      <td>NaN</td>\n",
              "      <td>NaN</td>\n",
              "      <td>NaN</td>\n",
              "      <td>3</td>\n",
              "      <td>bad</td>\n",
              "    </tr>\n",
              "    <tr>\n",
              "      <th>3</th>\n",
              "      <td>USW00014765</td>\n",
              "      <td>2005-01-04</td>\n",
              "      <td>42.0</td>\n",
              "      <td>39</td>\n",
              "      <td>45</td>\n",
              "      <td>6.93</td>\n",
              "      <td>16.1</td>\n",
              "      <td>1.0</td>\n",
              "      <td>NaN</td>\n",
              "      <td>NaN</td>\n",
              "      <td>NaN</td>\n",
              "      <td>NaN</td>\n",
              "      <td>NaN</td>\n",
              "      <td>NaN</td>\n",
              "      <td>NaN</td>\n",
              "      <td>NaN</td>\n",
              "      <td>NaN</td>\n",
              "      <td>NaN</td>\n",
              "      <td>1.0</td>\n",
              "      <td>1.0</td>\n",
              "      <td>NaN</td>\n",
              "      <td>1.0</td>\n",
              "      <td>NaN</td>\n",
              "      <td>NaN</td>\n",
              "      <td>NaN</td>\n",
              "      <td>NaN</td>\n",
              "      <td>NaN</td>\n",
              "      <td>4</td>\n",
              "      <td>bad</td>\n",
              "    </tr>\n",
              "    <tr>\n",
              "      <th>4</th>\n",
              "      <td>USW00014765</td>\n",
              "      <td>2005-01-05</td>\n",
              "      <td>36.0</td>\n",
              "      <td>28</td>\n",
              "      <td>43</td>\n",
              "      <td>7.83</td>\n",
              "      <td>17.0</td>\n",
              "      <td>1.0</td>\n",
              "      <td>NaN</td>\n",
              "      <td>NaN</td>\n",
              "      <td>NaN</td>\n",
              "      <td>NaN</td>\n",
              "      <td>NaN</td>\n",
              "      <td>NaN</td>\n",
              "      <td>NaN</td>\n",
              "      <td>NaN</td>\n",
              "      <td>NaN</td>\n",
              "      <td>NaN</td>\n",
              "      <td>1.0</td>\n",
              "      <td>NaN</td>\n",
              "      <td>NaN</td>\n",
              "      <td>1.0</td>\n",
              "      <td>NaN</td>\n",
              "      <td>1.0</td>\n",
              "      <td>NaN</td>\n",
              "      <td>NaN</td>\n",
              "      <td>NaN</td>\n",
              "      <td>4</td>\n",
              "      <td>bad</td>\n",
              "    </tr>\n",
              "  </tbody>\n",
              "</table>\n",
              "</div>"
            ],
            "text/plain": [
              "       STATION        DATE  TAVG  TMIN  ...  WT21  WT22  bad_conditions  rating\n",
              "0  USW00014765  2005-01-01  44.0    35  ...   NaN   NaN               2     bad\n",
              "1  USW00014765  2005-01-02  36.0    28  ...   NaN   NaN               2     bad\n",
              "2  USW00014765  2005-01-03  49.0    44  ...   NaN   NaN               3     bad\n",
              "3  USW00014765  2005-01-04  42.0    39  ...   NaN   NaN               4     bad\n",
              "4  USW00014765  2005-01-05  36.0    28  ...   NaN   NaN               4     bad\n",
              "\n",
              "[5 rows x 29 columns]"
            ]
          },
          "metadata": {
            "tags": []
          },
          "execution_count": 55
        }
      ]
    },
    {
      "cell_type": "code",
      "metadata": {
        "id": "Ptcey3ib8sOW",
        "colab_type": "code",
        "colab": {
          "base_uri": "https://localhost:8080/",
          "height": 195
        },
        "outputId": "f02350d9-b89e-4c06-b169-38016ef3528b"
      },
      "source": [
        "# WE want to merge both the dataframes on DATES, but we want only the date and rating column value from wather dataframes.\n",
        "\n",
        "weather_rating = weather_ri.loc[:, ['DATE', 'rating']]\n",
        "weather_rating.head()"
      ],
      "execution_count": 56,
      "outputs": [
        {
          "output_type": "execute_result",
          "data": {
            "text/html": [
              "<div>\n",
              "<style scoped>\n",
              "    .dataframe tbody tr th:only-of-type {\n",
              "        vertical-align: middle;\n",
              "    }\n",
              "\n",
              "    .dataframe tbody tr th {\n",
              "        vertical-align: top;\n",
              "    }\n",
              "\n",
              "    .dataframe thead th {\n",
              "        text-align: right;\n",
              "    }\n",
              "</style>\n",
              "<table border=\"1\" class=\"dataframe\">\n",
              "  <thead>\n",
              "    <tr style=\"text-align: right;\">\n",
              "      <th></th>\n",
              "      <th>DATE</th>\n",
              "      <th>rating</th>\n",
              "    </tr>\n",
              "  </thead>\n",
              "  <tbody>\n",
              "    <tr>\n",
              "      <th>0</th>\n",
              "      <td>2005-01-01</td>\n",
              "      <td>bad</td>\n",
              "    </tr>\n",
              "    <tr>\n",
              "      <th>1</th>\n",
              "      <td>2005-01-02</td>\n",
              "      <td>bad</td>\n",
              "    </tr>\n",
              "    <tr>\n",
              "      <th>2</th>\n",
              "      <td>2005-01-03</td>\n",
              "      <td>bad</td>\n",
              "    </tr>\n",
              "    <tr>\n",
              "      <th>3</th>\n",
              "      <td>2005-01-04</td>\n",
              "      <td>bad</td>\n",
              "    </tr>\n",
              "    <tr>\n",
              "      <th>4</th>\n",
              "      <td>2005-01-05</td>\n",
              "      <td>bad</td>\n",
              "    </tr>\n",
              "  </tbody>\n",
              "</table>\n",
              "</div>"
            ],
            "text/plain": [
              "         DATE rating\n",
              "0  2005-01-01    bad\n",
              "1  2005-01-02    bad\n",
              "2  2005-01-03    bad\n",
              "3  2005-01-04    bad\n",
              "4  2005-01-05    bad"
            ]
          },
          "metadata": {
            "tags": []
          },
          "execution_count": 56
        }
      ]
    },
    {
      "cell_type": "code",
      "metadata": {
        "id": "uvWEyN2dC_k5",
        "colab_type": "code",
        "colab": {
          "base_uri": "https://localhost:8080/",
          "height": 299
        },
        "outputId": "ae06d615-4e8c-42d8-f98e-8bb3cf737014"
      },
      "source": [
        " police_stops_ri.reset_index(inplace = True)\n",
        " police_stops_ri.head()"
      ],
      "execution_count": 57,
      "outputs": [
        {
          "output_type": "execute_result",
          "data": {
            "text/html": [
              "<div>\n",
              "<style scoped>\n",
              "    .dataframe tbody tr th:only-of-type {\n",
              "        vertical-align: middle;\n",
              "    }\n",
              "\n",
              "    .dataframe tbody tr th {\n",
              "        vertical-align: top;\n",
              "    }\n",
              "\n",
              "    .dataframe thead th {\n",
              "        text-align: right;\n",
              "    }\n",
              "</style>\n",
              "<table border=\"1\" class=\"dataframe\">\n",
              "  <thead>\n",
              "    <tr style=\"text-align: right;\">\n",
              "      <th></th>\n",
              "      <th>stop_date_time</th>\n",
              "      <th>stop_date</th>\n",
              "      <th>stop_time</th>\n",
              "      <th>driver_gender</th>\n",
              "      <th>driver_race</th>\n",
              "      <th>violation_raw</th>\n",
              "      <th>violation</th>\n",
              "      <th>search_conducted</th>\n",
              "      <th>search_type</th>\n",
              "      <th>stop_outcome</th>\n",
              "      <th>is_arrested</th>\n",
              "      <th>stop_duration</th>\n",
              "      <th>drugs_related_stop</th>\n",
              "      <th>district</th>\n",
              "      <th>Inventory_Searched</th>\n",
              "      <th>Protective_Frisk</th>\n",
              "    </tr>\n",
              "  </thead>\n",
              "  <tbody>\n",
              "    <tr>\n",
              "      <th>0</th>\n",
              "      <td>2005-01-04 12:55:00</td>\n",
              "      <td>2005-01-04</td>\n",
              "      <td>12:55</td>\n",
              "      <td>M</td>\n",
              "      <td>White</td>\n",
              "      <td>Equipment/Inspection Violation</td>\n",
              "      <td>Equipment</td>\n",
              "      <td>False</td>\n",
              "      <td>NaN</td>\n",
              "      <td>Citation</td>\n",
              "      <td>False</td>\n",
              "      <td>0-15 Min</td>\n",
              "      <td>False</td>\n",
              "      <td>Zone X4</td>\n",
              "      <td>False</td>\n",
              "      <td>False</td>\n",
              "    </tr>\n",
              "    <tr>\n",
              "      <th>1</th>\n",
              "      <td>2005-01-23 23:15:00</td>\n",
              "      <td>2005-01-23</td>\n",
              "      <td>23:15</td>\n",
              "      <td>M</td>\n",
              "      <td>White</td>\n",
              "      <td>Speeding</td>\n",
              "      <td>Speeding</td>\n",
              "      <td>False</td>\n",
              "      <td>NaN</td>\n",
              "      <td>Citation</td>\n",
              "      <td>False</td>\n",
              "      <td>0-15 Min</td>\n",
              "      <td>False</td>\n",
              "      <td>Zone K3</td>\n",
              "      <td>False</td>\n",
              "      <td>False</td>\n",
              "    </tr>\n",
              "    <tr>\n",
              "      <th>2</th>\n",
              "      <td>2005-02-17 04:15:00</td>\n",
              "      <td>2005-02-17</td>\n",
              "      <td>04:15</td>\n",
              "      <td>M</td>\n",
              "      <td>White</td>\n",
              "      <td>Speeding</td>\n",
              "      <td>Speeding</td>\n",
              "      <td>False</td>\n",
              "      <td>NaN</td>\n",
              "      <td>Citation</td>\n",
              "      <td>False</td>\n",
              "      <td>0-15 Min</td>\n",
              "      <td>False</td>\n",
              "      <td>Zone X4</td>\n",
              "      <td>False</td>\n",
              "      <td>False</td>\n",
              "    </tr>\n",
              "    <tr>\n",
              "      <th>3</th>\n",
              "      <td>2005-02-20 17:15:00</td>\n",
              "      <td>2005-02-20</td>\n",
              "      <td>17:15</td>\n",
              "      <td>M</td>\n",
              "      <td>White</td>\n",
              "      <td>Call for Service</td>\n",
              "      <td>Other</td>\n",
              "      <td>False</td>\n",
              "      <td>NaN</td>\n",
              "      <td>Arrest Driver</td>\n",
              "      <td>True</td>\n",
              "      <td>16-30 Min</td>\n",
              "      <td>False</td>\n",
              "      <td>Zone X1</td>\n",
              "      <td>False</td>\n",
              "      <td>False</td>\n",
              "    </tr>\n",
              "    <tr>\n",
              "      <th>4</th>\n",
              "      <td>2005-02-24 01:20:00</td>\n",
              "      <td>2005-02-24</td>\n",
              "      <td>01:20</td>\n",
              "      <td>F</td>\n",
              "      <td>White</td>\n",
              "      <td>Speeding</td>\n",
              "      <td>Speeding</td>\n",
              "      <td>False</td>\n",
              "      <td>NaN</td>\n",
              "      <td>Citation</td>\n",
              "      <td>False</td>\n",
              "      <td>0-15 Min</td>\n",
              "      <td>False</td>\n",
              "      <td>Zone X3</td>\n",
              "      <td>False</td>\n",
              "      <td>False</td>\n",
              "    </tr>\n",
              "  </tbody>\n",
              "</table>\n",
              "</div>"
            ],
            "text/plain": [
              "       stop_date_time   stop_date  ... Inventory_Searched Protective_Frisk\n",
              "0 2005-01-04 12:55:00  2005-01-04  ...              False            False\n",
              "1 2005-01-23 23:15:00  2005-01-23  ...              False            False\n",
              "2 2005-02-17 04:15:00  2005-02-17  ...              False            False\n",
              "3 2005-02-20 17:15:00  2005-02-20  ...              False            False\n",
              "4 2005-02-24 01:20:00  2005-02-24  ...              False            False\n",
              "\n",
              "[5 rows x 16 columns]"
            ]
          },
          "metadata": {
            "tags": []
          },
          "execution_count": 57
        }
      ]
    },
    {
      "cell_type": "code",
      "metadata": {
        "id": "cpFKzgx18nYP",
        "colab_type": "code",
        "colab": {
          "base_uri": "https://localhost:8080/",
          "height": 346
        },
        "outputId": "3c2ad225-7153-4752-e99c-05a62b59be97"
      },
      "source": [
        "\n",
        "police_stops_weather_ri = pd.merge(left = police_stops_ri, right = weather_rating, left_on = 'stop_date', right_on = 'DATE', how = 'left')\n",
        "police_stops_weather_ri.set_index('stop_date_time', drop=True, inplace=True)\n",
        "\n",
        "print(police_stops_weather_ri.shape)\n",
        "police_stops_weather_ri.head()"
      ],
      "execution_count": 58,
      "outputs": [
        {
          "output_type": "stream",
          "text": [
            "(86536, 17)\n"
          ],
          "name": "stdout"
        },
        {
          "output_type": "execute_result",
          "data": {
            "text/html": [
              "<div>\n",
              "<style scoped>\n",
              "    .dataframe tbody tr th:only-of-type {\n",
              "        vertical-align: middle;\n",
              "    }\n",
              "\n",
              "    .dataframe tbody tr th {\n",
              "        vertical-align: top;\n",
              "    }\n",
              "\n",
              "    .dataframe thead th {\n",
              "        text-align: right;\n",
              "    }\n",
              "</style>\n",
              "<table border=\"1\" class=\"dataframe\">\n",
              "  <thead>\n",
              "    <tr style=\"text-align: right;\">\n",
              "      <th></th>\n",
              "      <th>stop_date</th>\n",
              "      <th>stop_time</th>\n",
              "      <th>driver_gender</th>\n",
              "      <th>driver_race</th>\n",
              "      <th>violation_raw</th>\n",
              "      <th>violation</th>\n",
              "      <th>search_conducted</th>\n",
              "      <th>search_type</th>\n",
              "      <th>stop_outcome</th>\n",
              "      <th>is_arrested</th>\n",
              "      <th>stop_duration</th>\n",
              "      <th>drugs_related_stop</th>\n",
              "      <th>district</th>\n",
              "      <th>Inventory_Searched</th>\n",
              "      <th>Protective_Frisk</th>\n",
              "      <th>DATE</th>\n",
              "      <th>rating</th>\n",
              "    </tr>\n",
              "    <tr>\n",
              "      <th>stop_date_time</th>\n",
              "      <th></th>\n",
              "      <th></th>\n",
              "      <th></th>\n",
              "      <th></th>\n",
              "      <th></th>\n",
              "      <th></th>\n",
              "      <th></th>\n",
              "      <th></th>\n",
              "      <th></th>\n",
              "      <th></th>\n",
              "      <th></th>\n",
              "      <th></th>\n",
              "      <th></th>\n",
              "      <th></th>\n",
              "      <th></th>\n",
              "      <th></th>\n",
              "      <th></th>\n",
              "    </tr>\n",
              "  </thead>\n",
              "  <tbody>\n",
              "    <tr>\n",
              "      <th>2005-01-04 12:55:00</th>\n",
              "      <td>2005-01-04</td>\n",
              "      <td>12:55</td>\n",
              "      <td>M</td>\n",
              "      <td>White</td>\n",
              "      <td>Equipment/Inspection Violation</td>\n",
              "      <td>Equipment</td>\n",
              "      <td>False</td>\n",
              "      <td>NaN</td>\n",
              "      <td>Citation</td>\n",
              "      <td>False</td>\n",
              "      <td>0-15 Min</td>\n",
              "      <td>False</td>\n",
              "      <td>Zone X4</td>\n",
              "      <td>False</td>\n",
              "      <td>False</td>\n",
              "      <td>2005-01-04</td>\n",
              "      <td>bad</td>\n",
              "    </tr>\n",
              "    <tr>\n",
              "      <th>2005-01-23 23:15:00</th>\n",
              "      <td>2005-01-23</td>\n",
              "      <td>23:15</td>\n",
              "      <td>M</td>\n",
              "      <td>White</td>\n",
              "      <td>Speeding</td>\n",
              "      <td>Speeding</td>\n",
              "      <td>False</td>\n",
              "      <td>NaN</td>\n",
              "      <td>Citation</td>\n",
              "      <td>False</td>\n",
              "      <td>0-15 Min</td>\n",
              "      <td>False</td>\n",
              "      <td>Zone K3</td>\n",
              "      <td>False</td>\n",
              "      <td>False</td>\n",
              "      <td>2005-01-23</td>\n",
              "      <td>worse</td>\n",
              "    </tr>\n",
              "    <tr>\n",
              "      <th>2005-02-17 04:15:00</th>\n",
              "      <td>2005-02-17</td>\n",
              "      <td>04:15</td>\n",
              "      <td>M</td>\n",
              "      <td>White</td>\n",
              "      <td>Speeding</td>\n",
              "      <td>Speeding</td>\n",
              "      <td>False</td>\n",
              "      <td>NaN</td>\n",
              "      <td>Citation</td>\n",
              "      <td>False</td>\n",
              "      <td>0-15 Min</td>\n",
              "      <td>False</td>\n",
              "      <td>Zone X4</td>\n",
              "      <td>False</td>\n",
              "      <td>False</td>\n",
              "      <td>2005-02-17</td>\n",
              "      <td>good</td>\n",
              "    </tr>\n",
              "    <tr>\n",
              "      <th>2005-02-20 17:15:00</th>\n",
              "      <td>2005-02-20</td>\n",
              "      <td>17:15</td>\n",
              "      <td>M</td>\n",
              "      <td>White</td>\n",
              "      <td>Call for Service</td>\n",
              "      <td>Other</td>\n",
              "      <td>False</td>\n",
              "      <td>NaN</td>\n",
              "      <td>Arrest Driver</td>\n",
              "      <td>True</td>\n",
              "      <td>16-30 Min</td>\n",
              "      <td>False</td>\n",
              "      <td>Zone X1</td>\n",
              "      <td>False</td>\n",
              "      <td>False</td>\n",
              "      <td>2005-02-20</td>\n",
              "      <td>bad</td>\n",
              "    </tr>\n",
              "    <tr>\n",
              "      <th>2005-02-24 01:20:00</th>\n",
              "      <td>2005-02-24</td>\n",
              "      <td>01:20</td>\n",
              "      <td>F</td>\n",
              "      <td>White</td>\n",
              "      <td>Speeding</td>\n",
              "      <td>Speeding</td>\n",
              "      <td>False</td>\n",
              "      <td>NaN</td>\n",
              "      <td>Citation</td>\n",
              "      <td>False</td>\n",
              "      <td>0-15 Min</td>\n",
              "      <td>False</td>\n",
              "      <td>Zone X3</td>\n",
              "      <td>False</td>\n",
              "      <td>False</td>\n",
              "      <td>2005-02-24</td>\n",
              "      <td>bad</td>\n",
              "    </tr>\n",
              "  </tbody>\n",
              "</table>\n",
              "</div>"
            ],
            "text/plain": [
              "                      stop_date stop_time  ...        DATE rating\n",
              "stop_date_time                             ...                   \n",
              "2005-01-04 12:55:00  2005-01-04     12:55  ...  2005-01-04    bad\n",
              "2005-01-23 23:15:00  2005-01-23     23:15  ...  2005-01-23  worse\n",
              "2005-02-17 04:15:00  2005-02-17     04:15  ...  2005-02-17   good\n",
              "2005-02-20 17:15:00  2005-02-20     17:15  ...  2005-02-20    bad\n",
              "2005-02-24 01:20:00  2005-02-24     01:20  ...  2005-02-24    bad\n",
              "\n",
              "[5 rows x 17 columns]"
            ]
          },
          "metadata": {
            "tags": []
          },
          "execution_count": 58
        }
      ]
    },
    {
      "cell_type": "code",
      "metadata": {
        "id": "oMJ0nYNF-47B",
        "colab_type": "code",
        "colab": {
          "base_uri": "https://localhost:8080/",
          "height": 545
        },
        "outputId": "524ee2b6-8221-46ab-e0de-9b73e0c4e394"
      },
      "source": [
        "# Now we can easily analyze the police behavior and weathers correlation.\n",
        "# Does the weather affect the Arrest rate ?\n",
        "\n",
        "\n",
        "print(f\"Overall Arrest Rate: {police_stops_weather_ri.is_arrested.mean()}\")\n",
        "print('-'*40)\n",
        "print(f\"Arrest rate for each Weather Rating: \")\n",
        "print(police_stops_weather_ri.groupby('rating').is_arrested.mean())\n",
        "print('-'*40)\n",
        "print(f\"Arrest rate for each combination of Violation and Weather rating: \")\n",
        "print(police_stops_weather_ri.groupby(['violation', 'rating']).is_arrested.mean())\n"
      ],
      "execution_count": 59,
      "outputs": [
        {
          "output_type": "stream",
          "text": [
            "Overall Arrest Rate: 0.0355690117407784\n",
            "----------------------------------------\n",
            "Arrest rate for each Weather Rating: \n",
            "rating\n",
            "good     0.033715\n",
            "bad      0.036261\n",
            "worse    0.041667\n",
            "Name: is_arrested, dtype: float64\n",
            "----------------------------------------\n",
            "Arrest rate for each combination of Violation and Weather rating: \n",
            "violation            rating\n",
            "Equipment            good      0.059007\n",
            "                     bad       0.066311\n",
            "                     worse     0.097357\n",
            "Moving violation     good      0.056227\n",
            "                     bad       0.058050\n",
            "                     worse     0.065860\n",
            "Other                good      0.076966\n",
            "                     bad       0.087443\n",
            "                     worse     0.062893\n",
            "Registration/plates  good      0.081574\n",
            "                     bad       0.098160\n",
            "                     worse     0.115625\n",
            "Seat belt            good      0.028587\n",
            "                     bad       0.022493\n",
            "                     worse     0.000000\n",
            "Speeding             good      0.013405\n",
            "                     bad       0.013314\n",
            "                     worse     0.016886\n",
            "Name: is_arrested, dtype: float64\n"
          ],
          "name": "stdout"
        }
      ]
    },
    {
      "cell_type": "code",
      "metadata": {
        "id": "oVrBpOweFqJd",
        "colab_type": "code",
        "colab": {
          "base_uri": "https://localhost:8080/",
          "height": 254
        },
        "outputId": "06fb48dc-7322-4780-d45e-ccf89576b765"
      },
      "source": [
        "pd.crosstab(index = police_stops_weather_ri.violation, columns = police_stops_weather_ri.rating, values= police_stops_weather_ri.is_arrested * 100 , aggfunc='mean')"
      ],
      "execution_count": 60,
      "outputs": [
        {
          "output_type": "execute_result",
          "data": {
            "text/html": [
              "<div>\n",
              "<style scoped>\n",
              "    .dataframe tbody tr th:only-of-type {\n",
              "        vertical-align: middle;\n",
              "    }\n",
              "\n",
              "    .dataframe tbody tr th {\n",
              "        vertical-align: top;\n",
              "    }\n",
              "\n",
              "    .dataframe thead th {\n",
              "        text-align: right;\n",
              "    }\n",
              "</style>\n",
              "<table border=\"1\" class=\"dataframe\">\n",
              "  <thead>\n",
              "    <tr style=\"text-align: right;\">\n",
              "      <th>rating</th>\n",
              "      <th>good</th>\n",
              "      <th>bad</th>\n",
              "      <th>worse</th>\n",
              "    </tr>\n",
              "    <tr>\n",
              "      <th>violation</th>\n",
              "      <th></th>\n",
              "      <th></th>\n",
              "      <th></th>\n",
              "    </tr>\n",
              "  </thead>\n",
              "  <tbody>\n",
              "    <tr>\n",
              "      <th>Equipment</th>\n",
              "      <td>5.900682</td>\n",
              "      <td>6.631143</td>\n",
              "      <td>9.735744</td>\n",
              "    </tr>\n",
              "    <tr>\n",
              "      <th>Moving violation</th>\n",
              "      <td>5.622708</td>\n",
              "      <td>5.804964</td>\n",
              "      <td>6.586022</td>\n",
              "    </tr>\n",
              "    <tr>\n",
              "      <th>Other</th>\n",
              "      <td>7.696567</td>\n",
              "      <td>8.744281</td>\n",
              "      <td>6.289308</td>\n",
              "    </tr>\n",
              "    <tr>\n",
              "      <th>Registration/plates</th>\n",
              "      <td>8.157444</td>\n",
              "      <td>9.815951</td>\n",
              "      <td>11.562500</td>\n",
              "    </tr>\n",
              "    <tr>\n",
              "      <th>Seat belt</th>\n",
              "      <td>2.858744</td>\n",
              "      <td>2.249297</td>\n",
              "      <td>0.000000</td>\n",
              "    </tr>\n",
              "    <tr>\n",
              "      <th>Speeding</th>\n",
              "      <td>1.340458</td>\n",
              "      <td>1.331436</td>\n",
              "      <td>1.688596</td>\n",
              "    </tr>\n",
              "  </tbody>\n",
              "</table>\n",
              "</div>"
            ],
            "text/plain": [
              "rating                   good       bad      worse\n",
              "violation                                         \n",
              "Equipment            5.900682  6.631143   9.735744\n",
              "Moving violation     5.622708  5.804964   6.586022\n",
              "Other                7.696567  8.744281   6.289308\n",
              "Registration/plates  8.157444  9.815951  11.562500\n",
              "Seat belt            2.858744  2.249297   0.000000\n",
              "Speeding             1.340458  1.331436   1.688596"
            ]
          },
          "metadata": {
            "tags": []
          },
          "execution_count": 60
        }
      ]
    },
    {
      "cell_type": "markdown",
      "metadata": {
        "id": "pcPwjFMeFJXy",
        "colab_type": "text"
      },
      "source": [
        "## **Conclusion:** Wow!!!, The arrest rate increases as the weather gets worse, and that trend persists across many of the violation types. This doesn't prove a causal link, but it's quite an interesting result!"
      ]
    }
  ]
}