{
  "nbformat": 4,
  "nbformat_minor": 0,
  "metadata": {
    "colab": {
      "name": "Data Visualization with Matplotlib .ipynb",
      "provenance": [],
      "toc_visible": true,
      "authorship_tag": "ABX9TyOrt1eAz2al9cVM7bAS6d30",
      "include_colab_link": true
    },
    "kernelspec": {
      "name": "python3",
      "display_name": "Python 3"
    }
  },
  "cells": [
    {
      "cell_type": "markdown",
      "metadata": {
        "id": "view-in-github",
        "colab_type": "text"
      },
      "source": [
        "<a href=\"https://colab.research.google.com/github/manoj7pal/Google-Colab-Notebooks/blob/master/DataVisualizationWithMatplotlib.ipynb\" target=\"_parent\"><img src=\"https://colab.research.google.com/assets/colab-badge.svg\" alt=\"Open In Colab\"/></a>"
      ]
    },
    {
      "cell_type": "code",
      "metadata": {
        "id": "cGaIjhhcYmD9",
        "colab_type": "code",
        "colab": {}
      },
      "source": [
        "%matplotlib inline\n",
        "\n",
        "import pandas as pd\n",
        "import numpy as np\n",
        "import matplotlib.pyplot as plt\n",
        "\n",
        "plt.style.use('ggplot')"
      ],
      "execution_count": null,
      "outputs": []
    },
    {
      "cell_type": "markdown",
      "metadata": {
        "id": "pJ71Wn8OdHbE",
        "colab_type": "text"
      },
      "source": [
        "## 1. Load Data"
      ]
    },
    {
      "cell_type": "code",
      "metadata": {
        "id": "2P9catyqa7iA",
        "colab_type": "code",
        "colab": {}
      },
      "source": [
        "seattle_weather = pd.read_csv('seattle_weather.csv')\n",
        "austin_weather = pd.read_csv('austin_weather.csv')\n",
        "climate_changes = pd.read_csv('climate_change.csv')\n",
        "medals_country = pd.read_csv('medals_by_country_2016.csv', index_col = 0)\n",
        "medalist_weights = pd.read_csv('summer2016.csv', index_col = 0)"
      ],
      "execution_count": null,
      "outputs": []
    },
    {
      "cell_type": "code",
      "metadata": {
        "id": "7Zr_v9ahb7om",
        "colab_type": "code",
        "colab": {
          "base_uri": "https://localhost:8080/",
          "height": 774
        },
        "outputId": "a5bc2f34-35bd-4483-8912-a0b9c2909cfd"
      },
      "source": [
        "seattle_weather.columns, seattle_weather.DATE.value_counts()"
      ],
      "execution_count": null,
      "outputs": [
        {
          "output_type": "execute_result",
          "data": {
            "text/plain": [
              "(Index(['STATION', 'NAME', 'DATE', 'MLY-CLDD-BASE45', 'MLY-CLDD-BASE50',\n",
              "        'MLY-CLDD-BASE55', 'MLY-CLDD-BASE57', 'MLY-CLDD-BASE60',\n",
              "        'MLY-CLDD-BASE70', 'MLY-CLDD-BASE72', 'MLY-CLDD-NORMAL',\n",
              "        'MLY-DUTR-NORMAL', 'MLY-DUTR-STDDEV', 'MLY-GRDD-BASE40',\n",
              "        'MLY-GRDD-BASE45', 'MLY-GRDD-BASE50', 'MLY-GRDD-BASE55',\n",
              "        'MLY-GRDD-BASE57', 'MLY-GRDD-BASE60', 'MLY-GRDD-BASE65',\n",
              "        'MLY-GRDD-BASE70', 'MLY-GRDD-BASE72', 'MLY-GRDD-TB4886',\n",
              "        'MLY-GRDD-TB5086', 'MLY-HTDD-BASE40', 'MLY-HTDD-BASE45',\n",
              "        'MLY-HTDD-BASE50', 'MLY-HTDD-BASE55', 'MLY-HTDD-BASE57',\n",
              "        'MLY-HTDD-BASE60', 'MLY-HTDD-NORMAL', 'MLY-PRCP-25PCTL',\n",
              "        'MLY-PRCP-50PCTL', 'MLY-PRCP-75PCTL', 'MLY-PRCP-AVGNDS-GE001HI',\n",
              "        'MLY-PRCP-AVGNDS-GE010HI', 'MLY-PRCP-AVGNDS-GE050HI',\n",
              "        'MLY-PRCP-AVGNDS-GE100HI', 'MLY-PRCP-NORMAL', 'MLY-SNOW-25PCTL',\n",
              "        'MLY-SNOW-50PCTL', 'MLY-SNOW-75PCTL', 'MLY-SNOW-AVGNDS-GE001TI',\n",
              "        'MLY-SNOW-AVGNDS-GE010TI', 'MLY-SNOW-AVGNDS-GE030TI',\n",
              "        'MLY-SNOW-AVGNDS-GE050TI', 'MLY-SNOW-AVGNDS-GE100TI', 'MLY-SNOW-NORMAL',\n",
              "        'MLY-SNWD-AVGNDS-GE001WI', 'MLY-SNWD-AVGNDS-GE003WI',\n",
              "        'MLY-SNWD-AVGNDS-GE005WI', 'MLY-SNWD-AVGNDS-GE010WI', 'MLY-TAVG-NORMAL',\n",
              "        'MLY-TAVG-STDDEV', 'MLY-TMAX-AVGNDS-GRTH040', 'MLY-TMAX-AVGNDS-GRTH050',\n",
              "        'MLY-TMAX-AVGNDS-GRTH060', 'MLY-TMAX-AVGNDS-GRTH070',\n",
              "        'MLY-TMAX-AVGNDS-GRTH080', 'MLY-TMAX-AVGNDS-GRTH090',\n",
              "        'MLY-TMAX-AVGNDS-GRTH100', 'MLY-TMAX-AVGNDS-LSTH032', 'MLY-TMAX-NORMAL',\n",
              "        'MLY-TMAX-STDDEV', 'MLY-TMIN-AVGNDS-LSTH000', 'MLY-TMIN-AVGNDS-LSTH010',\n",
              "        'MLY-TMIN-AVGNDS-LSTH020', 'MLY-TMIN-AVGNDS-LSTH032',\n",
              "        'MLY-TMIN-AVGNDS-LSTH040', 'MLY-TMIN-AVGNDS-LSTH050',\n",
              "        'MLY-TMIN-AVGNDS-LSTH060', 'MLY-TMIN-AVGNDS-LSTH070', 'MLY-TMIN-NORMAL',\n",
              "        'MLY-TMIN-PRBOCC-LSTH016', 'MLY-TMIN-PRBOCC-LSTH020',\n",
              "        'MLY-TMIN-PRBOCC-LSTH024', 'MLY-TMIN-PRBOCC-LSTH028',\n",
              "        'MLY-TMIN-PRBOCC-LSTH032', 'MLY-TMIN-PRBOCC-LSTH036',\n",
              "        'MLY-TMIN-STDDEV'],\n",
              "       dtype='object'), 12    17\n",
              " 11    17\n",
              " 10    17\n",
              " 9     17\n",
              " 8     17\n",
              " 7     17\n",
              " 6     17\n",
              " 5     17\n",
              " 4     17\n",
              " 3     17\n",
              " 2     17\n",
              " 1     17\n",
              " Name: DATE, dtype: int64)"
            ]
          },
          "metadata": {
            "tags": []
          },
          "execution_count": 151
        }
      ]
    },
    {
      "cell_type": "code",
      "metadata": {
        "id": "3ZL-dmYQb-oq",
        "colab_type": "code",
        "colab": {
          "base_uri": "https://localhost:8080/",
          "height": 686
        },
        "outputId": "93ac6240-191d-4498-faee-e0d9d0e5868b"
      },
      "source": [
        "austin_weather.columns, austin_weather.DATE.value_counts()"
      ],
      "execution_count": null,
      "outputs": [
        {
          "output_type": "execute_result",
          "data": {
            "text/plain": [
              "(Index(['STATION', 'NAME', 'DATE', 'MLY-CLDD-BASE45', 'MLY-CLDD-BASE50',\n",
              "        'MLY-CLDD-BASE55', 'MLY-CLDD-BASE57', 'MLY-CLDD-BASE60',\n",
              "        'MLY-CLDD-BASE70', 'MLY-CLDD-BASE72', 'MLY-CLDD-NORMAL',\n",
              "        'MLY-DUTR-NORMAL', 'MLY-DUTR-STDDEV', 'MLY-GRDD-BASE40',\n",
              "        'MLY-GRDD-BASE45', 'MLY-GRDD-BASE50', 'MLY-GRDD-BASE55',\n",
              "        'MLY-GRDD-BASE57', 'MLY-GRDD-BASE60', 'MLY-GRDD-BASE65',\n",
              "        'MLY-GRDD-BASE70', 'MLY-GRDD-BASE72', 'MLY-GRDD-TB4886',\n",
              "        'MLY-GRDD-TB5086', 'MLY-HTDD-BASE40', 'MLY-HTDD-BASE45',\n",
              "        'MLY-HTDD-BASE50', 'MLY-HTDD-BASE55', 'MLY-HTDD-BASE57',\n",
              "        'MLY-HTDD-BASE60', 'MLY-HTDD-NORMAL', 'MLY-PRCP-25PCTL',\n",
              "        'MLY-PRCP-50PCTL', 'MLY-PRCP-75PCTL', 'MLY-PRCP-AVGNDS-GE001HI',\n",
              "        'MLY-PRCP-AVGNDS-GE010HI', 'MLY-PRCP-AVGNDS-GE050HI',\n",
              "        'MLY-PRCP-AVGNDS-GE100HI', 'MLY-PRCP-NORMAL', 'MLY-TAVG-NORMAL',\n",
              "        'MLY-TAVG-STDDEV', 'MLY-TMAX-AVGNDS-GRTH040', 'MLY-TMAX-AVGNDS-GRTH050',\n",
              "        'MLY-TMAX-AVGNDS-GRTH060', 'MLY-TMAX-AVGNDS-GRTH070',\n",
              "        'MLY-TMAX-AVGNDS-GRTH080', 'MLY-TMAX-AVGNDS-GRTH090',\n",
              "        'MLY-TMAX-AVGNDS-GRTH100', 'MLY-TMAX-AVGNDS-LSTH032', 'MLY-TMAX-NORMAL',\n",
              "        'MLY-TMAX-STDDEV', 'MLY-TMIN-AVGNDS-LSTH000', 'MLY-TMIN-AVGNDS-LSTH010',\n",
              "        'MLY-TMIN-AVGNDS-LSTH020', 'MLY-TMIN-AVGNDS-LSTH032',\n",
              "        'MLY-TMIN-AVGNDS-LSTH040', 'MLY-TMIN-AVGNDS-LSTH050',\n",
              "        'MLY-TMIN-AVGNDS-LSTH060', 'MLY-TMIN-AVGNDS-LSTH070', 'MLY-TMIN-NORMAL',\n",
              "        'MLY-TMIN-PRBOCC-LSTH016', 'MLY-TMIN-PRBOCC-LSTH020',\n",
              "        'MLY-TMIN-PRBOCC-LSTH024', 'MLY-TMIN-PRBOCC-LSTH028',\n",
              "        'MLY-TMIN-PRBOCC-LSTH032', 'MLY-TMIN-PRBOCC-LSTH036',\n",
              "        'MLY-TMIN-STDDEV'],\n",
              "       dtype='object'), 12    1\n",
              " 11    1\n",
              " 10    1\n",
              " 9     1\n",
              " 8     1\n",
              " 7     1\n",
              " 6     1\n",
              " 5     1\n",
              " 4     1\n",
              " 3     1\n",
              " 2     1\n",
              " 1     1\n",
              " Name: DATE, dtype: int64)"
            ]
          },
          "metadata": {
            "tags": []
          },
          "execution_count": 152
        }
      ]
    },
    {
      "cell_type": "code",
      "metadata": {
        "id": "xtK0zJ-2irIz",
        "colab_type": "code",
        "colab": {}
      },
      "source": [
        ""
      ],
      "execution_count": null,
      "outputs": []
    },
    {
      "cell_type": "code",
      "metadata": {
        "id": "v20lTAqgcA54",
        "colab_type": "code",
        "colab": {
          "base_uri": "https://localhost:8080/",
          "height": 34
        },
        "outputId": "3cabf3ac-0523-4501-826a-9c0c1966a4bb"
      },
      "source": [
        "climate_changes.columns"
      ],
      "execution_count": null,
      "outputs": [
        {
          "output_type": "execute_result",
          "data": {
            "text/plain": [
              "Index(['date', 'co2', 'relative_temp'], dtype='object')"
            ]
          },
          "metadata": {
            "tags": []
          },
          "execution_count": 153
        }
      ]
    },
    {
      "cell_type": "code",
      "metadata": {
        "id": "m5s6kQA2cGvU",
        "colab_type": "code",
        "colab": {
          "base_uri": "https://localhost:8080/",
          "height": 34
        },
        "outputId": "03714d43-b84f-4df4-cbeb-621186c3842e"
      },
      "source": [
        "medals_country.columns"
      ],
      "execution_count": null,
      "outputs": [
        {
          "output_type": "execute_result",
          "data": {
            "text/plain": [
              "Index(['Bronze', 'Gold', 'Silver'], dtype='object')"
            ]
          },
          "metadata": {
            "tags": []
          },
          "execution_count": 154
        }
      ]
    },
    {
      "cell_type": "code",
      "metadata": {
        "id": "ImxTkjPjcIeI",
        "colab_type": "code",
        "colab": {
          "base_uri": "https://localhost:8080/",
          "height": 70
        },
        "outputId": "2904bea2-7c1b-414b-dbd1-2960f84dcb55"
      },
      "source": [
        "medalist_weights.columns"
      ],
      "execution_count": null,
      "outputs": [
        {
          "output_type": "execute_result",
          "data": {
            "text/plain": [
              "Index(['ID', 'Name', 'Sex', 'Age', 'Height', 'Weight', 'Team', 'NOC', 'Games',\n",
              "       'Year', 'Season', 'City', 'Sport', 'Event', 'Medal'],\n",
              "      dtype='object')"
            ]
          },
          "metadata": {
            "tags": []
          },
          "execution_count": 155
        }
      ]
    },
    {
      "cell_type": "markdown",
      "metadata": {
        "id": "Qt0sedVxeBoh",
        "colab_type": "text"
      },
      "source": [
        "## Pyplot Objects"
      ]
    },
    {
      "cell_type": "markdown",
      "metadata": {
        "id": "beE_9D_ddd15",
        "colab_type": "text"
      },
      "source": [
        "#### a. **pyplot.subplots()** --> create two kinds of objects -- Figure objects and Axes objects."
      ]
    },
    {
      "cell_type": "code",
      "metadata": {
        "id": "tyOuUKAHdtk8",
        "colab_type": "code",
        "colab": {
          "base_uri": "https://localhost:8080/",
          "height": 304
        },
        "outputId": "21fe1cd2-16e6-4815-c469-2779bb4f9f45"
      },
      "source": [
        "plt.subplots()"
      ],
      "execution_count": null,
      "outputs": [
        {
          "output_type": "execute_result",
          "data": {
            "text/plain": [
              "(<Figure size 432x288 with 1 Axes>,\n",
              " <matplotlib.axes._subplots.AxesSubplot at 0x7fbd68171ba8>)"
            ]
          },
          "metadata": {
            "tags": []
          },
          "execution_count": 156
        },
        {
          "output_type": "display_data",
          "data": {
            "image/png": "[encoded data removed]",
            "text/plain": [
              "<Figure size 432x288 with 1 Axes>"
            ]
          },
          "metadata": {
            "tags": []
          }
        }
      ]
    },
    {
      "cell_type": "code",
      "metadata": {
        "id": "s4NBASI9iw9_",
        "colab_type": "code",
        "colab": {
          "base_uri": "https://localhost:8080/",
          "height": 281
        },
        "outputId": "286f6eb4-7886-4a60-8d5b-3e2412d3dadc"
      },
      "source": [
        "seattle_weather_grp = seattle_weather.groupby('DATE').mean()\n",
        "seattle_weather_grp.reset_index(inplace=True)\n",
        "seattle_weather_grp.head(20), type(seattle_weather_grp)"
      ],
      "execution_count": null,
      "outputs": [
        {
          "output_type": "execute_result",
          "data": {
            "text/plain": [
              "(    DATE  MLY-CLDD-BASE45  ...  MLY-TMIN-PRBOCC-LSTH036  MLY-TMIN-STDDEV\n",
              " 0      1        24.466667  ...               999.600000         2.733333\n",
              " 1      2        27.866667  ...               999.466667         2.900000\n",
              " 2      3        74.800000  ...               985.733333         2.060000\n",
              " 3      4       155.466667  ...               839.466667         1.906667\n",
              " 4      5       318.133333  ...               310.266667         1.933333\n",
              " 5      6       452.866667  ...                17.066667         1.453333\n",
              " 6      7       611.266667  ...                 0.200000         1.726667\n",
              " 7      8       623.266667  ...                 0.000000         1.460000\n",
              " 8      9       451.000000  ...                72.466667         1.733333\n",
              " 9     10       218.733333  ...               677.466667         1.866667\n",
              " 10    11        62.600000  ...               991.133333         3.080000\n",
              " 11    12        14.600000  ...              1000.000000         2.713333\n",
              " \n",
              " [12 rows x 78 columns], pandas.core.frame.DataFrame)"
            ]
          },
          "metadata": {
            "tags": []
          },
          "execution_count": 158
        }
      ]
    },
    {
      "cell_type": "code",
      "metadata": {
        "id": "3EPTSI9Od0WJ",
        "colab_type": "code",
        "colab": {
          "base_uri": "https://localhost:8080/",
          "height": 265
        },
        "outputId": "2e4570e3-cc3c-423e-a0b0-b4482bdcb4de"
      },
      "source": [
        "# Adding data to a figure is done by calling methods of the Axes\n",
        "fig, ax = plt.subplots(2)\n",
        "ax[0].plot(seattle_weather_grp['DATE'], seattle_weather_grp['MLY-PRCP-NORMAL'], c= 'b')            \n",
        "ax[1].plot(austin_weather.DATE, austin_weather['MLY-PRCP-NORMAL'], c = 'r')\n",
        "plt.show()"
      ],
      "execution_count": null,
      "outputs": [
        {
          "output_type": "display_data",
          "data": {
            "image/png": "[encoded data removed]",
            "text/plain": [
              "<Figure size 432x288 with 2 Axes>"
            ]
          },
          "metadata": {
            "tags": []
          }
        }
      ]
    },
    {
      "cell_type": "code",
      "metadata": {
        "id": "tkp_1KeUf4Ok",
        "colab_type": "code",
        "colab": {}
      },
      "source": [
        "# Adding data to a figure is done by calling methods of the Axes\n",
        "ax[0].plot(seattle_weather_grp['DATE'], seattle_weather_grp['MLY-PRCP-NORMAL'])            \n",
        "ax[1].plot(austin_weather.DATE, austin_weather['MLY-PRCP-NORMAL'])\n",
        "plt.show()"
      ],
      "execution_count": null,
      "outputs": []
    },
    {
      "cell_type": "code",
      "metadata": {
        "id": "NIbZveNJp3xt",
        "colab_type": "code",
        "colab": {
          "base_uri": "https://localhost:8080/",
          "height": 265
        },
        "outputId": "54f06f87-8f26-46cd-db39-495c763a1334"
      },
      "source": [
        "# Create a figure and an array of axes: 2 rows, 1 column with shared y axis\n",
        "fig, ax = plt.subplots(2, 1, sharey=True)\n",
        "\n",
        "# Plot Seattle precipitation data in the top axes\n",
        "ax[0].plot(seattle_weather_grp.DATE, seattle_weather_grp['MLY-PRCP-NORMAL'], color = 'b')\n",
        "ax[0].plot(seattle_weather_grp.DATE, seattle_weather_grp['MLY-PRCP-25PCTL'], color = 'b', linestyle = '--')\n",
        "ax[0].plot(seattle_weather_grp.DATE, seattle_weather_grp['MLY-PRCP-75PCTL'], color = 'b', linestyle = '--')\n",
        "\n",
        "# Plot Austin precipitation data in the bottom axes\n",
        "ax[1].plot(austin_weather.DATE, austin_weather['MLY-PRCP-NORMAL'], color = 'r')\n",
        "ax[1].plot(austin_weather.DATE, austin_weather['MLY-PRCP-25PCTL'], color = 'r', linestyle = '--')\n",
        "ax[1].plot(austin_weather.DATE, austin_weather['MLY-PRCP-75PCTL'], color = 'r', linestyle = '--')\n",
        "\n",
        "plt.show()"
      ],
      "execution_count": null,
      "outputs": [
        {
          "output_type": "display_data",
          "data": {
            "image/png": "[encoded data removed]",
            "text/plain": [
              "<Figure size 432x288 with 2 Axes>"
            ]
          },
          "metadata": {
            "tags": []
          }
        }
      ]
    },
    {
      "cell_type": "markdown",
      "metadata": {
        "id": "3jOIr-wDB0tA",
        "colab_type": "text"
      },
      "source": [
        "## Plotting Time-Series Data"
      ]
    },
    {
      "cell_type": "code",
      "metadata": {
        "id": "VE1OE9-DB6yd",
        "colab_type": "code",
        "colab": {}
      },
      "source": [
        ""
      ],
      "execution_count": null,
      "outputs": []
    },
    {
      "cell_type": "code",
      "metadata": {
        "id": "wGJCYWnqdras",
        "colab_type": "code",
        "colab": {}
      },
      "source": [
        ""
      ],
      "execution_count": null,
      "outputs": []
    },
    {
      "cell_type": "code",
      "metadata": {
        "id": "nLQ27R-fcKYu",
        "colab_type": "code",
        "colab": {}
      },
      "source": [
        ""
      ],
      "execution_count": null,
      "outputs": []
    },
    {
      "cell_type": "code",
      "metadata": {
        "id": "N5fGrQjob4ka",
        "colab_type": "code",
        "colab": {}
      },
      "source": [
        ""
      ],
      "execution_count": null,
      "outputs": []
    },
    {
      "cell_type": "code",
      "metadata": {
        "id": "a4O9nK-Fb2O-",
        "colab_type": "code",
        "colab": {}
      },
      "source": [
        ""
      ],
      "execution_count": null,
      "outputs": []
    }
  ]
}