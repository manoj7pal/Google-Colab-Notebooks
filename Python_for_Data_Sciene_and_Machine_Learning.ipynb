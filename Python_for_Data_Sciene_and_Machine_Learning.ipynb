{
  "nbformat": 4,
  "nbformat_minor": 0,
  "metadata": {
    "colab": {
      "name": "Python for Data Sciene and Machine Learning",
      "provenance": [],
      "collapsed_sections": [],
      "toc_visible": true,
      "authorship_tag": "ABX9TyN9gvEfi5CTMGhr+6/HtKu5",
      "include_colab_link": true
    },
    "kernelspec": {
      "name": "python3",
      "display_name": "Python 3"
    }
  },
  "cells": [
    {
      "cell_type": "markdown",
      "metadata": {
        "id": "view-in-github",
        "colab_type": "text"
      },
      "source": [
        "<a href=\"https://colab.research.google.com/github/manoj7pal/Google-Colab-Notebooks/blob/master/Python_for_Data_Sciene_and_Machine_Learning.ipynb\" target=\"_parent\"><img src=\"https://colab.research.google.com/assets/colab-badge.svg\" alt=\"Open In Colab\"/></a>"
      ]
    },
    {
      "cell_type": "markdown",
      "metadata": {
        "id": "0e8uPdcPwDHU",
        "colab_type": "text"
      },
      "source": [
        "## **Udemy: Python for Data Sciene and Machine Learning**"
      ]
    },
    {
      "cell_type": "markdown",
      "metadata": {
        "id": "gMUMpBBjwuSo",
        "colab_type": "text"
      },
      "source": [
        "### **1. Crash Course**\n",
        "\n",
        "  a. String Functions"
      ]
    },
    {
      "cell_type": "code",
      "metadata": {
        "id": "bsMpqkJVw525",
        "colab_type": "code",
        "colab": {}
      },
      "source": [
        "age = 28\n",
        "name = 'Manoj'"
      ],
      "execution_count": 0,
      "outputs": []
    },
    {
      "cell_type": "code",
      "metadata": {
        "id": "GLHaXr7xxuL9",
        "colab_type": "code",
        "colab": {
          "base_uri": "https://localhost:8080/",
          "height": 34
        },
        "outputId": "80960f33-e5a3-4d05-cb6d-08bd86d3a250"
      },
      "source": [
        "print(\"My name is {}. I am {} years old.\". format(name, age))"
      ],
      "execution_count": 12,
      "outputs": [
        {
          "output_type": "stream",
          "text": [
            "My name is Manoj. I am 28 years old.\n"
          ],
          "name": "stdout"
        }
      ]
    },
    {
      "cell_type": "code",
      "metadata": {
        "id": "VOhIdWIPyPB5",
        "colab_type": "code",
        "colab": {
          "base_uri": "https://localhost:8080/",
          "height": 34
        },
        "outputId": "6742dbf5-a36e-4ef7-8794-89520538ce60"
      },
      "source": [
        "print(\"My name is {one}. I am {two} years old. Key = {one}:{two}\".format(two=28,one='Manoj'))"
      ],
      "execution_count": 13,
      "outputs": [
        {
          "output_type": "stream",
          "text": [
            "My name is Manoj. I am 28 years old. Key = Manoj:28\n"
          ],
          "name": "stdout"
        }
      ]
    },
    {
      "cell_type": "code",
      "metadata": {
        "id": "4i9UPTaFyk0a",
        "colab_type": "code",
        "colab": {}
      },
      "source": [
        ""
      ],
      "execution_count": 0,
      "outputs": []
    },
    {
      "cell_type": "code",
      "metadata": {
        "id": "bxeUbHQxx0U5",
        "colab_type": "code",
        "colab": {}
      },
      "source": [
        ""
      ],
      "execution_count": 0,
      "outputs": []
    }
  ]
}