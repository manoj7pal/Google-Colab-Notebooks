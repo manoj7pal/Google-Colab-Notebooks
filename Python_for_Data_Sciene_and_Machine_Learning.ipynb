{
  "nbformat": 4,
  "nbformat_minor": 0,
  "metadata": {
    "colab": {
      "name": "Python for Data Sciene and Machine Learning",
      "provenance": [],
      "collapsed_sections": [],
      "toc_visible": true,
      "authorship_tag": "ABX9TyMXZLcg7ZnhswH0lAX0vCpi",
      "include_colab_link": true
    },
    "kernelspec": {
      "name": "python3",
      "display_name": "Python 3"
    }
  },
  "cells": [
    {
      "cell_type": "markdown",
      "metadata": {
        "id": "view-in-github",
        "colab_type": "text"
      },
      "source": [
        "<a href=\"https://colab.research.google.com/github/manoj7pal/Google-Colab-Notebooks/blob/master/Python_for_Data_Sciene_and_Machine_Learning.ipynb\" target=\"_parent\"><img src=\"https://colab.research.google.com/assets/colab-badge.svg\" alt=\"Open In Colab\"/></a>"
      ]
    },
    {
      "cell_type": "markdown",
      "metadata": {
        "id": "0e8uPdcPwDHU",
        "colab_type": "text"
      },
      "source": [
        "## **Udemy: Python for Data Sciene and Machine Learning**"
      ]
    },
    {
      "cell_type": "markdown",
      "metadata": {
        "id": "gMUMpBBjwuSo",
        "colab_type": "text"
      },
      "source": [
        "### **1. String Functions**"
      ]
    },
    {
      "cell_type": "code",
      "metadata": {
        "id": "bsMpqkJVw525",
        "colab_type": "code",
        "colab": {}
      },
      "source": [
        "# String Formatting\n",
        "age = 28\n",
        "name = 'Manoj'"
      ],
      "execution_count": 0,
      "outputs": []
    },
    {
      "cell_type": "code",
      "metadata": {
        "id": "GLHaXr7xxuL9",
        "colab_type": "code",
        "colab": {
          "base_uri": "https://localhost:8080/",
          "height": 34
        },
        "outputId": "80960f33-e5a3-4d05-cb6d-08bd86d3a250"
      },
      "source": [
        "print(\"My name is {}. I am {} years old.\". format(name, age))"
      ],
      "execution_count": 12,
      "outputs": [
        {
          "output_type": "stream",
          "text": [
            "My name is Manoj. I am 28 years old.\n"
          ],
          "name": "stdout"
        }
      ]
    },
    {
      "cell_type": "code",
      "metadata": {
        "id": "VOhIdWIPyPB5",
        "colab_type": "code",
        "colab": {
          "base_uri": "https://localhost:8080/",
          "height": 34
        },
        "outputId": "6742dbf5-a36e-4ef7-8794-89520538ce60"
      },
      "source": [
        "print(\"My name is {one}. I am {two} years old. Key = {one}:{two}\".format(two=28,one='Manoj'))"
      ],
      "execution_count": 13,
      "outputs": [
        {
          "output_type": "stream",
          "text": [
            "My name is Manoj. I am 28 years old. Key = Manoj:28\n"
          ],
          "name": "stdout"
        }
      ]
    },
    {
      "cell_type": "code",
      "metadata": {
        "id": "4i9UPTaFyk0a",
        "colab_type": "code",
        "colab": {
          "base_uri": "https://localhost:8080/",
          "height": 34
        },
        "outputId": "d83f47b3-114b-4cc8-9262-0d6f1c67d9a2"
      },
      "source": [
        "# Indexing\n",
        "\n",
        "s = 'SAFRIN MANOJ PAL'\n",
        "s[0]"
      ],
      "execution_count": 14,
      "outputs": [
        {
          "output_type": "execute_result",
          "data": {
            "text/plain": [
              "'S'"
            ]
          },
          "metadata": {
            "tags": []
          },
          "execution_count": 14
        }
      ]
    },
    {
      "cell_type": "code",
      "metadata": {
        "id": "qEXlSzQe3Cy4",
        "colab_type": "code",
        "colab": {
          "base_uri": "https://localhost:8080/",
          "height": 34
        },
        "outputId": "0e50cfc3-4ccc-4ee4-ea98-3cb98fdc2ae7"
      },
      "source": [
        "s[3]"
      ],
      "execution_count": 15,
      "outputs": [
        {
          "output_type": "execute_result",
          "data": {
            "text/plain": [
              "'R'"
            ]
          },
          "metadata": {
            "tags": []
          },
          "execution_count": 15
        }
      ]
    },
    {
      "cell_type": "code",
      "metadata": {
        "id": "OkDPI_qk3Fzy",
        "colab_type": "code",
        "colab": {
          "base_uri": "https://localhost:8080/",
          "height": 119
        },
        "outputId": "8fd1fa75-2ce7-49f3-ed3b-4968e7bbc999"
      },
      "source": [
        "#Slicing\n",
        "\n",
        "print(s[0:])\n",
        "print(s[0:6])\n",
        "print(s[7:12])\n",
        "print(s[13:])\n",
        "print(s[-3:])\n",
        "\n",
        "print('Reverse: '+ s[::-1])"
      ],
      "execution_count": 36,
      "outputs": [
        {
          "output_type": "stream",
          "text": [
            "SAFRIN MANOJ PAL\n",
            "SAFRIN\n",
            "MANOJ\n",
            "PAL\n",
            "PAL\n",
            "Reverse: LAP JONAM NIRFAS\n"
          ],
          "name": "stdout"
        }
      ]
    },
    {
      "cell_type": "markdown",
      "metadata": {
        "id": "HMSKG8RaBLwD",
        "colab_type": "text"
      },
      "source": [
        "###**2. List**"
      ]
    },
    {
      "cell_type": "code",
      "metadata": {
        "id": "gM1A0gvw3Iv6",
        "colab_type": "code",
        "colab": {
          "base_uri": "https://localhost:8080/",
          "height": 68
        },
        "outputId": "f72b3fae-bc5e-43c8-bfab-fd52ed178f00"
      },
      "source": [
        "a= [1,2,3,4,5]\n",
        "\n",
        "print(a[0])\n",
        "print(a[0:3])\n",
        "print(a + [6,7,8,9,10])\n"
      ],
      "execution_count": 49,
      "outputs": [
        {
          "output_type": "stream",
          "text": [
            "1\n",
            "[1, 2, 3]\n",
            "[1, 2, 3, 4, 5, 6, 7, 8, 9, 10]\n"
          ],
          "name": "stdout"
        }
      ]
    },
    {
      "cell_type": "code",
      "metadata": {
        "id": "bxeUbHQxx0U5",
        "colab_type": "code",
        "colab": {
          "base_uri": "https://localhost:8080/",
          "height": 34
        },
        "outputId": "d0b7a53a-71e1-4ec5-82ca-a8a37b971a0f"
      },
      "source": [
        "#Append enforces persistence to list addition.\n",
        "\n",
        "a.append('6')\n",
        "print(a)\n"
      ],
      "execution_count": 51,
      "outputs": [
        {
          "output_type": "stream",
          "text": [
            "[1, 2, 3, 4, 5, '6', '6']\n"
          ],
          "name": "stdout"
        }
      ]
    },
    {
      "cell_type": "code",
      "metadata": {
        "id": "lz0RnAB0DyAO",
        "colab_type": "code",
        "colab": {}
      },
      "source": [
        "#List is a mutable object i.e u can modify/update a list elements"
      ],
      "execution_count": 0,
      "outputs": []
    },
    {
      "cell_type": "code",
      "metadata": {
        "id": "YGDGD4kTB55E",
        "colab_type": "code",
        "colab": {
          "base_uri": "https://localhost:8080/",
          "height": 34
        },
        "outputId": "722a2212-8208-4f8d-ae08-f867ea2b2eef"
      },
      "source": [
        "a =[10,21,30,40,50]\n",
        "print(a[1])"
      ],
      "execution_count": 52,
      "outputs": [
        {
          "output_type": "stream",
          "text": [
            "21\n"
          ],
          "name": "stdout"
        }
      ]
    },
    {
      "cell_type": "code",
      "metadata": {
        "id": "lZmuVvKxB6GC",
        "colab_type": "code",
        "colab": {
          "base_uri": "https://localhost:8080/",
          "height": 51
        },
        "outputId": "65459dd1-744d-464e-f217-80375665f4c1"
      },
      "source": [
        "a[1]=20\n",
        "print(a[1])\n",
        "print(a)"
      ],
      "execution_count": 86,
      "outputs": [
        {
          "output_type": "stream",
          "text": [
            "20\n",
            "['One', 20, 'Three']\n"
          ],
          "name": "stdout"
        }
      ]
    },
    {
      "cell_type": "code",
      "metadata": {
        "id": "hqTfmGoobtNV",
        "colab_type": "code",
        "colab": {
          "base_uri": "https://localhost:8080/",
          "height": 34
        },
        "outputId": "60743e7d-4523-48fd-f117-94bdc9450a54"
      },
      "source": [
        "het_list = ['One', 1, True,[5,6,7] ]\n",
        "print(het_list)"
      ],
      "execution_count": 88,
      "outputs": [
        {
          "output_type": "stream",
          "text": [
            "['One', 1, True, [5, 6, 7]]\n"
          ],
          "name": "stdout"
        }
      ]
    },
    {
      "cell_type": "markdown",
      "metadata": {
        "id": "8inLVtJfJvkg",
        "colab_type": "text"
      },
      "source": [
        "###**3. Dictionary**"
      ]
    },
    {
      "cell_type": "code",
      "metadata": {
        "id": "6axna5t9EG1R",
        "colab_type": "code",
        "colab": {
          "base_uri": "https://localhost:8080/",
          "height": 34
        },
        "outputId": "5cdbaab6-bb61-4d91-d6a6-6f66a5c30649"
      },
      "source": [
        "# Declaration\n",
        "\n",
        "my_dict = {1: 'One', 2: 'Two', 3: 'Three'}\n",
        "print(my_dict)"
      ],
      "execution_count": 66,
      "outputs": [
        {
          "output_type": "stream",
          "text": [
            "{1: 'One', 2: 'Two', 3: 'Three'}\n"
          ],
          "name": "stdout"
        }
      ]
    },
    {
      "cell_type": "code",
      "metadata": {
        "id": "jZT4wmf_XA_W",
        "colab_type": "code",
        "colab": {
          "base_uri": "https://localhost:8080/",
          "height": 34
        },
        "outputId": "b00a9717-3bf9-4494-8689-6e13d07c44ca"
      },
      "source": [
        "# Accessing value of dictionary : By Passing a key\n",
        "\n",
        "print(my_dict[1])"
      ],
      "execution_count": 67,
      "outputs": [
        {
          "output_type": "execute_result",
          "data": {
            "text/plain": [
              "'One'"
            ]
          },
          "metadata": {
            "tags": []
          },
          "execution_count": 67
        }
      ]
    },
    {
      "cell_type": "code",
      "metadata": {
        "id": "QzywAAyDXBQL",
        "colab_type": "code",
        "colab": {
          "base_uri": "https://localhost:8080/",
          "height": 68
        },
        "outputId": "6127cde2-33f7-494a-afd6-38e81de77674"
      },
      "source": [
        "# Checking existence of specific key or values in the dictionary\n",
        "\n",
        "print(1 in my_dict)\n",
        "print(2 in my_dict.keys())\n",
        "print('One' in my_dict.values())"
      ],
      "execution_count": 70,
      "outputs": [
        {
          "output_type": "stream",
          "text": [
            "True\n",
            "True\n",
            "True\n"
          ],
          "name": "stdout"
        }
      ]
    },
    {
      "cell_type": "code",
      "metadata": {
        "id": "rGqvgh0NEED3",
        "colab_type": "code",
        "colab": {
          "base_uri": "https://localhost:8080/",
          "height": 34
        },
        "outputId": "a3037563-9f36-44dc-ae3c-2d00d16093b9"
      },
      "source": [
        "my_dict.keys()"
      ],
      "execution_count": 57,
      "outputs": [
        {
          "output_type": "execute_result",
          "data": {
            "text/plain": [
              "dict_keys([1, 2, 3])"
            ]
          },
          "metadata": {
            "tags": []
          },
          "execution_count": 57
        }
      ]
    },
    {
      "cell_type": "code",
      "metadata": {
        "id": "Q0eQoAb9WNPu",
        "colab_type": "code",
        "colab": {
          "base_uri": "https://localhost:8080/",
          "height": 51
        },
        "outputId": "7b58edb0-e933-476a-e5bf-f8b7fff58b13"
      },
      "source": [
        "print(my_dict.values())\n",
        "print(type(my_dict.values()))"
      ],
      "execution_count": 64,
      "outputs": [
        {
          "output_type": "stream",
          "text": [
            "dict_values(['One', 'Two', 'Three'])\n",
            "<class 'dict_values'>\n"
          ],
          "name": "stdout"
        }
      ]
    },
    {
      "cell_type": "code",
      "metadata": {
        "id": "apCv5VYoW6PI",
        "colab_type": "code",
        "colab": {
          "base_uri": "https://localhost:8080/",
          "height": 34
        },
        "outputId": "e01bd14c-a614-4c50-94e2-6d5bb91e7e26"
      },
      "source": [
        "a = list(my_dict.values())\n",
        "print(a[0])"
      ],
      "execution_count": 71,
      "outputs": [
        {
          "output_type": "stream",
          "text": [
            "One\n"
          ],
          "name": "stdout"
        }
      ]
    },
    {
      "cell_type": "markdown",
      "metadata": {
        "id": "cvxv0FWsYVOe",
        "colab_type": "text"
      },
      "source": [
        "###**4. Tuple**"
      ]
    },
    {
      "cell_type": "code",
      "metadata": {
        "id": "a1UZKBzjYtHD",
        "colab_type": "code",
        "colab": {
          "base_uri": "https://localhost:8080/",
          "height": 34
        },
        "outputId": "339bd4b4-6218-46c0-f6a7-094d4b26a027"
      },
      "source": [
        "tup = (1,2,3,4,5)\n",
        "print(tup)"
      ],
      "execution_count": 77,
      "outputs": [
        {
          "output_type": "stream",
          "text": [
            "(1, 2, 3, 4, 5)\n"
          ],
          "name": "stdout"
        }
      ]
    },
    {
      "cell_type": "code",
      "metadata": {
        "id": "StnwzjUJY2th",
        "colab_type": "code",
        "colab": {
          "base_uri": "https://localhost:8080/",
          "height": 51
        },
        "outputId": "c61ded06-8840-4db0-c248-38e6da7b29d7"
      },
      "source": [
        "#Accessing\n",
        "\n",
        "print(tup[0])\n",
        "print(tup[-2])"
      ],
      "execution_count": 80,
      "outputs": [
        {
          "output_type": "stream",
          "text": [
            "1\n",
            "4\n"
          ],
          "name": "stdout"
        }
      ]
    },
    {
      "cell_type": "code",
      "metadata": {
        "id": "v5St_2tqY0nL",
        "colab_type": "code",
        "colab": {
          "base_uri": "https://localhost:8080/",
          "height": 34
        },
        "outputId": "e881773b-15e3-4e96-efc2-d7f453f8a7a9"
      },
      "source": [
        "#Slicing\n",
        "\n",
        "print(tup[:3])"
      ],
      "execution_count": 82,
      "outputs": [
        {
          "output_type": "stream",
          "text": [
            "(1, 2, 3)\n"
          ],
          "name": "stdout"
        }
      ]
    },
    {
      "cell_type": "code",
      "metadata": {
        "id": "OGWOCRmhZYvc",
        "colab_type": "code",
        "colab": {
          "base_uri": "https://localhost:8080/",
          "height": 34
        },
        "outputId": "27e53f7d-a3aa-40c1-e30c-e0a25f5be5c0"
      },
      "source": [
        "type(sorted(tup))"
      ],
      "execution_count": 85,
      "outputs": [
        {
          "output_type": "execute_result",
          "data": {
            "text/plain": [
              "list"
            ]
          },
          "metadata": {
            "tags": []
          },
          "execution_count": 85
        }
      ]
    },
    {
      "cell_type": "code",
      "metadata": {
        "id": "dhq0N_1JZgZi",
        "colab_type": "code",
        "colab": {
          "base_uri": "https://localhost:8080/",
          "height": 197
        },
        "outputId": "c6b4474e-a4be-4a12-80dd-928e81dbefbc"
      },
      "source": [
        "#Tuple is Immutable, while list is Mutable\n",
        "\n",
        "my_list = [1,2,3,4,5]\n",
        "print(my_list)\n",
        "my_list[0] = 0\n",
        "print(my_list)\n",
        "\n",
        "tup[0] = 0"
      ],
      "execution_count": 90,
      "outputs": [
        {
          "output_type": "error",
          "ename": "TypeError",
          "evalue": "ignored",
          "traceback": [
            "\u001b[0;31m---------------------------------------------------------------------------\u001b[0m",
            "\u001b[0;31mTypeError\u001b[0m                                 Traceback (most recent call last)",
            "\u001b[0;32m<ipython-input-90-dcb5f08b581b>\u001b[0m in \u001b[0;36m<module>\u001b[0;34m()\u001b[0m\n\u001b[1;32m      1\u001b[0m \u001b[0;31m#Tuple is Immutable\u001b[0m\u001b[0;34m\u001b[0m\u001b[0;34m\u001b[0m\u001b[0;34m\u001b[0m\u001b[0m\n\u001b[1;32m      2\u001b[0m \u001b[0;34m\u001b[0m\u001b[0m\n\u001b[0;32m----> 3\u001b[0;31m \u001b[0mtup\u001b[0m\u001b[0;34m[\u001b[0m\u001b[0;36m0\u001b[0m\u001b[0;34m]\u001b[0m \u001b[0;34m=\u001b[0m \u001b[0;36m0\u001b[0m\u001b[0;34m\u001b[0m\u001b[0;34m\u001b[0m\u001b[0m\n\u001b[0m",
            "\u001b[0;31mTypeError\u001b[0m: 'tuple' object does not support item assignment"
          ]
        }
      ]
    },
    {
      "cell_type": "code",
      "metadata": {
        "id": "2azMeBJFcXxT",
        "colab_type": "code",
        "colab": {}
      },
      "source": [
        ""
      ],
      "execution_count": 0,
      "outputs": []
    },
    {
      "cell_type": "code",
      "metadata": {
        "id": "kLFYeCYBZdtT",
        "colab_type": "code",
        "colab": {}
      },
      "source": [
        ""
      ],
      "execution_count": 0,
      "outputs": []
    }
  ]
}