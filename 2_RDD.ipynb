{
  "nbformat": 4,
  "nbformat_minor": 0,
  "metadata": {
    "colab": {
      "provenance": [],
      "collapsed_sections": [],
      "authorship_tag": "ABX9TyPy/ZR96ruSD5lG/72QhsW0",
      "include_colab_link": true
    },
    "kernelspec": {
      "name": "python3",
      "display_name": "Python 3"
    },
    "language_info": {
      "name": "python"
    }
  },
  "cells": [
    {
      "cell_type": "markdown",
      "metadata": {
        "id": "view-in-github",
        "colab_type": "text"
      },
      "source": [
        "<a href=\"https://colab.research.google.com/github/manoj7pal/Google-Colab-Notebooks/blob/master/2_RDD.ipynb\" target=\"_parent\"><img src=\"https://colab.research.google.com/assets/colab-badge.svg\" alt=\"Open In Colab\"/></a>"
      ]
    },
    {
      "cell_type": "markdown",
      "source": [
        "# RDD has 2 operations:\n",
        "\n",
        "1. Transformation : \n",
        "    - new calculations over the dataset, \n",
        "    - create new paritions with transformed data in the form of RDD, \n",
        "    - It has mapping os the raw dataset and the transformed dataset.\n",
        "    - Executes on Spark Cluster or Worker Nodes\n",
        "\n",
        "2. Action\n",
        "    - it converts RDD into human readable format \n",
        "    - Functions like print, display, count(), take()\n",
        "    - Executes on the Driver or the Master nodes.\n"
      ],
      "metadata": {
        "id": "qBnqQe6gDD_o"
      }
    },
    {
      "cell_type": "code",
      "source": [
        "!pip3 install pyspark"
      ],
      "metadata": {
        "colab": {
          "base_uri": "https://localhost:8080/"
        },
        "id": "UykvVe52DnDf",
        "outputId": "edd24bcc-3fe8-43c1-edde-27cd8e08e315"
      },
      "execution_count": 1,
      "outputs": [
        {
          "output_type": "stream",
          "name": "stdout",
          "text": [
            "Looking in indexes: https://pypi.org/simple, https://us-python.pkg.dev/colab-wheels/public/simple/\n",
            "Collecting pyspark\n",
            "  Using cached pyspark-3.3.0.tar.gz (281.3 MB)\n",
            "Collecting py4j==0.10.9.5\n",
            "  Downloading py4j-0.10.9.5-py2.py3-none-any.whl (199 kB)\n",
            "\u001b[K     |████████████████████████████████| 199 kB 8.4 MB/s \n",
            "\u001b[?25hBuilding wheels for collected packages: pyspark\n",
            "  Building wheel for pyspark (setup.py) ... \u001b[?25l\u001b[?25hdone\n",
            "  Created wheel for pyspark: filename=pyspark-3.3.0-py2.py3-none-any.whl size=281764026 sha256=7165a077c4c7822dee158d92bc8077e649f70a4db27793deaa14753a3cc72835\n",
            "  Stored in directory: /root/.cache/pip/wheels/7a/8e/1b/f73a52650d2e5f337708d9f6a1750d451a7349a867f928b885\n",
            "Successfully built pyspark\n",
            "Installing collected packages: py4j, pyspark\n",
            "Successfully installed py4j-0.10.9.5 pyspark-3.3.0\n"
          ]
        }
      ]
    },
    {
      "cell_type": "code",
      "source": [
        "from pyspark import SparkContext, SparkConf"
      ],
      "metadata": {
        "id": "Lvt4mT-fC_Ud"
      },
      "execution_count": 2,
      "outputs": []
    },
    {
      "cell_type": "code",
      "source": [
        "conf = SparkConf().setAppName('RDD_practice').setMaster('local[*]')\n",
        "sc = SparkContext(conf = conf)\n",
        "print(sc.defaultParallelism)\n",
        "print(sc)"
      ],
      "metadata": {
        "colab": {
          "base_uri": "https://localhost:8080/"
        },
        "id": "Q-TNFs9qDkoE",
        "outputId": "94680950-a5fd-473e-90ba-b528f2565c1d"
      },
      "execution_count": 3,
      "outputs": [
        {
          "output_type": "stream",
          "name": "stdout",
          "text": [
            "2\n",
            "<SparkContext master=local[*] appName=RDD_practice>\n"
          ]
        }
      ]
    },
    {
      "cell_type": "markdown",
      "source": [
        "Section 1 - Create RDD and Basic Operations"
      ],
      "metadata": {
        "id": "j40hsVpHEVya"
      }
    },
    {
      "cell_type": "code",
      "source": [
        "# Generate Random Data\n",
        "\n",
        "import random\n",
        "\n",
        "randomList = random.sample(range(0,20), 10)\n",
        "print(randomList)\n"
      ],
      "metadata": {
        "colab": {
          "base_uri": "https://localhost:8080/"
        },
        "id": "i5dI3cteEKb3",
        "outputId": "9f0dbfad-561b-4977-c732-8f4bbc97b489"
      },
      "execution_count": 4,
      "outputs": [
        {
          "output_type": "stream",
          "name": "stdout",
          "text": [
            "[10, 0, 12, 16, 11, 2, 5, 17, 13, 6]\n"
          ]
        }
      ]
    },
    {
      "cell_type": "code",
      "source": [
        "# Create RDD\n",
        "\n",
        "rdd1 = sc.parallelize(randomList,4 ) # 4: no of partitions\n",
        "\n",
        "print(type(rdd1))\n",
        "rdd1.collect()"
      ],
      "metadata": {
        "colab": {
          "base_uri": "https://localhost:8080/"
        },
        "id": "JKZ9sVduEj9G",
        "outputId": "d36516d9-ec4d-4045-da55-f75e94e0d8ee"
      },
      "execution_count": 5,
      "outputs": [
        {
          "output_type": "stream",
          "name": "stdout",
          "text": [
            "<class 'pyspark.rdd.RDD'>\n"
          ]
        },
        {
          "output_type": "execute_result",
          "data": {
            "text/plain": [
              "[10, 0, 12, 16, 11, 2, 5, 17, 13, 6]"
            ]
          },
          "metadata": {},
          "execution_count": 5
        }
      ]
    },
    {
      "cell_type": "code",
      "source": [
        "# Data Distribution in partition: tries to max numbers of equal partitions\n",
        "\n",
        "print(rdd1.getNumPartitions())\n",
        "print(rdd1.glom().collect())\n",
        "\n",
        "print(rdd1.glom().take(2) )"
      ],
      "metadata": {
        "colab": {
          "base_uri": "https://localhost:8080/"
        },
        "id": "JrqcPR20FW1z",
        "outputId": "f365bcc9-de96-49dc-c000-3c5f9e9750a1"
      },
      "execution_count": 6,
      "outputs": [
        {
          "output_type": "stream",
          "name": "stdout",
          "text": [
            "4\n",
            "[[10, 0], [12, 16], [11, 2], [5, 17, 13, 6]]\n",
            "[[10, 0], [12, 16]]\n"
          ]
        }
      ]
    },
    {
      "cell_type": "code",
      "source": [
        "# count()\n",
        "\n",
        "rdd1.count()"
      ],
      "metadata": {
        "colab": {
          "base_uri": "https://localhost:8080/"
        },
        "id": "Y4WlD5k8Fm-g",
        "outputId": "48854f7a-811b-4f13-a3d8-85e1c7efdbb0"
      },
      "execution_count": 7,
      "outputs": [
        {
          "output_type": "execute_result",
          "data": {
            "text/plain": [
              "10"
            ]
          },
          "metadata": {},
          "execution_count": 7
        }
      ]
    },
    {
      "cell_type": "code",
      "source": [
        "# first()\n",
        "\n",
        "rdd1.first()"
      ],
      "metadata": {
        "colab": {
          "base_uri": "https://localhost:8080/"
        },
        "id": "lSHd2ag8Jiwc",
        "outputId": "27f59e6f-c303-442e-f98f-f4934b5c4032"
      },
      "execution_count": 8,
      "outputs": [
        {
          "output_type": "execute_result",
          "data": {
            "text/plain": [
              "10"
            ]
          },
          "metadata": {},
          "execution_count": 8
        }
      ]
    },
    {
      "cell_type": "code",
      "source": [
        "# top()\n",
        "\n",
        "rdd1.top(2)"
      ],
      "metadata": {
        "colab": {
          "base_uri": "https://localhost:8080/"
        },
        "id": "KVsxWXT9JsV1",
        "outputId": "d9682679-939a-4a8b-c6b8-e6b8b16b798a"
      },
      "execution_count": 9,
      "outputs": [
        {
          "output_type": "execute_result",
          "data": {
            "text/plain": [
              "[17, 16]"
            ]
          },
          "metadata": {},
          "execution_count": 9
        }
      ]
    },
    {
      "cell_type": "markdown",
      "source": [
        "# Transformation Functions"
      ],
      "metadata": {
        "id": "0h6HrC-gKpN9"
      }
    },
    {
      "cell_type": "code",
      "source": [
        "# distinct() \n",
        "\n",
        "rdd1.distinct().collect()"
      ],
      "metadata": {
        "colab": {
          "base_uri": "https://localhost:8080/"
        },
        "id": "lzDtOqESJvSZ",
        "outputId": "0b70900a-ed7f-4335-947f-2e2d9b7346a8"
      },
      "execution_count": 10,
      "outputs": [
        {
          "output_type": "execute_result",
          "data": {
            "text/plain": [
              "[0, 12, 16, 5, 17, 13, 10, 2, 6, 11]"
            ]
          },
          "metadata": {},
          "execution_count": 10
        }
      ]
    },
    {
      "cell_type": "code",
      "source": [
        "# map() - can map a function to a list of values\n",
        "\n",
        "def fun1(num):\n",
        "  return num**2\n",
        "\n",
        "rdd_map = rdd1.map(fun1)\n",
        "\n",
        "print(randomList)\n",
        "print(rdd_map.collect())"
      ],
      "metadata": {
        "colab": {
          "base_uri": "https://localhost:8080/"
        },
        "id": "YTq2Fa3BKc9v",
        "outputId": "ba965122-1a91-46c1-a7e1-163365f23804"
      },
      "execution_count": 11,
      "outputs": [
        {
          "output_type": "stream",
          "name": "stdout",
          "text": [
            "[10, 0, 12, 16, 11, 2, 5, 17, 13, 6]\n",
            "[100, 0, 144, 256, 121, 4, 25, 289, 169, 36]\n"
          ]
        }
      ]
    },
    {
      "cell_type": "code",
      "source": [
        "# simple map - using multiple o/p expressions\n",
        "\n",
        "rdd_fm = rdd1.map(lambda x: [x**2, x**3])\n",
        "\n",
        "print(rdd1.collect())\n",
        "print(rdd_fm.collect())\n",
        "\n",
        "print(\"--\"*60)\n",
        "\n",
        "print(rdd1.glom().collect())\n",
        "print(rdd_fm.glom().collect())"
      ],
      "metadata": {
        "colab": {
          "base_uri": "https://localhost:8080/"
        },
        "id": "nUjT_PP8Zr9X",
        "outputId": "aed3522c-fee6-41f7-e180-d0d48064f9cd"
      },
      "execution_count": 12,
      "outputs": [
        {
          "output_type": "stream",
          "name": "stdout",
          "text": [
            "[10, 0, 12, 16, 11, 2, 5, 17, 13, 6]\n",
            "[[100, 1000], [0, 0], [144, 1728], [256, 4096], [121, 1331], [4, 8], [25, 125], [289, 4913], [169, 2197], [36, 216]]\n",
            "------------------------------------------------------------------------------------------------------------------------\n",
            "[[10, 0], [12, 16], [11, 2], [5, 17, 13, 6]]\n",
            "[[[100, 1000], [0, 0]], [[144, 1728], [256, 4096]], [[121, 1331], [4, 8]], [[25, 125], [289, 4913], [169, 2197], [36, 216]]]\n"
          ]
        }
      ]
    },
    {
      "cell_type": "code",
      "source": [
        "print(rdd_map.glom().collect())"
      ],
      "metadata": {
        "colab": {
          "base_uri": "https://localhost:8080/"
        },
        "id": "vLJHFdm5K_f3",
        "outputId": "f816da06-e4c9-4291-94c7-fd41f7536c3c"
      },
      "execution_count": 13,
      "outputs": [
        {
          "output_type": "stream",
          "name": "stdout",
          "text": [
            "[[100, 0], [144, 256], [121, 4], [25, 289, 169, 36]]\n"
          ]
        }
      ]
    },
    {
      "cell_type": "code",
      "source": [
        "rdd_map = rdd1.map( lambda x: x**2 )\n",
        "print(rdd_map.collect())"
      ],
      "metadata": {
        "colab": {
          "base_uri": "https://localhost:8080/"
        },
        "id": "noxcGcMtLsuD",
        "outputId": "cf5b95d0-d5f6-41ac-8de2-1d3c1e686e50"
      },
      "execution_count": 14,
      "outputs": [
        {
          "output_type": "stream",
          "name": "stdout",
          "text": [
            "[100, 0, 144, 256, 121, 4, 25, 289, 169, 36]\n"
          ]
        }
      ]
    },
    {
      "cell_type": "code",
      "source": [
        "# filter\n",
        "\n",
        "rdd_filter = rdd1.filter(lambda x: x>5)\n",
        "print(randomList)\n",
        "print(rdd_filter.collect())"
      ],
      "metadata": {
        "colab": {
          "base_uri": "https://localhost:8080/"
        },
        "id": "yYqrPKNhL43G",
        "outputId": "3708ac87-76ae-4f42-e93d-b763d4e80535"
      },
      "execution_count": 15,
      "outputs": [
        {
          "output_type": "stream",
          "name": "stdout",
          "text": [
            "[10, 0, 12, 16, 11, 2, 5, 17, 13, 6]\n",
            "[10, 12, 16, 11, 17, 13, 6]\n"
          ]
        }
      ]
    },
    {
      "cell_type": "code",
      "source": [
        "print(rdd1.glom().collect())\n",
        "print(rdd_filter.glom().collect())"
      ],
      "metadata": {
        "colab": {
          "base_uri": "https://localhost:8080/"
        },
        "id": "9sImmNTNMCry",
        "outputId": "36c10a07-b53d-4d2c-d65b-164da6c25aa5"
      },
      "execution_count": 16,
      "outputs": [
        {
          "output_type": "stream",
          "name": "stdout",
          "text": [
            "[[10, 0], [12, 16], [11, 2], [5, 17, 13, 6]]\n",
            "[[10], [12, 16], [11], [17, 13, 6]]\n"
          ]
        }
      ]
    },
    {
      "cell_type": "code",
      "source": [
        "print(rdd1.count())\n",
        "print(rdd_filter.count())"
      ],
      "metadata": {
        "colab": {
          "base_uri": "https://localhost:8080/"
        },
        "id": "5ibWls9vNP_u",
        "outputId": "4b60d72f-6418-470f-a76f-76b25de84002"
      },
      "execution_count": 17,
      "outputs": [
        {
          "output_type": "stream",
          "name": "stdout",
          "text": [
            "10\n",
            "7\n"
          ]
        }
      ]
    },
    {
      "cell_type": "code",
      "source": [
        "#Repartitioning the RDD - when the items are filtered/removed out\n",
        "\n",
        "if rdd_filter.count() >=4:\n",
        "  new_rdd_filter = rdd_filter.repartition(2)\n",
        "\n",
        "print(rdd_filter.glom().collect())  \n",
        "print(new_rdd_filter.glom().collect())  "
      ],
      "metadata": {
        "colab": {
          "base_uri": "https://localhost:8080/"
        },
        "id": "WlLfLnq3M32l",
        "outputId": "d99f7d22-ebac-4173-82c9-0d92969f5a86"
      },
      "execution_count": 18,
      "outputs": [
        {
          "output_type": "stream",
          "name": "stdout",
          "text": [
            "[[10], [12, 16], [11], [17, 13, 6]]\n",
            "[[10, 11, 17, 13, 6], [12, 16]]\n"
          ]
        }
      ]
    },
    {
      "cell_type": "code",
      "source": [
        "# flatMap() and reduce() - map to a collection of o/p expressions, \n",
        "  # and performs aggregations using reduce()\n",
        "\n",
        "rdd_fm = rdd1.flatMap(lambda x: [x**2, x**3])\n",
        "\n",
        "print(rdd1.collect)\n",
        "print(rdd_fm.collect())\n"
      ],
      "metadata": {
        "colab": {
          "base_uri": "https://localhost:8080/"
        },
        "id": "qYZs5TK2MISV",
        "outputId": "1a17e6c4-45e9-48b1-d0ae-ccca307910f9"
      },
      "execution_count": 19,
      "outputs": [
        {
          "output_type": "stream",
          "name": "stdout",
          "text": [
            "<bound method RDD.collect of ParallelCollectionRDD[0] at readRDDFromFile at PythonRDD.scala:274>\n",
            "[100, 1000, 0, 0, 144, 1728, 256, 4096, 121, 1331, 4, 8, 25, 125, 289, 4913, 169, 2197, 36, 216]\n"
          ]
        }
      ]
    },
    {
      "cell_type": "code",
      "source": [
        "print(rdd1.glom().collect())\n",
        "print(rdd_fm.glom().collect())"
      ],
      "metadata": {
        "colab": {
          "base_uri": "https://localhost:8080/"
        },
        "id": "-IPsxczTVcFL",
        "outputId": "1bef0587-c30b-42e8-841c-a4b62bff6f2d"
      },
      "execution_count": 20,
      "outputs": [
        {
          "output_type": "stream",
          "name": "stdout",
          "text": [
            "[[10, 0], [12, 16], [11, 2], [5, 17, 13, 6]]\n",
            "[[100, 1000, 0, 0], [144, 1728, 256, 4096], [121, 1331, 4, 8], [25, 125, 289, 4913, 169, 2197, 36, 216]]\n"
          ]
        }
      ]
    },
    {
      "cell_type": "code",
      "source": [
        "rdd_fm.reduce(lambda x,y : x+y)"
      ],
      "metadata": {
        "colab": {
          "base_uri": "https://localhost:8080/"
        },
        "id": "XQybfx8-V6HM",
        "outputId": "b76fc272-29ad-4cc6-9497-24faa756eab0"
      },
      "execution_count": 21,
      "outputs": [
        {
          "output_type": "execute_result",
          "data": {
            "text/plain": [
              "16758"
            ]
          },
          "metadata": {},
          "execution_count": 21
        }
      ]
    },
    {
      "cell_type": "code",
      "source": [
        "# Descriptive Statistics:\n",
        "\n",
        "print(rdd1.max(), rdd1.min(), rdd1.count(), rdd1.mean(), round(rdd1.stdev(),2), rdd1.sum())"
      ],
      "metadata": {
        "colab": {
          "base_uri": "https://localhost:8080/"
        },
        "id": "5C-9YwxLWW3x",
        "outputId": "095f0b98-94a7-4b03-d561-8c264dfd5bdb"
      },
      "execution_count": 22,
      "outputs": [
        {
          "output_type": "stream",
          "name": "stdout",
          "text": [
            "17 0 10 9.2 5.46 92\n"
          ]
        }
      ]
    },
    {
      "cell_type": "code",
      "source": [
        "# mapPartitions() : Map a function to each parition\n",
        "\n",
        "def fun1(partition):\n",
        "  sum=0\n",
        "\n",
        "  for item in partition:\n",
        "    sum += item\n",
        "  \n",
        "  yield sum\n",
        "\n",
        "rdd_map_part = rdd1.mapPartitions( fun1 ).collect()\n",
        "\n",
        "print(rdd1.glom().collect())\n",
        "print(rdd_map_part)"
      ],
      "metadata": {
        "colab": {
          "base_uri": "https://localhost:8080/"
        },
        "id": "yrL0TsVBadVp",
        "outputId": "bbfe115c-c921-4e19-de10-1245f975d95b"
      },
      "execution_count": 23,
      "outputs": [
        {
          "output_type": "stream",
          "name": "stdout",
          "text": [
            "[[10, 0], [12, 16], [11, 2], [5, 17, 13, 6]]\n",
            "[10, 28, 13, 41]\n"
          ]
        }
      ]
    },
    {
      "cell_type": "markdown",
      "source": [
        "### Part 2 - Advanced RDD Transformations and Actions"
      ],
      "metadata": {
        "id": "rVseYEA21MWZ"
      }
    },
    {
      "cell_type": "code",
      "source": [
        "# union\n",
        "\n",
        "print(rdd1.glom().collect())\n",
        "\n",
        "rdd2 = sc.parallelize( [1, 14,20,28,10,13,3], 2 )\n",
        "print(rdd2.glom().collect())\n",
        "\n",
        "rdd_union = rdd1.union(rdd2)\n",
        "\n",
        "print(f\"RDD Union: {rdd_union.glom().collect()}, count is {rdd_union.count()}, and number of partitions is {rdd_union.getNumPartitions()}\")"
      ],
      "metadata": {
        "colab": {
          "base_uri": "https://localhost:8080/"
        },
        "id": "sRNBvK3sayec",
        "outputId": "ce25ce3a-195e-4a2d-c4e4-4134942a611a"
      },
      "execution_count": 24,
      "outputs": [
        {
          "output_type": "stream",
          "name": "stdout",
          "text": [
            "[[10, 0], [12, 16], [11, 2], [5, 17, 13, 6]]\n",
            "[[1, 14, 20], [28, 10, 13, 3]]\n",
            "RDD Union: [[10, 0], [12, 16], [11, 2], [5, 17, 13, 6], [1, 14, 20], [28, 10, 13, 3]], count is 17, and number of partitions is 6\n"
          ]
        }
      ]
    },
    {
      "cell_type": "code",
      "source": [
        "#intersection\n",
        "\n",
        "rdd_intersection = rdd1.intersection(rdd2)\n",
        "\n",
        "print(rdd_intersection.glom().collect())\n",
        "print(rdd_intersection.getNumPartitions())"
      ],
      "metadata": {
        "colab": {
          "base_uri": "https://localhost:8080/"
        },
        "id": "1Q9ws8hQ1c2m",
        "outputId": "45cfd713-8fd7-4eb3-d2ab-4e4f1aff3bf4"
      },
      "execution_count": 25,
      "outputs": [
        {
          "output_type": "stream",
          "name": "stdout",
          "text": [
            "[[], [13], [], [], [10], []]\n",
            "6\n"
          ]
        }
      ]
    },
    {
      "cell_type": "code",
      "source": [
        "# Find empty partitions\n",
        "\n",
        "count=0\n",
        "\n",
        "for partition in rdd_intersection.glom().collect():\n",
        "  if len(partition) ==0:\n",
        "    count +=1\n",
        "\n",
        "print(count)"
      ],
      "metadata": {
        "colab": {
          "base_uri": "https://localhost:8080/"
        },
        "id": "SB_S_WRN1d_h",
        "outputId": "4fe1fd1f-85a7-454c-bfce-0ad99fe5a7ea"
      },
      "execution_count": 26,
      "outputs": [
        {
          "output_type": "stream",
          "name": "stdout",
          "text": [
            "4\n"
          ]
        }
      ]
    },
    {
      "cell_type": "code",
      "source": [
        "def is_empty_partition(partition):\n",
        "  count=0\n",
        "  if len(list(partition))==0:   # the partition variable is passed as a mapped object so to find the length converted it into list type\n",
        "    count+=1\n",
        "\n",
        "    yield count\n",
        "\n",
        "count_empty_partition = rdd_intersection.mapPartitions(is_empty_partition)\n",
        "\n",
        "print( sum(count_empty_partition.collect()) )"
      ],
      "metadata": {
        "colab": {
          "base_uri": "https://localhost:8080/"
        },
        "id": "_UPnv-Di3oEc",
        "outputId": "a490eb6b-8bfb-4183-8fb2-185257765b2a"
      },
      "execution_count": 27,
      "outputs": [
        {
          "output_type": "stream",
          "name": "stdout",
          "text": [
            "4\n"
          ]
        }
      ]
    },
    {
      "cell_type": "code",
      "source": [
        "# coalesce(numPartition) - decrease the no of partition\n",
        "\n",
        "print(rdd_intersection.glom().collect())\n",
        "\n",
        "new_rdd_intersection = rdd_intersection.coalesce(1)\n",
        "print(new_rdd_intersection.glom().collect())"
      ],
      "metadata": {
        "colab": {
          "base_uri": "https://localhost:8080/"
        },
        "id": "xfilg2MO6l1R",
        "outputId": "4f3b20d4-d31a-4665-8214-0cacc9674a01"
      },
      "execution_count": 28,
      "outputs": [
        {
          "output_type": "stream",
          "name": "stdout",
          "text": [
            "[[], [13], [], [], [10], []]\n",
            "[[13, 10]]\n"
          ]
        }
      ]
    },
    {
      "cell_type": "code",
      "source": [
        "# takeSample(withReplacement, num, [seed])\n",
        "\n",
        "rdd1.takeSample(withReplacement=False, num=5, seed=123)"
      ],
      "metadata": {
        "colab": {
          "base_uri": "https://localhost:8080/"
        },
        "id": "5TbDU4c_-DO7",
        "outputId": "715bd309-8b2d-412b-ecc9-6ae405b93054"
      },
      "execution_count": 29,
      "outputs": [
        {
          "output_type": "execute_result",
          "data": {
            "text/plain": [
              "[13, 17, 2, 6, 12]"
            ]
          },
          "metadata": {},
          "execution_count": 29
        }
      ]
    },
    {
      "cell_type": "code",
      "source": [
        "# takeOrdered(, [ordering])\n",
        "\n",
        "rdd1.takeOrdered(10)"
      ],
      "metadata": {
        "colab": {
          "base_uri": "https://localhost:8080/"
        },
        "id": "_bZaOSXU-tF5",
        "outputId": "f7f648de-794c-4eaa-b793-67e895e6c4b0"
      },
      "execution_count": 30,
      "outputs": [
        {
          "output_type": "execute_result",
          "data": {
            "text/plain": [
              "[0, 2, 5, 6, 10, 11, 12, 13, 16, 17]"
            ]
          },
          "metadata": {},
          "execution_count": 30
        }
      ]
    },
    {
      "cell_type": "code",
      "source": [
        "# reduce\n",
        "\n",
        "rdd1.reduce(lambda x,y: x+y)"
      ],
      "metadata": {
        "colab": {
          "base_uri": "https://localhost:8080/"
        },
        "id": "_f0Ic-qxH4OG",
        "outputId": "7a84a345-56e0-4817-d181-798e3bb1d499"
      },
      "execution_count": 31,
      "outputs": [
        {
          "output_type": "execute_result",
          "data": {
            "text/plain": [
              "92"
            ]
          },
          "metadata": {},
          "execution_count": 31
        }
      ]
    },
    {
      "cell_type": "code",
      "source": [
        "# reduceByKey()\n",
        "\n",
        "rdd_rbk = sc.parallelize([ (1,4), (7,10), (1,12), (7,12), (7,1), (9,1), (7,4) ], 2)\n",
        "print(rdd_rbk.glom().collect())\n",
        "\n",
        "new_rdd_rbk = rdd_rbk.reduceByKey(lambda x,y: x+y)\n",
        "print(new_rdd_rbk.collect())\n",
        "\n",
        "#user friendly visualization\n",
        "\n",
        "import pandas as pd\n",
        "\n",
        "df = pd.DataFrame({\n",
        "                                'Key': new_rdd_rbk.keys().collect() , \n",
        "                                'Values': new_rdd_rbk.values().collect()\n",
        "                                 })\n",
        "print(df)"
      ],
      "metadata": {
        "colab": {
          "base_uri": "https://localhost:8080/"
        },
        "id": "DgIlRXjuH91z",
        "outputId": "03cb2e92-bd96-42d5-ded1-f8284e8a6b86"
      },
      "execution_count": 32,
      "outputs": [
        {
          "output_type": "stream",
          "name": "stdout",
          "text": [
            "[[(1, 4), (7, 10), (1, 12)], [(7, 12), (7, 1), (9, 1), (7, 4)]]\n",
            "[(1, 16), (7, 27), (9, 1)]\n",
            "   Key  Values\n",
            "0    1      16\n",
            "1    7      27\n",
            "2    9       1\n"
          ]
        }
      ]
    },
    {
      "cell_type": "code",
      "source": [
        "# sortByKey\n",
        "\n",
        "rdd_rbk.reduceByKey(lambda x,y: x+y).sortByKey(ascending=False).collect()\n"
      ],
      "metadata": {
        "colab": {
          "base_uri": "https://localhost:8080/"
        },
        "id": "rgpt7l1dKiKt",
        "outputId": "abc9582e-487c-43cb-9c43-ebef61b70e65"
      },
      "execution_count": 33,
      "outputs": [
        {
          "output_type": "execute_result",
          "data": {
            "text/plain": [
              "[(9, 1), (7, 27), (1, 16)]"
            ]
          },
          "metadata": {},
          "execution_count": 33
        }
      ]
    },
    {
      "cell_type": "code",
      "source": [
        "# countByKey\n",
        "\n",
        "print(rdd_rbk.countByKey().items())\n",
        "print(rdd_rbk.reduceByKey(lambda x,y: x+y).countByKey().items())"
      ],
      "metadata": {
        "colab": {
          "base_uri": "https://localhost:8080/"
        },
        "id": "YDbI1aEZMYZC",
        "outputId": "85bda403-e1a8-403e-f514-2d07fcd68887"
      },
      "execution_count": 34,
      "outputs": [
        {
          "output_type": "stream",
          "name": "stdout",
          "text": [
            "dict_items([(1, 2), (7, 4), (9, 1)])\n",
            "dict_items([(1, 1), (7, 1), (9, 1)])\n"
          ]
        }
      ]
    },
    {
      "cell_type": "code",
      "source": [
        "# groupByKey\n",
        "\n",
        "rdd_rbk.groupByKey().collect() "
      ],
      "metadata": {
        "colab": {
          "base_uri": "https://localhost:8080/"
        },
        "id": "K5rNgzbYNC5q",
        "outputId": "b4670f85-d163-4427-b82b-78e8247ad7cd"
      },
      "execution_count": 35,
      "outputs": [
        {
          "output_type": "execute_result",
          "data": {
            "text/plain": [
              "[(1, <pyspark.resultiterable.ResultIterable at 0x7f95e9251090>),\n",
              " (7, <pyspark.resultiterable.ResultIterable at 0x7f95ee1a6150>),\n",
              " (9, <pyspark.resultiterable.ResultIterable at 0x7f95e2903e50>)]"
            ]
          },
          "metadata": {},
          "execution_count": 35
        }
      ]
    },
    {
      "cell_type": "code",
      "source": [],
      "metadata": {
        "id": "D_S4C0zxVAMY"
      },
      "execution_count": 35,
      "outputs": []
    }
  ]
}