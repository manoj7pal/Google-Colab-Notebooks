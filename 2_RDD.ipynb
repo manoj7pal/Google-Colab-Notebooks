{
  "nbformat": 4,
  "nbformat_minor": 0,
  "metadata": {
    "colab": {
      "provenance": [],
      "authorship_tag": "ABX9TyMiRIE68xNrSUlwsjzShbhp",
      "include_colab_link": true
    },
    "kernelspec": {
      "name": "python3",
      "display_name": "Python 3"
    },
    "language_info": {
      "name": "python"
    }
  },
  "cells": [
    {
      "cell_type": "markdown",
      "metadata": {
        "id": "view-in-github",
        "colab_type": "text"
      },
      "source": [
        "<a href=\"https://colab.research.google.com/github/manoj7pal/Google-Colab-Notebooks/blob/master/2_RDD.ipynb\" target=\"_parent\"><img src=\"https://colab.research.google.com/assets/colab-badge.svg\" alt=\"Open In Colab\"/></a>"
      ]
    },
    {
      "cell_type": "markdown",
      "source": [
        "# RDD has 2 operations:\n",
        "\n",
        "1. Transformation : \n",
        "    - new calculations over the dataset, \n",
        "    - create new paritions with transformed data in the form of RDD, \n",
        "    - It has mapping os the raw dataset and the transformed dataset.\n",
        "    - Executes on Spark Cluster or Worker Nodes\n",
        "\n",
        "2. Action\n",
        "    - it converts RDD into human readable format \n",
        "    - Functions like print, display, count(), take()\n",
        "    - Executes on the Driver or the Master nodes.\n"
      ],
      "metadata": {
        "id": "qBnqQe6gDD_o"
      }
    },
    {
      "cell_type": "code",
      "source": [
        "# !pip3 install pyspark"
      ],
      "metadata": {
        "id": "UykvVe52DnDf"
      },
      "execution_count": 1,
      "outputs": []
    },
    {
      "cell_type": "code",
      "source": [
        "from pyspark import SparkContext, SparkConf"
      ],
      "metadata": {
        "id": "Lvt4mT-fC_Ud"
      },
      "execution_count": 2,
      "outputs": []
    },
    {
      "cell_type": "code",
      "source": [
        "conf = SparkConf().setAppName('RDD_practice').setMaster('local[*]')\n",
        "sc = SparkContext(conf = conf)\n",
        "print(sc.defaultParallelism)\n",
        "print(sc)"
      ],
      "metadata": {
        "colab": {
          "base_uri": "https://localhost:8080/"
        },
        "id": "Q-TNFs9qDkoE",
        "outputId": "6e2985d0-5ac2-4d8c-ec9f-058c0e2c9023"
      },
      "execution_count": 3,
      "outputs": [
        {
          "output_type": "stream",
          "name": "stdout",
          "text": [
            "2\n",
            "<SparkContext master=local[*] appName=RDD_practice>\n"
          ]
        }
      ]
    },
    {
      "cell_type": "markdown",
      "source": [
        "Section 1 - Create RDD and Basic Operations"
      ],
      "metadata": {
        "id": "j40hsVpHEVya"
      }
    },
    {
      "cell_type": "code",
      "source": [
        "# Generate Random Data\n",
        "\n",
        "import random\n",
        "\n",
        "randomList = random.sample(range(0,20), 10)\n",
        "print(randomList)\n"
      ],
      "metadata": {
        "colab": {
          "base_uri": "https://localhost:8080/"
        },
        "id": "i5dI3cteEKb3",
        "outputId": "9ba903c9-c733-4eae-d47b-7604e2975ae3"
      },
      "execution_count": 54,
      "outputs": [
        {
          "output_type": "stream",
          "name": "stdout",
          "text": [
            "[0, 2, 3, 4, 19, 15, 16, 9, 6, 8]\n"
          ]
        }
      ]
    },
    {
      "cell_type": "code",
      "source": [
        "# Create RDD\n",
        "\n",
        "rdd1 = sc.parallelize(randomList,4 ) # 4: no of partitions\n",
        "\n",
        "print(type(rdd1))\n",
        "rdd1.collect()"
      ],
      "metadata": {
        "colab": {
          "base_uri": "https://localhost:8080/"
        },
        "id": "JKZ9sVduEj9G",
        "outputId": "4b592d2f-bbb0-4d62-b4f7-595e2972a95f"
      },
      "execution_count": 55,
      "outputs": [
        {
          "output_type": "stream",
          "name": "stdout",
          "text": [
            "<class 'pyspark.rdd.RDD'>\n"
          ]
        },
        {
          "output_type": "execute_result",
          "data": {
            "text/plain": [
              "[0, 2, 3, 4, 19, 15, 16, 9, 6, 8]"
            ]
          },
          "metadata": {},
          "execution_count": 55
        }
      ]
    },
    {
      "cell_type": "code",
      "source": [
        "# Data Distribution in partition: tries to max numbers of equal partitions\n",
        "\n",
        "print(rdd1.getNumPartitions())\n",
        "print(rdd1.glom().collect())\n",
        "\n",
        "print(rdd1.glom().take(2) )"
      ],
      "metadata": {
        "colab": {
          "base_uri": "https://localhost:8080/"
        },
        "id": "JrqcPR20FW1z",
        "outputId": "57a5c6b5-f3c5-4370-800f-bb16058da4b1"
      },
      "execution_count": 56,
      "outputs": [
        {
          "output_type": "stream",
          "name": "stdout",
          "text": [
            "4\n",
            "[[0, 2], [3, 4], [19, 15], [16, 9, 6, 8]]\n",
            "[[0, 2], [3, 4]]\n"
          ]
        }
      ]
    },
    {
      "cell_type": "code",
      "source": [
        "# count()\n",
        "\n",
        "rdd1.count()"
      ],
      "metadata": {
        "colab": {
          "base_uri": "https://localhost:8080/"
        },
        "id": "Y4WlD5k8Fm-g",
        "outputId": "15a25adb-6f75-4b41-be2f-17ee83d8b25d"
      },
      "execution_count": 57,
      "outputs": [
        {
          "output_type": "execute_result",
          "data": {
            "text/plain": [
              "10"
            ]
          },
          "metadata": {},
          "execution_count": 57
        }
      ]
    },
    {
      "cell_type": "code",
      "source": [
        "# first()\n",
        "\n",
        "rdd1.first()"
      ],
      "metadata": {
        "colab": {
          "base_uri": "https://localhost:8080/"
        },
        "id": "lSHd2ag8Jiwc",
        "outputId": "384f16db-0b81-440b-e360-9d153f3898f9"
      },
      "execution_count": 58,
      "outputs": [
        {
          "output_type": "execute_result",
          "data": {
            "text/plain": [
              "0"
            ]
          },
          "metadata": {},
          "execution_count": 58
        }
      ]
    },
    {
      "cell_type": "code",
      "source": [
        "# top()\n",
        "\n",
        "rdd1.top(2)"
      ],
      "metadata": {
        "colab": {
          "base_uri": "https://localhost:8080/"
        },
        "id": "KVsxWXT9JsV1",
        "outputId": "f222c74b-a359-4c7f-82f7-63165a82f049"
      },
      "execution_count": 59,
      "outputs": [
        {
          "output_type": "execute_result",
          "data": {
            "text/plain": [
              "[19, 16]"
            ]
          },
          "metadata": {},
          "execution_count": 59
        }
      ]
    },
    {
      "cell_type": "markdown",
      "source": [
        "# Transformation Functions"
      ],
      "metadata": {
        "id": "0h6HrC-gKpN9"
      }
    },
    {
      "cell_type": "code",
      "source": [
        "# distinct() \n",
        "\n",
        "rdd1.distinct().collect()"
      ],
      "metadata": {
        "colab": {
          "base_uri": "https://localhost:8080/"
        },
        "id": "lzDtOqESJvSZ",
        "outputId": "52547dcf-9381-404c-d2b8-89c83e6ae7a0"
      },
      "execution_count": 60,
      "outputs": [
        {
          "output_type": "execute_result",
          "data": {
            "text/plain": [
              "[0, 4, 16, 8, 9, 2, 6, 3, 19, 15]"
            ]
          },
          "metadata": {},
          "execution_count": 60
        }
      ]
    },
    {
      "cell_type": "code",
      "source": [
        "# map() - can map a function to a list of values\n",
        "\n",
        "def fun1(num):\n",
        "  return num**2\n",
        "\n",
        "rdd_map = rdd1.map(fun1)\n",
        "\n",
        "print(randomList)\n",
        "print(rdd_map.collect())"
      ],
      "metadata": {
        "colab": {
          "base_uri": "https://localhost:8080/"
        },
        "id": "YTq2Fa3BKc9v",
        "outputId": "2e465e6c-57c7-4d94-e616-959a9db3e8a7"
      },
      "execution_count": 61,
      "outputs": [
        {
          "output_type": "stream",
          "name": "stdout",
          "text": [
            "[0, 2, 3, 4, 19, 15, 16, 9, 6, 8]\n",
            "[0, 4, 9, 16, 361, 225, 256, 81, 36, 64]\n"
          ]
        }
      ]
    },
    {
      "cell_type": "code",
      "source": [
        "# simple map - using multiple o/p expressions\n",
        "\n",
        "rdd_fm = rdd1.map(lambda x: [x**2, x**3])\n",
        "\n",
        "print(rdd1.collect())\n",
        "print(rdd_fm.collect())\n",
        "\n",
        "print(\"--\"*60)\n",
        "\n",
        "print(rdd1.glom().collect())\n",
        "print(rdd_fm.glom().collect())"
      ],
      "metadata": {
        "colab": {
          "base_uri": "https://localhost:8080/"
        },
        "id": "nUjT_PP8Zr9X",
        "outputId": "057236a9-2f1f-4d27-c18b-cc0c7e7c713a"
      },
      "execution_count": 78,
      "outputs": [
        {
          "output_type": "stream",
          "name": "stdout",
          "text": [
            "[0, 2, 3, 4, 19, 15, 16, 9, 6, 8]\n",
            "[[0, 0], [4, 8], [9, 27], [16, 64], [361, 6859], [225, 3375], [256, 4096], [81, 729], [36, 216], [64, 512]]\n",
            "------------------------------------------------------------------------------------------------------------------------\n",
            "[[0, 2], [3, 4], [19, 15], [16, 9, 6, 8]]\n",
            "[[[0, 0], [4, 8]], [[9, 27], [16, 64]], [[361, 6859], [225, 3375]], [[256, 4096], [81, 729], [36, 216], [64, 512]]]\n"
          ]
        }
      ]
    },
    {
      "cell_type": "code",
      "source": [
        "print(rdd_map.glom().collect())"
      ],
      "metadata": {
        "colab": {
          "base_uri": "https://localhost:8080/"
        },
        "id": "vLJHFdm5K_f3",
        "outputId": "0008c31c-a464-4b98-cd77-569076df5a65"
      },
      "execution_count": 62,
      "outputs": [
        {
          "output_type": "stream",
          "name": "stdout",
          "text": [
            "[[0, 4], [9, 16], [361, 225], [256, 81, 36, 64]]\n"
          ]
        }
      ]
    },
    {
      "cell_type": "code",
      "source": [
        "rdd_map = rdd1.map( lambda x: x**2 )\n",
        "print(rdd_map.collect())"
      ],
      "metadata": {
        "colab": {
          "base_uri": "https://localhost:8080/"
        },
        "id": "noxcGcMtLsuD",
        "outputId": "b406ec8f-64c5-4c38-a0f2-f4e9e07a9186"
      },
      "execution_count": 63,
      "outputs": [
        {
          "output_type": "stream",
          "name": "stdout",
          "text": [
            "[0, 4, 9, 16, 361, 225, 256, 81, 36, 64]\n"
          ]
        }
      ]
    },
    {
      "cell_type": "code",
      "source": [
        "# filter\n",
        "\n",
        "rdd_filter = rdd1.filter(lambda x: x>5)\n",
        "print(randomList)\n",
        "print(rdd_filter.collect())"
      ],
      "metadata": {
        "colab": {
          "base_uri": "https://localhost:8080/"
        },
        "id": "yYqrPKNhL43G",
        "outputId": "4100b6a0-51d8-43fd-ca76-a4309644d97f"
      },
      "execution_count": 66,
      "outputs": [
        {
          "output_type": "stream",
          "name": "stdout",
          "text": [
            "[0, 2, 3, 4, 19, 15, 16, 9, 6, 8]\n",
            "[19, 15, 16, 9, 6, 8]\n"
          ]
        }
      ]
    },
    {
      "cell_type": "code",
      "source": [
        "print(rdd1.glom().collect())\n",
        "print(rdd_filter.glom().collect())"
      ],
      "metadata": {
        "colab": {
          "base_uri": "https://localhost:8080/"
        },
        "id": "9sImmNTNMCry",
        "outputId": "840a0064-41c5-44d6-82c7-ca95fb58e354"
      },
      "execution_count": 67,
      "outputs": [
        {
          "output_type": "stream",
          "name": "stdout",
          "text": [
            "[[0, 2], [3, 4], [19, 15], [16, 9, 6, 8]]\n",
            "[[], [], [19, 15], [16, 9, 6, 8]]\n"
          ]
        }
      ]
    },
    {
      "cell_type": "code",
      "source": [
        "print(rdd1.count())\n",
        "print(rdd_filter.count())"
      ],
      "metadata": {
        "colab": {
          "base_uri": "https://localhost:8080/"
        },
        "id": "5ibWls9vNP_u",
        "outputId": "859611fc-86d3-449f-a183-33c8077cf34b"
      },
      "execution_count": 68,
      "outputs": [
        {
          "output_type": "stream",
          "name": "stdout",
          "text": [
            "10\n",
            "6\n"
          ]
        }
      ]
    },
    {
      "cell_type": "code",
      "source": [
        "#Repartitioning the RDD - when the items are filtered/removed out\n",
        "\n",
        "if rdd_filter.count() >=4:\n",
        "  new_rdd_filter = rdd_filter.repartition(2)\n",
        "\n",
        "print(rdd_filter.glom().collect())  \n",
        "print(new_rdd_filter.glom().collect())  "
      ],
      "metadata": {
        "colab": {
          "base_uri": "https://localhost:8080/"
        },
        "id": "WlLfLnq3M32l",
        "outputId": "345279f1-6088-4ac4-d0c0-7a8c4cf25d5e"
      },
      "execution_count": 69,
      "outputs": [
        {
          "output_type": "stream",
          "name": "stdout",
          "text": [
            "[[], [], [19, 15], [16, 9, 6, 8]]\n",
            "[[19, 15, 16, 9, 6, 8], []]\n"
          ]
        }
      ]
    },
    {
      "cell_type": "code",
      "source": [
        "# flatMap() and reduce() - map to a collection of o/p expressions, \n",
        "  # and performs aggregations using reduce()\n",
        "\n",
        "rdd_fm = rdd1.flatMap(lambda x: [x**2, x**3])\n",
        "\n",
        "print(rdd1.collect)\n",
        "print(rdd_fm.collect())\n"
      ],
      "metadata": {
        "colab": {
          "base_uri": "https://localhost:8080/"
        },
        "id": "qYZs5TK2MISV",
        "outputId": "1ab529b5-ceab-493e-e7f7-ce64b95bcd35"
      },
      "execution_count": 80,
      "outputs": [
        {
          "output_type": "stream",
          "name": "stdout",
          "text": [
            "<bound method RDD.collect of ParallelCollectionRDD[131] at readRDDFromFile at PythonRDD.scala:274>\n",
            "[0, 0, 4, 8, 9, 27, 16, 64, 361, 6859, 225, 3375, 256, 4096, 81, 729, 36, 216, 64, 512]\n"
          ]
        }
      ]
    },
    {
      "cell_type": "code",
      "source": [
        "print(rdd1.glom().collect())\n",
        "print(rdd_fm.glom().collect())"
      ],
      "metadata": {
        "colab": {
          "base_uri": "https://localhost:8080/"
        },
        "id": "-IPsxczTVcFL",
        "outputId": "b2fc9d35-17e2-4131-d11d-85a5c2b9c0f5"
      },
      "execution_count": 81,
      "outputs": [
        {
          "output_type": "stream",
          "name": "stdout",
          "text": [
            "[[0, 2], [3, 4], [19, 15], [16, 9, 6, 8]]\n",
            "[[0, 0, 4, 8], [9, 27, 16, 64], [361, 6859, 225, 3375], [256, 4096, 81, 729, 36, 216, 64, 512]]\n"
          ]
        }
      ]
    },
    {
      "cell_type": "code",
      "source": [
        "rdd_fm.reduce(lambda x,y : x+y)"
      ],
      "metadata": {
        "colab": {
          "base_uri": "https://localhost:8080/"
        },
        "id": "XQybfx8-V6HM",
        "outputId": "49aed4cf-f6a0-4afd-98c5-82a8001dbd11"
      },
      "execution_count": 82,
      "outputs": [
        {
          "output_type": "execute_result",
          "data": {
            "text/plain": [
              "16938"
            ]
          },
          "metadata": {},
          "execution_count": 82
        }
      ]
    },
    {
      "cell_type": "code",
      "source": [
        "# Descriptive Statistics:\n",
        "\n",
        "print(rdd1.max(), rdd1.min(), rdd1.count(), rdd1.mean(), round(rdd1.stdev(),2), rdd1.sum())"
      ],
      "metadata": {
        "colab": {
          "base_uri": "https://localhost:8080/"
        },
        "id": "5C-9YwxLWW3x",
        "outputId": "ae5f9b28-cac4-46c3-d852-1f2ead917c3d"
      },
      "execution_count": 84,
      "outputs": [
        {
          "output_type": "stream",
          "name": "stdout",
          "text": [
            "19 0 10 8.2 6.16 82\n"
          ]
        }
      ]
    },
    {
      "cell_type": "code",
      "source": [
        "# mapPartitions() : Map a function to each parition\n",
        "\n",
        "def fun1(partition):\n",
        "  sum=0\n",
        "\n",
        "  for item in partition:\n",
        "    sum += item\n",
        "  \n",
        "  yield sum\n",
        "\n",
        "rdd_map_part = rdd1.mapPartitions( fun1 ).collect()\n",
        "\n",
        "print(rdd1.glom().collect())\n",
        "print(rdd_map_part)"
      ],
      "metadata": {
        "colab": {
          "base_uri": "https://localhost:8080/"
        },
        "id": "yrL0TsVBadVp",
        "outputId": "ba38f15d-b74d-4a70-d7bb-5236fadb1775"
      },
      "execution_count": 90,
      "outputs": [
        {
          "output_type": "stream",
          "name": "stdout",
          "text": [
            "[[0, 2], [3, 4], [19, 15], [16, 9, 6, 8]]\n",
            "[2, 7, 34, 39]\n"
          ]
        }
      ]
    },
    {
      "cell_type": "code",
      "source": [],
      "metadata": {
        "id": "sRNBvK3sayec"
      },
      "execution_count": null,
      "outputs": []
    }
  ]
}